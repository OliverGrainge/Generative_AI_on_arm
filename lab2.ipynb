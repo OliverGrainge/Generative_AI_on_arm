{
 "cells": [
  {
   "cell_type": "markdown",
   "metadata": {},
   "source": [
    "# **LAB 2: Optimizing Generative AI Workloads on ARM Server Processors**\n",
    "\n",
    "## Introduction\n",
    "\n",
    "Welcome to the second lab in our series on **Optimizing Generative AI Workloads with ARM Processors**! In this hands-on session, you will build on the concepts learned in Lab 1 by learning how to vectorize AI workloads for efficiently with the powerful intrinsics of ARM Neoverse Processors. These include:\n",
    "\n",
    "- **NEON** (for SIMD acceleration)\n",
    "- **DotProd** (dot product extension)\n",
    "- **I8MM** (integer matrix multiplication)\n",
    "- **SVE** (Scalable Vector Extension)\n",
    "\n",
    "We will learn about and utilize these intrinsics through the **KleidiAI library**, which provides optimized microkernels for matrix multiplication, the main workload of AI applications. You will also benchmark these kernels utilizing these different intrinsics to see their performance differences and compare the results to a benchmark library called **BLAS** which is the standard library for linear algebra routines. Beyond benchmarking, you will also integrate these optimized kernels into PyTorch to enable **quantized matrix multiplication**, and deploy your own highly optimized small language model with **4-bit** quantization. \n",
    "\n",
    "---\n",
    "\n",
    "### **Lab Objectives**\n",
    "\n",
    "1. **Explore Advanced ARM Intrinsics**  \n",
    "   Gain a deeper understanding of CPU intrinsics and learn how the specific intrinsics provided by Arm Neoverse, including **DotProd**, **I8MM**, and **SVE**, enhance performance. Explore how these intrinsics,     available in modern ARM architectures, are utilized to accelerate matrix multiplication operations.\n",
    "\n",
    "2. **Learn the KleidiAI Library**  \n",
    "   Discover how KleidiAI implements these intrinsics in microkernels and why it can outperform traditional approaches in certain use cases.\n",
    "\n",
    "3. **Benchmark KleidiAI Against BLAS**  \n",
    "   Implement and benchmark KleidiAI microkernels using different intrinsics against the **BLAS** library to quantify performance benefits.\n",
    "\n",
    "4. **Quantize Matrix Multiplication in PyTorch**  \n",
    "   Integrate the KleidiAI kernels into PyTorch to perform quantized matrix multiplications, comparing performance and accuracy trade-offs.\n",
    "\n",
    "5. **Implement and Evaluate 4-Bit Quantization**  \n",
    "   Apply **groupwise int4 quantization** to the **OpenELM-7B** model, measuring **latency** and **memory** improvements on an ARM Neoverse Server.\n",
    "\n",
    "---\n",
    "### **Prerequisites**\n",
    "\n",
    "- **Basic Knowledge of Linux**: Comfortable working in a Linux terminal.\n",
    "- **C/C++ and Python Programming**: Familiarity with writing and compiling code.\n",
    "- **Matrix Multiplication**: Understanding of linear algebra basics.\n",
    "- **Completion of Lab 1 (Recommended)**: Familiarity with NEON vector instructions and quantization concepts.\n",
    "\n",
    "---\n",
    "**By the end of this lab**, you will have hands-on experience combining low-level ARM intrinsics, specialized libraries, and quantization techniques to push the performance of large language models on ARM server processors. These skills will enable you to optimize generative AI workloads in both **resource-constrained** and **server-class** ARM environments.\n",
    "\n",
    "\n",
    "# 1. Explore Advanced ARM Intrinsics \n",
    "Before we dive into the ARM intrinsic features of Neoverse processors, let's start by preparing example inputs for a matrix multiplication. To make this example relevant to a real neural network, we'll identify and extract the largest matrix multiplication operation used by the OpenELM Large Language Model. This can be done by running the following cells. The first cell downloads the model from Hugging Face, and the second uses a feature of pytorch called model hooks to extract and example activation matrix and the relavant weight matrix. \n"
   ]
  },
  {
   "cell_type": "code",
   "execution_count": 1,
   "metadata": {},
   "outputs": [
    {
     "data": {
      "application/vnd.jupyter.widget-view+json": {
       "model_id": "9cc42714bc0c47cfb01591256bcec3f4",
       "version_major": 2,
       "version_minor": 0
      },
      "text/plain": [
       "tokenizer_config.json:   0%|          | 0.00/776 [00:00<?, ?B/s]"
      ]
     },
     "metadata": {},
     "output_type": "display_data"
    },
    {
     "data": {
      "application/vnd.jupyter.widget-view+json": {
       "model_id": "d68ab27a08f64a7b9c65031c5e1c149d",
       "version_major": 2,
       "version_minor": 0
      },
      "text/plain": [
       "tokenizer.model:   0%|          | 0.00/500k [00:00<?, ?B/s]"
      ]
     },
     "metadata": {},
     "output_type": "display_data"
    },
    {
     "data": {
      "application/vnd.jupyter.widget-view+json": {
       "model_id": "de81f451ec9643238697cfb681bf1b76",
       "version_major": 2,
       "version_minor": 0
      },
      "text/plain": [
       "tokenizer.json:   0%|          | 0.00/1.84M [00:00<?, ?B/s]"
      ]
     },
     "metadata": {},
     "output_type": "display_data"
    },
    {
     "data": {
      "application/vnd.jupyter.widget-view+json": {
       "model_id": "6ec5efde143d4c198f9824e52f49d592",
       "version_major": 2,
       "version_minor": 0
      },
      "text/plain": [
       "special_tokens_map.json:   0%|          | 0.00/414 [00:00<?, ?B/s]"
      ]
     },
     "metadata": {},
     "output_type": "display_data"
    },
    {
     "data": {
      "application/vnd.jupyter.widget-view+json": {
       "model_id": "ac1fa36ab2a14e67ac09c470ecfd017e",
       "version_major": 2,
       "version_minor": 0
      },
      "text/plain": [
       "config.json:   0%|          | 0.00/1.30k [00:00<?, ?B/s]"
      ]
     },
     "metadata": {},
     "output_type": "display_data"
    },
    {
     "data": {
      "application/vnd.jupyter.widget-view+json": {
       "model_id": "7b9c7821f3f84d17b0326bf0382fa7be",
       "version_major": 2,
       "version_minor": 0
      },
      "text/plain": [
       "configuration_openelm.py:   0%|          | 0.00/14.3k [00:00<?, ?B/s]"
      ]
     },
     "metadata": {},
     "output_type": "display_data"
    },
    {
     "name": "stderr",
     "output_type": "stream",
     "text": [
      "A new version of the following files was downloaded from https://huggingface.co/apple/OpenELM-270M-Instruct:\n",
      "- configuration_openelm.py\n",
      ". Make sure to double-check they do not contain any added malicious code. To avoid downloading new versions of the code file, you can pin a revision.\n"
     ]
    },
    {
     "data": {
      "application/vnd.jupyter.widget-view+json": {
       "model_id": "49b0f4a3883c4f82885b43501e9e88fb",
       "version_major": 2,
       "version_minor": 0
      },
      "text/plain": [
       "modeling_openelm.py:   0%|          | 0.00/39.3k [00:00<?, ?B/s]"
      ]
     },
     "metadata": {},
     "output_type": "display_data"
    },
    {
     "name": "stderr",
     "output_type": "stream",
     "text": [
      "A new version of the following files was downloaded from https://huggingface.co/apple/OpenELM-270M-Instruct:\n",
      "- modeling_openelm.py\n",
      ". Make sure to double-check they do not contain any added malicious code. To avoid downloading new versions of the code file, you can pin a revision.\n"
     ]
    },
    {
     "data": {
      "application/vnd.jupyter.widget-view+json": {
       "model_id": "fc2f60696275462ea00b3434bca490ce",
       "version_major": 2,
       "version_minor": 0
      },
      "text/plain": [
       "model.safetensors:   0%|          | 0.00/543M [00:00<?, ?B/s]"
      ]
     },
     "metadata": {},
     "output_type": "display_data"
    },
    {
     "data": {
      "application/vnd.jupyter.widget-view+json": {
       "model_id": "4a4f6775de5a4e45bfa55b98418d1c22",
       "version_major": 2,
       "version_minor": 0
      },
      "text/plain": [
       "generation_config.json:   0%|          | 0.00/111 [00:00<?, ?B/s]"
      ]
     },
     "metadata": {},
     "output_type": "display_data"
    }
   ],
   "source": [
    "import torch \n",
    "from transformers import AutoTokenizer, AutoModelForCausalLM\n",
    "\n",
    "tokenizer = AutoTokenizer.from_pretrained(\"meta-llama/Llama-2-7b-hf\", trust_remote_code=True) # download the tokenizer\n",
    "model = AutoModelForCausalLM.from_pretrained(\"apple/OpenELM-270M-Instruct\", trust_remote_code=True) # download the model (this may take a while)\n",
    "\n"
   ]
  },
  {
   "cell_type": "markdown",
   "metadata": {},
   "source": [
    "### Collect largest weight matmul in LLM \n",
    "The output of the cell below should show you the dimensions of the matrix multiplication inputs. As you can see they are very large and given a matrix multiplication has 'O(sequence_length x input_channels x output_channels)' you can see why perofming this operation could be so important for AI inference. "
   ]
  },
  {
   "cell_type": "code",
   "execution_count": 2,
   "metadata": {},
   "outputs": [
    {
     "name": "stdout",
     "output_type": "stream",
     "text": [
      "The collected weight matrix has shape 32000x1280 (output_channels x input_channels)\n",
      "The collected activation tensor has shape 6x1280 (sequence_length x input_channels)\n"
     ]
    }
   ],
   "source": [
    "import torch\n",
    "import torch.nn.functional as F\n",
    "import os\n",
    "os.environ[\"TOKENIZERS_PARALLELISM\"] = \"false\"\n",
    "activations = {} # Initialize to store the activations\n",
    "\n",
    "prompt = \"Arm is a company that\"  # create a sample prompt for the llm \n",
    "inputs = tokenizer(prompt, return_tensors=\"pt\") # tokenize the prompt ready for inputting into the model\n",
    "\n",
    "# Define a hook function to capture output activation of each matrix multiplication\n",
    "def get_activation_input(name):\n",
    "    def hook(model, input, output):\n",
    "        # 'input' is a tuple; we take the first element for the input tensor\n",
    "        activations[name] = output[0]\n",
    "    return hook\n",
    "\n",
    "\n",
    "# the largest matmul is after the last normalization, We therefor apply the hook \n",
    "# on this layer to the the input for th last matmul which is the projection from \n",
    "# tokens to probabilities over the all possible tokens in the vocabulary.\n",
    "layer = model.transformer.norm\n",
    "hook_handle = layer.register_forward_hook(get_activation_input('token_activations'))\n",
    "\n",
    "# Run the model forward pass\n",
    "with torch.no_grad():\n",
    "    model(**inputs)\n",
    "\n",
    "# Extract the projection weight matrix and the input activation tensor from the hook\n",
    "W = model.transformer.token_embeddings.weight.data.clone()\n",
    "X = activations['token_activations']\n",
    "\n",
    "hook_handle.remove()\n",
    "print(f\"The collected weight matrix has shape {W.shape[0]}x{W.shape[1]} (output_channels x input_channels)\")\n",
    "print(f\"The collected activation tensor has shape {X.shape[0]}x{X.shape[1]} (sequence_length x input_channels)\")"
   ]
  },
  {
   "cell_type": "markdown",
   "metadata": {},
   "source": [
    "# Explanation\n",
    "\n",
    "We have two key tensors:\n",
    "\n",
    "1. **Activation Tensor `X`**: Shape \\([6, 1280]\\)  \n",
    "   - This corresponds to 6 tokens in the input sequence, each represented by a 1280-dimensional embedding generated by the OpenElm transformer.\n",
    "\n",
    "2. **Weight Matrix**: Shape \\([32000, 1280]\\)  \n",
    "   - There are 32,000 possible tokens in the model’s vocabulary, and each token is associated with a 1280-dimensional parameter vector.\n",
    "\n",
    "When we multiply these two tensors, their common dimension of 1280 aligns, producing an output of shape \\([6, 32000]\\). The first dimension corresponds to the 6 tokens in the sequence, and the second dimension corresponds to the 32,000 tokens in the vocabulary.\n",
    "\n",
    "The resulting matrix provides the logits for every token in the vocabulary for each position in the sequence. These logits can then be used to generate probability distributions over the next predicted token.\n",
    "\n",
    "\n",
    "Now that we have saved the inputs to the matrix multiplication, lets measure torch's matrix multiplication latency from python. We can use that as a reference to compare against when using the arm intrinsics for further acceleration. "
   ]
  },
  {
   "cell_type": "markdown",
   "metadata": {},
   "source": [
    "### Benchmark torch latency for the matmul"
   ]
  },
  {
   "cell_type": "code",
   "execution_count": 3,
   "metadata": {},
   "outputs": [
    {
     "name": "stdout",
     "output_type": "stream",
     "text": [
      "7180.43 µs\n"
     ]
    }
   ],
   "source": [
    "import time\n",
    "\n",
    "def measure_time():\n",
    "    start = time.perf_counter()\n",
    "    with torch.no_grad():\n",
    "        y = torch.mm(X, W.T) # perform the matrix multiplication \n",
    "    end = time.perf_counter()\n",
    "    return (end - start) * 1_000_000  # Convert to microseconds\n",
    "\n",
    "# Run multiple times and average\n",
    "times = [measure_time() for _ in range(100)]\n",
    "torch_latency_us = sum(times) / len(times)\n",
    "print(f\"{torch_latency_us:.2f} µs\")"
   ]
  },
  {
   "cell_type": "markdown",
   "metadata": {},
   "source": [
    "Your output should be something order of 7000 microseconds. That is pretty good, but I thik we can do better by utilizing the intrinsics that Neoverse provides. Lets dive into some low-level with c++ to gain grater control and insight as to how the hardware is working. We however still want to use the same matrix multiply inputs as above so lets write them out to disk so our c++ programs can read the same example. "
   ]
  },
  {
   "cell_type": "code",
   "execution_count": 4,
   "metadata": {},
   "outputs": [],
   "source": [
    "!mkdir src/cpp/assets/\n",
    "\n",
    "X.numpy().tofile(\"src/cpp/assets/x_fp32.bin\") # write the activation tensor to disk \n",
    "W.numpy().tofile(\"src/cpp/assets/w_fp32.bin\") # write the weight tensor to disk"
   ]
  },
  {
   "cell_type": "markdown",
   "metadata": {},
   "source": [
    "## Naive Matmul Operator\n",
    "We can again also write the naive implementation of the matrix multiplication in c++ without any parallelization, memory optimizations or vectorization. This is just like in the first lab except that the matrix multiplication is involving non-square matrices, and hence we have to pass the multiplication dimensions 'M, K and N' which are integer values, defining the shape of the matrix multilication (read the code cell comments for more details). Note again that we again store the matrices as a flat pointer, representing the matrices as a single vector in row-major order. (Go back to lab-1 to learn about row-major if you are unsure)"
   ]
  },
  {
   "cell_type": "code",
   "execution_count": 26,
   "metadata": {},
   "outputs": [
    {
     "name": "stdout",
     "output_type": "stream",
     "text": [
      "Overwriting src/cpp/naive/kernel.cpp\n"
     ]
    }
   ],
   "source": [
    "%%writefile src/cpp/naive/kernel.cpp\n",
    "\n",
    "#include <stdio.h>\n",
    "#include <stdlib.h>\n",
    "#include <time.h>\n",
    "\n",
    "void matrix_multiply_naive(float* A, float* B, float* C, int M, int K, int N) {\n",
    "    // # M: the number of rows in the left hand matric (M = A.shape[0])\n",
    "    // # K: the inner dimensions of the multiple (K == A.shape[1] == B.shape[0])\n",
    "    // # N: the number of columns in the right hand matrix (N == B.shape[1])\n",
    "    for (int i = 0; i < M; i++) {\n",
    "        for (int j = 0; j < N; j++) {\n",
    "            C[i * N + j] = 0;\n",
    "            for (int k = 0; k < K; k++) {\n",
    "                C[i * N + j] += A[i * K + k] * B[k * N + j];\n",
    "            }\n",
    "        }\n",
    "    }\n",
    "}"
   ]
  },
  {
   "cell_type": "markdown",
   "metadata": {},
   "source": [
    "### Benchmark the Naive Operator"
   ]
  },
  {
   "cell_type": "markdown",
   "metadata": {},
   "source": [
    "We have written some benchmark code inside 'src/cpp/naive/benchmark_naive.cpp' that will measure the kernels latency. You can build, compile and run it using the cell below"
   ]
  },
  {
   "cell_type": "code",
   "execution_count": 27,
   "metadata": {},
   "outputs": [
    {
     "name": "stdout",
     "output_type": "stream",
     "text": [
      "-- Configuring done (0.0s)\n",
      "-- Generating done (0.0s)\n",
      "-- Build files have been written to: /home/ubuntu/Generative_AI_on_arm/src/cpp/naive/build\n",
      "[ 33%] \u001b[32mBuilding CXX object CMakeFiles/benchmark_naive.dir/benchmark_naive.cpp.o\u001b[0m\n",
      "[ 66%] \u001b[32mBuilding CXX object CMakeFiles/benchmark_naive.dir/kernel.cpp.o\u001b[0m\n",
      "[100%] \u001b[32m\u001b[1mLinking CXX executable benchmark_naive\u001b[0m\n",
      "[100%] Built target benchmark_naive\n",
      " \n",
      "======> Benchmarking Naive Kernel <========\n",
      "Time taken: 1.18941e+06 microseconds\n",
      "=========> Benchmark completed. <========== \n",
      "\n"
     ]
    }
   ],
   "source": [
    "import os\n",
    "import subprocess\n",
    "\n",
    "# Set environment variable\n",
    "os.environ[\"TOKENIZERS_PARALLELISM\"] = \"false\"\n",
    "\n",
    "# Define the build directory path\n",
    "build_dir = \"src/cpp/naive/build\"\n",
    "\n",
    "# Create the build directory if it doesn't exist\n",
    "os.makedirs(build_dir, exist_ok=True)\n",
    "\n",
    "# Configure the project with CMake\n",
    "subprocess.run([\"cmake\", \"..\"], cwd=build_dir, check=True)\n",
    "\n",
    "# Build the project using Make\n",
    "subprocess.run([\"make\"], cwd=build_dir, check=True)\n",
    "print(\" \")\n",
    "print(\"======> Benchmarking Naive Kernel <========\")\n",
    "# Execute the benchmark binary\n",
    "subprocess.run([\"./benchmark_naive\"], cwd=build_dir)\n",
    "print(\"=========> Benchmark completed. <========== \\n\")\n"
   ]
  },
  {
   "cell_type": "markdown",
   "metadata": {},
   "source": [
    "The naive kernel achieves a latency of approximately 1000 microseconds, making it roughly 7 times faster than PyTorch in Python. This performance gain is primarily due to the lower overhead of C++ implementations compared to Python. While PyTorch employs highly optimized binary kernels internally, the Python interface introduces additional latency through dynamic type checking, interpreter overhead, and function call dispatch. In contrast, C++ provides direct, low-level control over memory and computation, minimizing such overhead.\n",
    "\n",
    "As a result, using the PyTorch Python example for comparison with this naive C++ implementation is not ideal. A more appropriate comparison would be with the KleidiAI library, a highly efficient matrix multiplication library written in C++ and Assembly specifically optimized for ARM devices. KleidiAI leverages advanced techniques such as MicroKernels and ARM intrinsic features to accelerate computation.\n",
    "\n",
    "Let us start by cloning the KleidiAI library."
   ]
  },
  {
   "cell_type": "markdown",
   "metadata": {},
   "source": [
    "# Clone KleidiAI"
   ]
  },
  {
   "cell_type": "code",
   "execution_count": 28,
   "metadata": {},
   "outputs": [
    {
     "name": "stdout",
     "output_type": "stream",
     "text": [
      "fatal: destination path 'kleidiai' already exists and is not an empty directory.\n"
     ]
    }
   ],
   "source": [
    "!git clone https://git.gitlab.arm.com/kleidi/kleidiai.git"
   ]
  },
  {
   "cell_type": "markdown",
   "metadata": {},
   "source": [
    "## Understanding the KleidiAI Micro-Kernel"
   ]
  },
  {
   "cell_type": "markdown",
   "metadata": {},
   "source": [
    "The KleidiAI micro-kernel, available from the KleidiAI library is a minimal, highly optimized piece of code designed to accelerate a specific machine learning operations on ARM CPUs. Unlike typical kernels or functions, micro-kernels are crafted to provide flexibility in how they process data, allowing them to handle portions of an output tensor rather than requiring the entire operation to be completed in one step. This flexibility enables efficient parallelization across multiple threads and improves performance by tailoring the computation to different hardware architectures and output tile sizes. For instance, you can partition a single matrix multiplication into multiple blocks of computation, and pass each of these blocks to a KleidiAI micro-kernels accross different processing cores, thereby increasing throughput. \n",
    "\n",
    "Micro-kernels are available in different variants, each optimized for specific ARM architectures, technologies, and computational parameters. Despite these variations, all micro-kernel variants of the same type perform the same operation and produce identical results, ensuring consistency across different hardware and configurations. We will next go through variations of KleidiAI micro-kernels, learn about their naming conventions and the technologies they use to accelerate our matrix multiplcation example. First up, is the NEON SIMD processing concept that we learn't about in Lab1 for the floating point 32 precision. "
   ]
  },
  {
   "cell_type": "markdown",
   "metadata": {},
   "source": [
    "## Creating a Kleidi Kernel"
   ]
  },
  {
   "cell_type": "markdown",
   "metadata": {},
   "source": [
    "The KleidiAI micro-kernels are located in the kleidiai/kai/ukernels directory. These variants follow a specific naming convention:\n",
    "\n",
    "`kai_matmul_<fused_ops>_<dst_info>_<lhs_info>_<rhs_info>_<mr x nr x kacc>_<technology>_<feature>_<instruction>`\n",
    "\n",
    "In this convention, `fused_ops` specifies additional operations integrated with the matrix multiplication. For example, `clamp` represents an operation that clamps the input activations to ensure numerical stability.\n",
    "`dst_info` defines the output data type. `lhs_info` provides information about the input data type, referring to where the activation tensor is supplied. `rhs_info` specifies the data type of the weights.\n",
    "You can refer to the repository documentation for a detailed explanation of the naming conventions used for data types. For now, we will explore several examples and explain their components step by step, starting with the floating point 32 matrix muliplication. "
   ]
  },
  {
   "cell_type": "markdown",
   "metadata": {},
   "source": [
    "# FP32 NEON MLA"
   ]
  },
  {
   "cell_type": "code",
   "execution_count": 29,
   "metadata": {},
   "outputs": [
    {
     "name": "stdout",
     "output_type": "stream",
     "text": [
      "Overwriting src/cpp/f32_f32_f32p/kernel.cpp\n"
     ]
    }
   ],
   "source": [
    "%%writefile src/cpp/f32_f32_f32p/kernel.cpp\n",
    "\n",
    "#include <arm_neon.h>\n",
    "\n",
    "#include \"kai_matmul_clamp_f32_f32_f32p8x1biasf32_6x8x4_neon_mla.h\"\n",
    "#include \"kai_matmul_clamp_f32_f32_f32p_interface.h\"\n",
    "\n",
    "\n",
    "constexpr kai_matmul_clamp_f32_f32_f32p_ukernel ukernel{\n",
    "    kai_get_m_step_matmul_clamp_f32_f32_f32p8x1biasf32_6x8x4_neon_mla,\n",
    "    kai_get_n_step_matmul_clamp_f32_f32_f32p8x1biasf32_6x8x4_neon_mla,\n",
    "    kai_get_nr_matmul_clamp_f32_f32_f32p8x1biasf32_6x8x4_neon_mla,\n",
    "    kai_get_kr_matmul_clamp_f32_f32_f32p8x1biasf32_6x8x4_neon_mla,\n",
    "    kai_get_sr_matmul_clamp_f32_f32_f32p8x1biasf32_6x8x4_neon_mla,\n",
    "    kai_get_lhs_offset_matmul_clamp_f32_f32_f32p8x1biasf32_6x8x4_neon_mla,\n",
    "    kai_get_rhs_packed_offset_matmul_clamp_f32_f32_f32p8x1biasf32_6x8x4_neon_mla,\n",
    "    kai_get_dst_offset_matmul_clamp_f32_f32_f32p8x1biasf32_6x8x4_neon_mla,\n",
    "    kai_get_dst_size_matmul_clamp_f32_f32_f32p8x1biasf32_6x8x4_neon_mla,\n",
    "    kai_run_matmul_clamp_f32_f32_f32p8x1biasf32_6x8x4_neon_mla};"
   ]
  },
  {
   "cell_type": "markdown",
   "metadata": {},
   "source": [
    "The above cell defines a KleidiAI micro-kernel with the following struct name:\n",
    "\n",
    "`kai_matmul_clamp_f32_f32_f32p_ukernel`\n",
    "\n",
    "In this kernel, `f32` is specified as both `lhs_info` and `dst_info`, meaning it operates on 32-bit floating point precision for both the input activation tensor and the output data. The right-hand side (`rhs_info`) is also `f32`, but with a `p` suffix, indicating that the right-hand input (the weight matrix) must be packed in a specific format.\n",
    "\n",
    "Packing the weight matrix is a key optimization used by KleidiAI. It aligns the data in memory to enhance memory locality, ensuring more efficient memory access patterns and increasing cache efficiency. By leveraging techniques such as tiling, loop unrolling, NEON SIMD vectorization, and packed weight matrices, the micro-kernel achieves fast access patterns, minimizes memory latency, and maximizes computational throughput. These optimizations collectively lead to a significant reduction in overall latency compared to a naive implementation. Lets test it and see what improvements we get. "
   ]
  },
  {
   "cell_type": "markdown",
   "metadata": {},
   "source": [
    "### Build and Benchmark the 32-bit Floating Point Kernel "
   ]
  },
  {
   "cell_type": "code",
   "execution_count": 51,
   "metadata": {},
   "outputs": [
    {
     "name": "stdout",
     "output_type": "stream",
     "text": [
      "-- Configuring done (0.0s)\n",
      "-- Generating done (0.0s)\n",
      "-- Build files have been written to: /home/ubuntu/Generative_AI_on_arm/src/cpp/f32_f32_f32p/build\n",
      "[ 33%] Built target benchmark_f32\n",
      "[ 66%] Built target benchmark_f32_scaling\n",
      "[100%] Built target kai_f32_inf\n",
      " \n",
      "=====> Benchmarking KleidiAI FP32 Kernel <========\n",
      "Time taken: 11540 microseconds\n",
      "===========> Benchmark completed. <=============== \n",
      "\n"
     ]
    }
   ],
   "source": [
    "import os\n",
    "import subprocess\n",
    "\n",
    "# Set environment variable\n",
    "os.environ[\"TOKENIZERS_PARALLELISM\"] = \"false\"\n",
    "\n",
    "# Define the build directory path\n",
    "build_dir = \"src/cpp/f32_f32_f32p/build\"\n",
    "\n",
    "# Create the build directory if it doesn't exist\n",
    "os.makedirs(build_dir, exist_ok=True)\n",
    "\n",
    "# Configure the project with CMake\n",
    "subprocess.run([\"cmake\", \"..\"], cwd=build_dir, check=True)\n",
    "\n",
    "# Build the project using Make\n",
    "subprocess.run([\"make\"], cwd=build_dir, check=True)\n",
    "\n",
    "print(\" \")\n",
    "print(\"=====> Benchmarking KleidiAI FP32 Kernel <========\")\n",
    "# Execute the benchmark binary\n",
    "subprocess.run([\"./benchmark_f32\"], cwd=build_dir)\n",
    "print(\"===========> Benchmark completed. <=============== \\n\")"
   ]
  },
  {
   "cell_type": "markdown",
   "metadata": {},
   "source": [
    "The result should be in the range of tens of microseconds, which is impressive. By using the KleidiAI kernels, we achieve a **1000x improvement in latency** compared to the naive kernel, and this is without applying any quantization. To better understand how this performance is achieved, we can use a tool called **process watch** to examine the intrinsics used by the operator. Please follow the instructions below carefully. There are four steps:\n",
    "\n",
    "**Step 1:**  \n",
    "Run the first code cell below. This will execute the matrix multiplication in an infinite loop, ensuring that the process does not terminate. The output will include a **Process ID (PID)**, which we will use to analyze the computation.\n",
    "\n",
    "**Step 2:**  \n",
    "Copy the **PID** from the first cell and paste it into the second cell after the `-p` flag. This will configure the process watch tool to monitor the running matrix multiplication process and display its analysis in real time.\n",
    "\n",
    "**Step 3:**  \n",
    "Once the analysis has been printed a few times, interrupt the kernel to stop the output. To do this, go to the top-left menu in JupyterLab, click on **Kernel**, and select **Interrupt Kernel**.\n",
    "\n",
    "**Step 4:**  \n",
    "Finally, run the third code cell to terminate the matrix multiplication process.\n"
   ]
  },
  {
   "cell_type": "markdown",
   "metadata": {},
   "source": [
    "Lets use a tool called process watch to check what kernels are being run?"
   ]
  },
  {
   "cell_type": "code",
   "execution_count": 52,
   "metadata": {},
   "outputs": [
    {
     "name": "stdout",
     "output_type": "stream",
     "text": [
      "Main process ID: 20665\n"
     ]
    }
   ],
   "source": [
    "import subprocess\n",
    "import os\n",
    "import time\n",
    "import signal\n",
    "\n",
    "# Run the main process\n",
    "process = subprocess.Popen(\n",
    "    [\"src/cpp/f32_f32_f32p/build/kai_f32_inf\"],\n",
    "    stdout=subprocess.PIPE,\n",
    "    stderr=subprocess.PIPE\n",
    ")\n",
    "\n",
    "print(f\"Main process ID: {process.pid}\")"
   ]
  },
  {
   "cell_type": "code",
   "execution_count": 53,
   "metadata": {},
   "outputs": [
    {
     "name": "stdout",
     "output_type": "stream",
     "text": [
      "\n",
      "PID      NAME             NEON     SVE      SVE2     MatMulIn DotProd  %TOTAL   TOTAL   \n",
      "ALL      ALL              71.38    0.00     0.00     0.00     0.00     100.00   23240   \n",
      "20665    kai_f32_inf      71.38    0.00     0.00     0.00     0.00     100.00   23240   \n",
      "^C\n"
     ]
    }
   ],
   "source": [
    "!sudo ./processwatch/processwatch -p 20665 -f HasNEON -f HasSVE -f HasSVE2 -f HasMatMulInt8 -f HasDotProd "
   ]
  },
  {
   "cell_type": "code",
   "execution_count": 54,
   "metadata": {},
   "outputs": [],
   "source": [
    "import os\n",
    "import signal\n",
    "\n",
    "os.kill(process.pid, signal.SIGTERM)"
   ]
  },
  {
   "cell_type": "markdown",
   "metadata": {},
   "source": [
    "The analysis should show roughly 70% of the instructions are using the NEON SIMD registers, and hence making very effective use of parallelization to acheive this vectorization. Next we can implement the exact smae kernel with the KleidiAI library using the cell below but utilizing fp16 precision not fp32. This saves half the memory bandwidth. "
   ]
  },
  {
   "cell_type": "markdown",
   "metadata": {},
   "source": [
    "# FP16 NEON MLA \n",
    "\n",
    "Next up is the floating point 16 kernel. This uses the floating point 16 precision with just 16 bits as opposed to fp32 that uses 32. Use half the memory per element reduces the load on memory bandwidth as less data needs to be read and written to DRAM. "
   ]
  },
  {
   "cell_type": "code",
   "execution_count": 55,
   "metadata": {},
   "outputs": [
    {
     "name": "stdout",
     "output_type": "stream",
     "text": [
      "Overwriting src/cpp/f16_f16_f16p/kernel.cpp\n"
     ]
    }
   ],
   "source": [
    "%%writefile src/cpp/f16_f16_f16p/kernel.cpp\n",
    "\n",
    "#include <arm_neon.h>\n",
    "\n",
    "#include \"kai_matmul_clamp_f16_f16_f16p16x1biasf16_6x16x8_neon_mla.h\"\n",
    "#include \"kai_matmul_clamp_f16_f16_f16p_interface.h\"\n",
    "\n",
    "constexpr kai_matmul_clamp_f16_f16_f16p_ukernel ukernel{\n",
    "    kai_get_m_step_matmul_clamp_f16_f16_f16p16x1biasf16_6x16x8_neon_mla,\n",
    "    kai_get_n_step_matmul_clamp_f16_f16_f16p16x1biasf16_6x16x8_neon_mla,\n",
    "    kai_get_nr_matmul_clamp_f16_f16_f16p16x1biasf16_6x16x8_neon_mla,\n",
    "    kai_get_kr_matmul_clamp_f16_f16_f16p16x1biasf16_6x16x8_neon_mla,\n",
    "    kai_get_sr_matmul_clamp_f16_f16_f16p16x1biasf16_6x16x8_neon_mla,\n",
    "    kai_get_lhs_offset_matmul_clamp_f16_f16_f16p16x1biasf16_6x16x8_neon_mla,\n",
    "    kai_get_rhs_packed_offset_matmul_clamp_f16_f16_f16p16x1biasf16_6x16x8_neon_mla,\n",
    "    kai_get_dst_offset_matmul_clamp_f16_f16_f16p16x1biasf16_6x16x8_neon_mla,\n",
    "    kai_get_dst_size_matmul_clamp_f16_f16_f16p16x1biasf16_6x16x8_neon_mla,\n",
    "    kai_run_matmul_clamp_f16_f16_f16p16x1biasf16_6x16x8_neon_mla};"
   ]
  },
  {
   "cell_type": "markdown",
   "metadata": {},
   "source": [
    "### Build and Benchmark the 16-bit Floating Point Kernel "
   ]
  },
  {
   "cell_type": "code",
   "execution_count": 56,
   "metadata": {},
   "outputs": [
    {
     "name": "stdout",
     "output_type": "stream",
     "text": [
      "-- Configuring done (0.0s)\n",
      "-- Generating done (0.0s)\n",
      "-- Build files have been written to: /home/ubuntu/Generative_AI_on_arm/src/cpp/f16_f16_f16p/build\n",
      "[  6%] \u001b[32mBuilding CXX object CMakeFiles/benchmark_f16.dir/benchmark_f16.cpp.o\u001b[0m\n",
      "[ 13%] \u001b[32mBuilding CXX object CMakeFiles/benchmark_f16.dir/kernel.cpp.o\u001b[0m\n",
      "[ 20%] \u001b[32m\u001b[1mLinking CXX executable benchmark_f16\u001b[0m\n",
      "[ 33%] Built target benchmark_f16\n",
      "[ 40%] \u001b[32mBuilding CXX object CMakeFiles/benchmark_f16_scaling.dir/benchmark_f16_scaling.cpp.o\u001b[0m\n",
      "[ 46%] \u001b[32mBuilding CXX object CMakeFiles/benchmark_f16_scaling.dir/kernel.cpp.o\u001b[0m\n",
      "[ 53%] \u001b[32m\u001b[1mLinking CXX executable benchmark_f16_scaling\u001b[0m\n",
      "[ 66%] Built target benchmark_f16_scaling\n",
      "[ 73%] \u001b[32mBuilding CXX object CMakeFiles/kai_f16_inf.dir/kai_f16_inf.cpp.o\u001b[0m\n",
      "[ 80%] \u001b[32mBuilding CXX object CMakeFiles/kai_f16_inf.dir/kernel.cpp.o\u001b[0m\n",
      "[ 86%] \u001b[32m\u001b[1mLinking CXX executable kai_f16_inf\u001b[0m\n",
      "[100%] Built target kai_f16_inf\n",
      " \n",
      "=====> Benchmarking KleidiAI FP16 Kernel <========\n",
      "Time taken: 5925 microseconds\n",
      "===========> Benchmark completed. <=============== \n",
      "\n"
     ]
    }
   ],
   "source": [
    "import os\n",
    "import subprocess\n",
    "\n",
    "# Set environment variable\n",
    "os.environ[\"TOKENIZERS_PARALLELISM\"] = \"false\"\n",
    "\n",
    "# Define the build directory path\n",
    "build_dir = \"src/cpp/f16_f16_f16p/build\"\n",
    "\n",
    "# Create the build directory if it doesn't exist\n",
    "os.makedirs(build_dir, exist_ok=True)\n",
    "\n",
    "# Configure the project with CMake\n",
    "subprocess.run([\"cmake\", \"..\"], cwd=build_dir, check=True)\n",
    "\n",
    "# Build the project using Make\n",
    "subprocess.run([\"make\"], cwd=build_dir, check=True)\n",
    "\n",
    "print(\" \")\n",
    "print(\"=====> Benchmarking KleidiAI FP16 Kernel <========\")\n",
    "# Execute the benchmark binary\n",
    "subprocess.run([\"./benchmark_f16\"], cwd=build_dir)\n",
    "print(\"===========> Benchmark completed. <=============== \\n\")\n"
   ]
  },
  {
   "cell_type": "markdown",
   "metadata": {},
   "source": [
    "Your benchmark for the FP16 kernel should aroung the 6000 microseconds mark, representing an improvement over the previous FP32 kernel. This performance gain is achievable due to the Neoverse architecture’s native support for FP16 data types. Additionally, since FP16 precision uses only half the number of bits compared to FP32, the memory bandwidth requirement for reading and writing from main memory is significantly reduced. This reduction not only lowers the bandwidth load but also enhances cache utilization, improving the cache hit rate and further reducing latency.\n",
    "\n",
    "Let now analalysis the computational workload using **processwatch**. Please follow the same 4 steps that were taken for the f32 kernel. "
   ]
  },
  {
   "cell_type": "code",
   "execution_count": 57,
   "metadata": {},
   "outputs": [
    {
     "name": "stdout",
     "output_type": "stream",
     "text": [
      "Main process ID: 20764\n"
     ]
    }
   ],
   "source": [
    "import subprocess\n",
    "import os\n",
    "import time\n",
    "import signal\n",
    "\n",
    "# Run the main process\n",
    "process = subprocess.Popen(\n",
    "    [\"src/cpp/f16_f16_f16p/build/kai_f16_inf\"],\n",
    "    stdout=subprocess.PIPE,\n",
    "    stderr=subprocess.PIPE\n",
    ")\n",
    "\n",
    "print(f\"Main process ID: {process.pid}\")"
   ]
  },
  {
   "cell_type": "code",
   "execution_count": 58,
   "metadata": {},
   "outputs": [
    {
     "name": "stdout",
     "output_type": "stream",
     "text": [
      "\n",
      "PID      NAME             NEON     SVE      SVE2     MatMulIn DotProd  %TOTAL   TOTAL   \n",
      "ALL      ALL              83.97    0.00     0.00     0.00     0.00     100.00   23227   \n",
      "20764    kai_f16_inf      83.97    0.00     0.00     0.00     0.00     100.00   23227   \n",
      "^C\n"
     ]
    }
   ],
   "source": [
    "!sudo ./processwatch/processwatch -p 20764 -f HasNEON -f HasSVE -f HasSVE2 -f HasMatMulInt8 -f HasDotProd "
   ]
  },
  {
   "cell_type": "code",
   "execution_count": 59,
   "metadata": {},
   "outputs": [],
   "source": [
    "import os\n",
    "import signal\n",
    "\n",
    "os.kill(process.pid, signal.SIGTERM)"
   ]
  },
  {
   "cell_type": "markdown",
   "metadata": {},
   "source": [
    "The process watch should indicate an increase in the percentage of NEON instructions utilized conpared to floating point 32. This is because FP16 operations reduce memory bandwidth requirements when reading and writing half-precision activations and weights compared to full precision. Consequently, the CPU can devote more cycles to computation rather than being stalled by memory access, resulting in higher overall computational efficiency. Now lets move on to learn about some of the key featurs of ARM Neoverse Architectures that can be used to further accelerate AI workloads"
   ]
  },
  {
   "cell_type": "markdown",
   "metadata": {},
   "source": [
    "## DotProd\n",
    "\n",
    "The next extension we will introdce is the **DotProd**. The dotprod extension uses dot product instructions, and offers a powerful way to perform multiply-accumulate operations on vectors, which can be used to multipily rows and columns of the weight and activation matrices for a full matrix multiplication. There are two types of these instructions:\n",
    "\n",
    "- **SDOT**: Signed Dot Product\n",
    "- **UDOT**: Unsigned Dot Product\n",
    "\n",
    "### How They Work\n",
    "\n",
    "These instructions operate on **32-bit elements** packed inside larger vectors (either 64-bit, 128-bit NEON vectors, or scalable vectors in SVE2). Within each 32-bit element, there are four **8-bit sub-elements**. The dot product process follows these steps:\n",
    "\n",
    "1. **Multiply**: Each 8-bit element in a 32-bit segment of the first vector is multiplied by the corresponding 8-bit element in the second vector.\n",
    "2. **Accumulate Products**: The four resulting products within each 32-bit segment are summed together to create a new 32-bit value.\n",
    "3. **Add to Destination**: This 32-bit sum is then added to the corresponding 32-bit element in the destination vector.\n",
    "\n",
    "This effectively computes an inner, dot, or scalar product for each set of four 8-bit pairs, updating the destination vector elements as follows:\n",
    "\n",
    "c0 = c0 + ( (a0 * b0) + (a1 * b1) + (a2 * b2) + (a3 * b3) )\n",
    "\n",
    "### Performance Benefits\n",
    "\n",
    "The dot product instructions are designed to maximize parallel computation:\n",
    "\n",
    "- Processors like **Arm Cortex-X2** and **Arm Neoverse V1** can execute **four dot product instructions in parallel**.\n",
    "- This parallelism allows them to handle **four 128-bit operations per cycle**.\n",
    "- Each 128-bit operation contains four groups of four 8-bit multiplies and accumulates, resulting in a total of **64 multiply and accumulate operations per cycle**.\n",
    "\n",
    "\n",
    "Lets see it in action, first however we need to define the KleidiAI microkernel that uses the dotprod insturctions. "
   ]
  },
  {
   "cell_type": "code",
   "execution_count": 75,
   "metadata": {},
   "outputs": [
    {
     "name": "stdout",
     "output_type": "stream",
     "text": [
      "Overwriting src/cpp/f32_i8_i4_dotprod/kernel.cpp\n"
     ]
    }
   ],
   "source": [
    "%%writefile src/cpp/f32_i8_i4_dotprod/kernel.cpp\n",
    "\n",
    "#include <arm_neon.h>\n",
    "#include <string>\n",
    "\n",
    "#include \"kai_matmul_clamp_f32_qsi8d32p1x8_qsi4c32p4x8_1x4x32_neon_dotprod.h\"\n",
    "#include \"kai_matmul_clamp_f32_qsi8d32p_qsi4c32p_interface.h\"\n",
    "\n",
    "\n",
    "constexpr kai_matmul_clamp_f32_qsi8d32p_qsi4c32p_ukernel ukernel{\n",
    "    kai_get_m_step_matmul_clamp_f32_qsi8d32p1x8_qsi4c32p4x8_1x4x32_neon_dotprod,\n",
    "    kai_get_n_step_matmul_clamp_f32_qsi8d32p1x8_qsi4c32p4x8_1x4x32_neon_dotprod,\n",
    "    kai_get_mr_matmul_clamp_f32_qsi8d32p1x8_qsi4c32p4x8_1x4x32_neon_dotprod,\n",
    "    kai_get_nr_matmul_clamp_f32_qsi8d32p1x8_qsi4c32p4x8_1x4x32_neon_dotprod,\n",
    "    kai_get_kr_matmul_clamp_f32_qsi8d32p1x8_qsi4c32p4x8_1x4x32_neon_dotprod,\n",
    "    kai_get_sr_matmul_clamp_f32_qsi8d32p1x8_qsi4c32p4x8_1x4x32_neon_dotprod,\n",
    "    kai_get_lhs_packed_offset_matmul_clamp_f32_qsi8d32p1x8_qsi4c32p4x8_1x4x32_neon_dotprod,\n",
    "    kai_get_rhs_packed_offset_matmul_clamp_f32_qsi8d32p1x8_qsi4c32p4x8_1x4x32_neon_dotprod,\n",
    "    kai_get_dst_offset_matmul_clamp_f32_qsi8d32p1x8_qsi4c32p4x8_1x4x32_neon_dotprod,\n",
    "    kai_get_dst_size_matmul_clamp_f32_qsi8d32p1x8_qsi4c32p4x8_1x4x32_neon_dotprod,\n",
    "    kai_run_matmul_clamp_f32_qsi8d32p1x8_qsi4c32p4x8_1x4x32_neon_dotprod};"
   ]
  },
  {
   "cell_type": "markdown",
   "metadata": {},
   "source": [
    "The naming convention for this kernel may seem complex at first, but let's break it down step by step:\n",
    "\n",
    "### Destination Information (`dst_info`)\n",
    "- **`dst_info`**: This part is similar to the previous format using `f32`, indicating that the output of the matrix multiplication is a 32-bit tensor.\n",
    "\n",
    "### Left-Hand Side Information (`lhs_info`)\n",
    "- **`lhs_info`**: The identifier `qsi8d32p` carries detailed information about the left-hand side tensor:\n",
    "  - **`q`**: Indicates that the tensor is quantized.\n",
    "  - **`s`**: Specifies that the quantization is symmetric.\n",
    "  - **`i8`**: The quantized data type is 8-bit integer (`int8`).\n",
    "  - **`d32`**: Signifies per-dimension quantization, meaning there is one scalar quantization parameter for each dimension.\n",
    "  - **`p`**: Indicates that the matrix must be **packed** for efficient processing.\n",
    "\n",
    "### Right-Hand Side Information (`rhs_info`)\n",
    "- **`rhs_info`**: The identifier `qsi4c32p` describes the right-hand side tensor:\n",
    "  - **`q`**: Indicates that the tensor is quantized.\n",
    "  - **`s`**: Specifies that the quantization is symmetric.\n",
    "  - **`i4`**: The quantized data type is 4-bit integer (`int4`).\n",
    "  - **`c32`**: Means per-group quantization, with a single scale parameter for every 32 elements in the tensor.\n",
    "  - **`p`**: Indicates that the matrix must be **packed**."
   ]
  },
  {
   "cell_type": "markdown",
   "metadata": {},
   "source": [
    "### Build and Run "
   ]
  },
  {
   "cell_type": "code",
   "execution_count": 76,
   "metadata": {},
   "outputs": [
    {
     "name": "stdout",
     "output_type": "stream",
     "text": [
      "-- Configuring done (0.0s)\n",
      "-- Generating done (0.0s)\n",
      "-- Build files have been written to: /home/ubuntu/Generative_AI_on_arm/src/cpp/f32_i8_i4_dotprod/build\n",
      "[  5%] \u001b[32mBuilding CXX object CMakeFiles/benchmark_dotprod.dir/benchmark_i8_dotprod.cpp.o\u001b[0m\n",
      "[ 11%] \u001b[32mBuilding CXX object CMakeFiles/benchmark_dotprod.dir/kernel.cpp.o\u001b[0m\n",
      "[ 16%] \u001b[32m\u001b[1mLinking CXX executable benchmark_dotprod\u001b[0m\n",
      "[ 33%] Built target benchmark_dotprod\n",
      "[ 38%] \u001b[32mBuilding CXX object CMakeFiles/benchmark_dotprod_scaling.dir/benchmark_i8_dotprod_scaling.cpp.o\u001b[0m\n",
      "[ 44%] \u001b[32mBuilding CXX object CMakeFiles/benchmark_dotprod_scaling.dir/kernel.cpp.o\u001b[0m\n",
      "[ 50%] \u001b[32m\u001b[1mLinking CXX executable benchmark_dotprod_scaling\u001b[0m\n",
      "[ 66%] Built target benchmark_dotprod_scaling\n",
      "[ 72%] \u001b[32mBuilding CXX object CMakeFiles/kai_i8_dotprod_inf.dir/kai_i8_dotprod_inf.cpp.o\u001b[0m\n",
      "[ 77%] \u001b[32mBuilding CXX object CMakeFiles/kai_i8_dotprod_inf.dir/kernel.cpp.o\u001b[0m\n",
      "[ 83%] \u001b[32m\u001b[1mLinking CXX executable kai_i8_dotprod_inf\u001b[0m\n",
      "[100%] Built target kai_i8_dotprod_inf\n",
      " \n",
      "=====> Benchmarking KleidiAI Int8 DotProd Kernel <========\n",
      "Time taken: 12543 microseconds\n",
      "=================> Benchmark completed. <================= \n",
      "\n"
     ]
    }
   ],
   "source": [
    "import os\n",
    "import subprocess\n",
    "\n",
    "# Set environment variable\n",
    "os.environ[\"TOKENIZERS_PARALLELISM\"] = \"false\"\n",
    "\n",
    "# Define the build directory path\n",
    "build_dir = \"src/cpp/f32_i8_i4_dotprod/build\"\n",
    "\n",
    "# Create the build directory if it doesn't exist\n",
    "os.makedirs(build_dir, exist_ok=True)\n",
    "\n",
    "# Configure the project with CMake\n",
    "subprocess.run([\"cmake\", \"..\"], cwd=build_dir, check=True)\n",
    "\n",
    "# Build the project using Make\n",
    "subprocess.run([\"make\"], cwd=build_dir, check=True)\n",
    "\n",
    "print(\" \")\n",
    "print(\"=====> Benchmarking KleidiAI Int8 DotProd Kernel <========\")\n",
    "# Execute the benchmark binary\n",
    "subprocess.run([\"./benchmark_dotprod\"], cwd=build_dir)\n",
    "print(\"=================> Benchmark completed. <================= \\n\")"
   ]
  },
  {
   "cell_type": "code",
   "execution_count": 77,
   "metadata": {},
   "outputs": [
    {
     "name": "stdout",
     "output_type": "stream",
     "text": [
      "Main process ID: 21313\n"
     ]
    }
   ],
   "source": [
    "import subprocess\n",
    "import os\n",
    "import time\n",
    "import signal\n",
    "\n",
    "# Run the main process\n",
    "process = subprocess.Popen(\n",
    "    [\"src/cpp/f32_i8_i4_dotprod/build/kai_i8_dotprod_inf\"],\n",
    "    stdout=subprocess.PIPE,\n",
    "    stderr=subprocess.PIPE\n",
    ")\n",
    "\n",
    "print(f\"Main process ID: {process.pid}\")"
   ]
  },
  {
   "cell_type": "code",
   "execution_count": 78,
   "metadata": {},
   "outputs": [
    {
     "name": "stdout",
     "output_type": "stream",
     "text": [
      "Failed to initialize perf sampling: No such process\n",
      "Failed to open perf event.\n"
     ]
    }
   ],
   "source": [
    "!sudo ./processwatch/processwatch -p 20865 -f HasNEON -f HasSVE -f HasSVE2 -f HasMatMulInt8 -f HasDotProd "
   ]
  },
  {
   "cell_type": "code",
   "execution_count": 79,
   "metadata": {},
   "outputs": [],
   "source": [
    "import os\n",
    "import signal\n",
    "\n",
    "os.kill(process.pid, signal.SIGTERM)"
   ]
  },
  {
   "cell_type": "markdown",
   "metadata": {},
   "source": [
    "Process watch should show you in the DotProd column that roughly 5 percent of the instructions utilize the dot product extension, indicating the kernel is sucessfully utilizing the acceleration extension. "
   ]
  },
  {
   "cell_type": "markdown",
   "metadata": {},
   "source": [
    "## i8mm Extension\n",
    "\n",
    "The next extension we will use is called **i8mm**. It uses the **SMMLA** instruction that is part of the i8mm extension for ARM, designed to efficiently perform matrix multiply-accumulate operations on 8-bit integer data-types. Specifically, it handles small matrix multiplications on vectors by working with 2×8 and 8×2 matrices of signed 8-bit integers, yielding a 2×2 matrix of 32-bit results which are then accumulated into a destination register.\n",
    "\n",
    "### How SMMLA Works\n",
    "\n",
    "This vector instruction takes two source vectors, each containing 16 signed 8-bit elements, and treats them as small matrices:\n",
    "- The first source vector is viewed as a 2×8 matrix.\n",
    "- The second source vector is considered an 8×2 matrix.\n",
    "\n",
    "The operation proceeds as follows:\n",
    "\n",
    "1. **Matrix Multiplication**: It multiplies the two matrices together. Given the dimensions, this results in a 2×2 matrix of 32-bit integer products.\n",
    "2. **Accumulate Results**: Each element of the resulting 2×2 matrix is then added to the corresponding element in a 2×2 matrix located in the destination vector.\n",
    "\n",
    "Because it effectively performs eight parallel dot-product computations for each output element, SMMLA can calculate eight multiply-accumulate operations simultaneously.\n",
    "\n",
    "### Performance Characteristics\n",
    "\n",
    "SMMLA is optimized to deliver high throughput. Its design goal is to match or surpass the combined throughput of two SDOT instructions in a scalar context by performing more operations in parallel. For architectures implementing SMMLA, this means:\n",
    "\n",
    "- High efficiency in performing multiple multiply-accumulate operations simultaneously, ideal for matrix computations and dot products.\n",
    "\n",
    "In summary, SMMLA leverages the i8mm extension to accelerate small matrix multiplications by combining multiple 8-bit multiply and accumulate operations in a single instruction, making it a powerful tool for high-performance computing tasks on ARM processors."
   ]
  },
  {
   "cell_type": "code",
   "execution_count": 80,
   "metadata": {},
   "outputs": [
    {
     "name": "stdout",
     "output_type": "stream",
     "text": [
      "Overwriting src/cpp/f32_i8_i4_i8mm/kernel.cpp\n"
     ]
    }
   ],
   "source": [
    "%%writefile src/cpp/f32_i8_i4_i8mm/kernel.cpp\n",
    "\n",
    "#include <arm_neon.h>\n",
    "#include \"kai_matmul_clamp_f32_qsi8d32p4x8_qsi4c32p4x8_8x4x32_neon_i8mm.h\"\n",
    "#include \"kai_matmul_clamp_f32_qsi8d32p_qsi4c32p_interface.h\"\n",
    "\n",
    "\n",
    "constexpr kai_matmul_clamp_f32_qsi8d32p_qsi4c32p_ukernel ukernel{\n",
    "    kai_get_m_step_matmul_clamp_f32_qsi8d32p4x8_qsi4c32p4x8_8x4x32_neon_i8mm,\n",
    "    kai_get_n_step_matmul_clamp_f32_qsi8d32p4x8_qsi4c32p4x8_8x4x32_neon_i8mm,\n",
    "    kai_get_mr_matmul_clamp_f32_qsi8d32p4x8_qsi4c32p4x8_8x4x32_neon_i8mm,\n",
    "    kai_get_nr_matmul_clamp_f32_qsi8d32p4x8_qsi4c32p4x8_8x4x32_neon_i8mm,\n",
    "    kai_get_kr_matmul_clamp_f32_qsi8d32p4x8_qsi4c32p4x8_8x4x32_neon_i8mm,\n",
    "    kai_get_sr_matmul_clamp_f32_qsi8d32p4x8_qsi4c32p4x8_8x4x32_neon_i8mm,\n",
    "    kai_get_lhs_packed_offset_matmul_clamp_f32_qsi8d32p4x8_qsi4c32p4x8_8x4x32_neon_i8mm,\n",
    "    kai_get_rhs_packed_offset_matmul_clamp_f32_qsi8d32p4x8_qsi4c32p4x8_8x4x32_neon_i8mm,\n",
    "    kai_get_dst_offset_matmul_clamp_f32_qsi8d32p4x8_qsi4c32p4x8_8x4x32_neon_i8mm,\n",
    "    kai_get_dst_size_matmul_clamp_f32_qsi8d32p4x8_qsi4c32p4x8_8x4x32_neon_i8mm,\n",
    "    kai_run_matmul_clamp_f32_qsi8d32p4x8_qsi4c32p4x8_8x4x32_neon_i8mm};\n",
    "\n"
   ]
  },
  {
   "cell_type": "markdown",
   "metadata": {},
   "source": [
    "### Build and Run "
   ]
  },
  {
   "cell_type": "code",
   "execution_count": 81,
   "metadata": {},
   "outputs": [
    {
     "name": "stdout",
     "output_type": "stream",
     "text": [
      "-- Configuring done (0.0s)\n",
      "-- Generating done (0.0s)\n",
      "-- Build files have been written to: /home/ubuntu/Generative_AI_on_arm/src/cpp/f32_i8_i4_i8mm/build\n",
      "[  5%] \u001b[32mBuilding CXX object CMakeFiles/benchmark_i8_i8mm.dir/benchmark_i8_i8mm.cpp.o\u001b[0m\n",
      "[ 11%] \u001b[32mBuilding CXX object CMakeFiles/benchmark_i8_i8mm.dir/kernel.cpp.o\u001b[0m\n",
      "[ 16%] \u001b[32m\u001b[1mLinking CXX executable benchmark_i8_i8mm\u001b[0m\n",
      "[ 33%] Built target benchmark_i8_i8mm\n",
      "[ 38%] \u001b[32mBuilding CXX object CMakeFiles/benchmark_i8_i8mm_scaling.dir/benchmark_i8_i8mm_scaling.cpp.o\u001b[0m\n",
      "[ 44%] \u001b[32mBuilding CXX object CMakeFiles/benchmark_i8_i8mm_scaling.dir/kernel.cpp.o\u001b[0m\n",
      "[ 50%] \u001b[32m\u001b[1mLinking CXX executable benchmark_i8_i8mm_scaling\u001b[0m\n",
      "[ 66%] Built target benchmark_i8_i8mm_scaling\n",
      "[ 72%] \u001b[32mBuilding CXX object CMakeFiles/kai_i8_i8mm_inf.dir/kai_i8_i8mm_inf.cpp.o\u001b[0m\n",
      "[ 77%] \u001b[32mBuilding CXX object CMakeFiles/kai_i8_i8mm_inf.dir/kernel.cpp.o\u001b[0m\n",
      "[ 83%] \u001b[32m\u001b[1mLinking CXX executable kai_i8_i8mm_inf\u001b[0m\n",
      "[100%] Built target kai_i8_i8mm_inf\n",
      " \n",
      "=====> Benchmarking KleidiAI Int8 I8MM Kernel <========\n",
      "Time taken: 8030 microseconds\n",
      "===========> Benchmark completed. <=============== \n",
      "\n"
     ]
    }
   ],
   "source": [
    "import os\n",
    "import subprocess\n",
    "\n",
    "# Set environment variable\n",
    "os.environ[\"TOKENIZERS_PARALLELISM\"] = \"false\"\n",
    "\n",
    "# Define the build directory path\n",
    "build_dir = \"src/cpp/f32_i8_i4_i8mm/build\"\n",
    "\n",
    "# Create the build directory if it doesn't exist\n",
    "os.makedirs(build_dir, exist_ok=True)\n",
    "\n",
    "# Configure the project with CMake\n",
    "subprocess.run([\"cmake\", \"..\"], cwd=build_dir, check=True)\n",
    "\n",
    "# Build the project using Make\n",
    "subprocess.run([\"make\"], cwd=build_dir, check=True)\n",
    "\n",
    "print(\" \")\n",
    "print(\"=====> Benchmarking KleidiAI Int8 I8MM Kernel <========\")\n",
    "# Execute the benchmark binary\n",
    "subprocess.run([\"./benchmark_i8_i8mm\"], cwd=build_dir)\n",
    "print(\"===========> Benchmark completed. <=============== \\n\")\n"
   ]
  },
  {
   "cell_type": "code",
   "execution_count": 82,
   "metadata": {},
   "outputs": [
    {
     "name": "stdout",
     "output_type": "stream",
     "text": [
      "Main process ID: 21392\n"
     ]
    }
   ],
   "source": [
    "import subprocess\n",
    "import os\n",
    "import time\n",
    "import signal\n",
    "\n",
    "# Run the main process\n",
    "process = subprocess.Popen(\n",
    "    [\"src/cpp/f32_i8_i4_i8mm/build/kai_i8_i8mm_inf\"],\n",
    "    stdout=subprocess.PIPE,\n",
    "    stderr=subprocess.PIPE\n",
    ")\n",
    "\n",
    "print(f\"Main process ID: {process.pid}\")\n"
   ]
  },
  {
   "cell_type": "code",
   "execution_count": 83,
   "metadata": {},
   "outputs": [
    {
     "name": "stdout",
     "output_type": "stream",
     "text": [
      "Failed to initialize perf sampling: No such process\n",
      "Failed to open perf event.\n"
     ]
    }
   ],
   "source": [
    "!sudo ./processwatch/processwatch -p 20961 -f HasNEON -f HasSVE -f HasSVE2 -f HasMatMulInt8 -f HasDotProd "
   ]
  },
  {
   "cell_type": "code",
   "execution_count": 84,
   "metadata": {},
   "outputs": [],
   "source": [
    "import os\n",
    "import signal\n",
    "\n",
    "os.kill(process.pid, signal.SIGTERM)"
   ]
  },
  {
   "cell_type": "markdown",
   "metadata": {},
   "source": [
    "### Plot Latency Scaling \n",
    "\n",
    "Now we have successfully utilized the hardware extensions available on **Arm Neoverse** processors, lets benchmark them against eachother across different matrix sizes. As a baseline we will also include the **OpenBLAS** Library. This is the open standard for implementing highly optimized matrix multiplications and is used as the conventional backend for pytorch on CPU devices. \n",
    "\n",
    "Lets first write out some matrix sizes to measure the matrix multiplication latency using the next cell."
   ]
  },
  {
   "cell_type": "code",
   "execution_count": 95,
   "metadata": {},
   "outputs": [
    {
     "name": "stdout",
     "output_type": "stream",
     "text": [
      "Overwriting src/cpp/common/sizes.cpp\n"
     ]
    }
   ],
   "source": [
    "%%writefile src/cpp/common/sizes.cpp\n",
    "\n",
    "int sizes[] = {32, 64, 128, 256, 512, 1024, 2048, 4096};"
   ]
  },
  {
   "cell_type": "markdown",
   "metadata": {},
   "source": [
    "### Build and Benchmark Scalability"
   ]
  },
  {
   "cell_type": "code",
   "execution_count": 96,
   "metadata": {},
   "outputs": [
    {
     "name": "stdout",
     "output_type": "stream",
     "text": [
      "Building in src/cpp/f32_f32_f32p/build...\n",
      "-- Configuring done (0.0s)\n",
      "-- Generating done (0.0s)\n",
      "-- Build files have been written to: /home/ubuntu/Generative_AI_on_arm/src/cpp/f32_f32_f32p/build\n",
      "[ 33%] Built target benchmark_f32\n",
      "[ 40%] \u001b[32mBuilding CXX object CMakeFiles/benchmark_f32_scaling.dir/benchmark_f32_scaling.cpp.o\u001b[0m\n",
      "[ 46%] \u001b[32m\u001b[1mLinking CXX executable benchmark_f32_scaling\u001b[0m\n",
      "[ 66%] Built target benchmark_f32_scaling\n",
      "[100%] Built target kai_f32_inf\n",
      "Running benchmark_f32_scaling...\n",
      "Building in src/cpp/f16_f16_f16p/build...\n",
      "-- Configuring done (0.0s)\n",
      "-- Generating done (0.0s)\n",
      "-- Build files have been written to: /home/ubuntu/Generative_AI_on_arm/src/cpp/f16_f16_f16p/build\n",
      "[ 33%] Built target benchmark_f16\n",
      "[ 40%] \u001b[32mBuilding CXX object CMakeFiles/benchmark_f16_scaling.dir/benchmark_f16_scaling.cpp.o\u001b[0m\n",
      "[ 46%] \u001b[32m\u001b[1mLinking CXX executable benchmark_f16_scaling\u001b[0m\n",
      "[ 66%] Built target benchmark_f16_scaling\n",
      "[100%] Built target kai_f16_inf\n",
      "Running benchmark_f16_scaling...\n",
      "Building in src/cpp/f32_i8_i4_dotprod/build...\n",
      "-- Configuring done (0.0s)\n",
      "-- Generating done (0.0s)\n",
      "-- Build files have been written to: /home/ubuntu/Generative_AI_on_arm/src/cpp/f32_i8_i4_dotprod/build\n",
      "[ 33%] Built target benchmark_dotprod\n",
      "[ 38%] \u001b[32mBuilding CXX object CMakeFiles/benchmark_dotprod_scaling.dir/benchmark_i8_dotprod_scaling.cpp.o\u001b[0m\n",
      "[ 44%] \u001b[32m\u001b[1mLinking CXX executable benchmark_dotprod_scaling\u001b[0m\n",
      "[ 66%] Built target benchmark_dotprod_scaling\n",
      "[100%] Built target kai_i8_dotprod_inf\n",
      "Running benchmark_dotprod_scaling...\n",
      "Building in src/cpp/f32_i8_i4_i8mm/build...\n",
      "-- Configuring done (0.0s)\n",
      "-- Generating done (0.0s)\n",
      "-- Build files have been written to: /home/ubuntu/Generative_AI_on_arm/src/cpp/f32_i8_i4_i8mm/build\n",
      "[ 33%] Built target benchmark_i8_i8mm\n",
      "[ 38%] \u001b[32mBuilding CXX object CMakeFiles/benchmark_i8_i8mm_scaling.dir/benchmark_i8_i8mm_scaling.cpp.o\u001b[0m\n",
      "[ 44%] \u001b[32m\u001b[1mLinking CXX executable benchmark_i8_i8mm_scaling\u001b[0m\n",
      "[ 66%] Built target benchmark_i8_i8mm_scaling\n",
      "[100%] Built target kai_i8_i8mm_inf\n",
      "Running benchmark_i8_i8mm_scaling...\n",
      "Building in src/cpp/blas/build...\n",
      "-- BLAS library found: /usr/lib/aarch64-linux-gnu/libblas.so\n",
      "-- ARM architecture detected; adding NEON/SVE flags\n",
      "-- Configuring done (0.0s)\n",
      "-- Generating done (0.0s)\n",
      "-- Build files have been written to: /home/ubuntu/Generative_AI_on_arm/src/cpp/blas/build\n",
      "[ 25%] \u001b[32mBuilding CXX object CMakeFiles/blas_scaling_benchmark.dir/benchmark_f32.cpp.o\u001b[0m\n",
      "[ 50%] \u001b[32m\u001b[1mLinking CXX executable blas_scaling_benchmark\u001b[0m\n",
      "[ 50%] Built target blas_scaling_benchmark\n",
      "[ 75%] \u001b[32mBuilding CXX object CMakeFiles/blas_f32_inf.dir/f32_inf.cpp.o\u001b[0m\n",
      "[100%] \u001b[32m\u001b[1mLinking CXX executable blas_f32_inf\u001b[0m\n",
      "[100%] Built target blas_f32_inf\n",
      "Running blas_scaling_benchmark...\n"
     ]
    }
   ],
   "source": [
    "import os\n",
    "import subprocess\n",
    "\n",
    "# Set environment variable\n",
    "os.environ[\"TOKENIZERS_PARALLELISM\"] = \"false\"\n",
    "\n",
    "# Define projects with their build directories and benchmark executables\n",
    "projects = {\n",
    "    \"src/cpp/f32_f32_f32p/build\": \"benchmark_f32_scaling\",\n",
    "    \"src/cpp/f16_f16_f16p/build\": \"benchmark_f16_scaling\",\n",
    "    \"src/cpp/f32_i8_i4_dotprod/build\": \"benchmark_dotprod_scaling\",\n",
    "    \"src/cpp/f32_i8_i4_i8mm/build\": \"benchmark_i8_i8mm_scaling\",\n",
    "    \"src/cpp/blas/build\": \"blas_scaling_benchmark\"\n",
    "}\n",
    "\n",
    "for build_dir, benchmark in projects.items():\n",
    "    os.makedirs(build_dir, exist_ok=True)\n",
    "    print(f\"Building in {build_dir}...\")\n",
    "    subprocess.run([\"cmake\", \"..\"], cwd=build_dir, check=True)\n",
    "    subprocess.run([\"make\"], cwd=build_dir, check=True)\n",
    "    print(f\"Running {benchmark}...\")\n",
    "    subprocess.run([f\"./{benchmark}\"], cwd=build_dir, check=True)\n"
   ]
  },
  {
   "cell_type": "markdown",
   "metadata": {},
   "source": [
    "Run the scaling benchmarks "
   ]
  },
  {
   "cell_type": "markdown",
   "metadata": {},
   "source": [
    "## Plot the scaling results"
   ]
  },
  {
   "cell_type": "code",
   "execution_count": 97,
   "metadata": {},
   "outputs": [
    {
     "data": {
      "image/png": "[encoded data removed]",
      "text/plain": [
       "<Figure size 1200x600 with 1 Axes>"
      ]
     },
     "metadata": {},
     "output_type": "display_data"
    }
   ],
   "source": [
    "import matplotlib.pyplot as plt \n",
    "import numpy as np\n",
    "import pandas as pd \n",
    "\n",
    "# Load datasets\n",
    "f32_data = pd.read_csv(\"src/cpp/results/f32_scaling_results.csv\")\n",
    "f16_data = pd.read_csv(\"src/cpp/results/f16_scaling_results.csv\")\n",
    "int8_dotprod_data = pd.read_csv(\"src/cpp/results/i8_dotprod_scaling_results.csv\")\n",
    "int8_i8mm_data = pd.read_csv(\"src/cpp/results/i8_i8mm_scaling_results.csv\")\n",
    "blas_data = pd.read_csv(\"src/cpp/results/blas_f32_scaling_results.csv\")\n",
    "\n",
    "# Plotting the results\n",
    "plt.figure(figsize=(12, 6))\n",
    "\n",
    "# Plot each dataset\n",
    "plt.plot(f32_data['Size'], f32_data['Latency(us)'], label=\"FP32 NEON\", marker='o')\n",
    "plt.plot(f16_data['Size'], f16_data['Latency(us)'], label=\"FP16 NEON\", marker='s')\n",
    "plt.plot(int8_dotprod_data['Size'], int8_dotprod_data['Latency(us)'], label=\"INT8 Dot Product\", marker='^')\n",
    "plt.plot(int8_i8mm_data['Size'], int8_i8mm_data['Latency(us)'], label=\"INT8 I8MM\", marker='d')\n",
    "plt.plot(blas_data['Size'], blas_data['Latency(us)'], label=\"BLAS FP32\", marker='x', linestyle='--', linewidth=2)\n",
    "\n",
    "# Add labels and title\n",
    "plt.xlabel(\"Matrix Size\")\n",
    "plt.ylabel(\"Latency (µs)\")\n",
    "plt.title(\"Matrix Multiplication Latency for Different Data Types\")\n",
    "plt.yscale('log')  # Use log scale for latency if the values span multiple orders of magnitude\n",
    "plt.legend()\n",
    "plt.grid(True, which=\"both\", linestyle=\"--\", linewidth=0.5)\n",
    "\n",
    "# Show the plot\n",
    "plt.tight_layout()\n",
    "plt.show()\n",
    "\n"
   ]
  },
  {
   "cell_type": "markdown",
   "metadata": {},
   "source": [
    "From the scaling graph, the x-axis represents the matrix size, while the y-axis shows the matrix multiplication latency measured in microseconds. The graph clearly indicates that all implementations of KleidiAI matrix multiplications outperform the BLAS library. This suggests that, to optimize inference on ARM CPUs, it is highly beneficial to use the KleidiAI library as the backend for linear algebra operations.\n",
    "\n",
    "Among the implementations, the int8 matrix multiplication (i8mm extension) is the fastest. This performance advantage is intuitive because the SMMLA instructions execute multiple dot products in parallel, leveraging the hardware capabilities efficiently. The next best performer is the floating-point 16-bit kernel, which utilizes NEON vectors and SIMD processing to accelerate computations.\n",
    "\n",
    "**Let's now use KleidiAI as a backend to optimize the inference of the OpenELM Large Language Model.**"
   ]
  },
  {
   "cell_type": "markdown",
   "metadata": {},
   "source": [
    "\n",
    "---\n",
    "# Onto KleidiAI Integrations with torch. Lets start by using the 4bit weight only kernel"
   ]
  },
  {
   "cell_type": "code",
   "execution_count": 98,
   "metadata": {},
   "outputs": [
    {
     "data": {
      "application/vnd.jupyter.widget-view+json": {
       "model_id": "e38dc9581fa848b78a739f7e3e998746",
       "version_major": 2,
       "version_minor": 0
      },
      "text/plain": [
       "Downloading builder script:   0%|          | 0.00/5.67k [00:00<?, ?B/s]"
      ]
     },
     "metadata": {},
     "output_type": "display_data"
    }
   ],
   "source": [
    "import torch \n",
    "import torch.nn as nn\n",
    "import torch.nn.functional as F \n",
    "from torchao.quantization.utils import prepare_int4_weight_and_scales_and_zeros\n",
    "from torchao.utils import find_multiple"
   ]
  },
  {
   "cell_type": "markdown",
   "metadata": {},
   "source": [
    "### Set some matmul hyperparameters "
   ]
  },
  {
   "cell_type": "code",
   "execution_count": 99,
   "metadata": {},
   "outputs": [],
   "source": [
    "out_features = 256 # number of output channels of the matrix multiplication \n",
    "in_features = 128 # number of input channels of the matrix multiplication \n",
    "groupsize = 32 # number of weights per scale parameter\n",
    "inner_k_tiles = 8 # inner parameter for cache optimization"
   ]
  },
  {
   "cell_type": "markdown",
   "metadata": {},
   "source": [
    "### Create the floating point matrices "
   ]
  },
  {
   "cell_type": "code",
   "execution_count": 100,
   "metadata": {},
   "outputs": [],
   "source": [
    "weight = torch.randn(out_features, in_features, dtype=torch.float32)\n",
    "x = torch.randn(1, in_features, dtype=torch.float32)"
   ]
  },
  {
   "cell_type": "markdown",
   "metadata": {},
   "source": [
    "## use torchao to perform the group quantization "
   ]
  },
  {
   "cell_type": "code",
   "execution_count": 101,
   "metadata": {},
   "outputs": [],
   "source": [
    "w_int4x8, scales_and_zeros = prepare_int4_weight_and_scales_and_zeros(\n",
    "    weight, \n",
    "    groupsize, \n",
    "    inner_k_tiles, \n",
    "    \"symmetric_groupwise\", \n",
    "    precision=torch.float32,\n",
    ")"
   ]
  },
  {
   "cell_type": "markdown",
   "metadata": {},
   "source": [
    "### Look at the shapes to see what has been done "
   ]
  },
  {
   "cell_type": "code",
   "execution_count": 102,
   "metadata": {},
   "outputs": [
    {
     "name": "stdout",
     "output_type": "stream",
     "text": [
      "Full Precision weights: shape torch.Size([256, 128]) dtype torch.float32\n",
      "Prepared weights: shape torch.Size([1024, 18]) dtype torch.uint8\n",
      " \n",
      "weight number equality:  18432 == 18432\n"
     ]
    }
   ],
   "source": [
    "print(f\"Full Precision weights: shape {weight.shape} dtype {weight.dtype}\")\n",
    "print(f\"Prepared weights: shape {w_int4x8.shape} dtype {w_int4x8.dtype}\")\n",
    "print(\" \")\n",
    "print(\"weight number equality: \", w_int4x8.numel(), \"==\", weight.numel()//2 + (weight.numel()//groupsize * 2))"
   ]
  },
  {
   "cell_type": "markdown",
   "metadata": {},
   "source": [
    "**Explanation of the Prepared Weights Size**\n",
    "\n",
    "We can see above that the following equality between the number of weights in the prepared quantized weights (w-int4x8) and the original weights (weight) is true. \n",
    "\n",
    "```python\n",
    "w_int4x8.numel() == (weight.numel() // 2) + (weight.numel() // groupsize * 2) \n",
    "```\n",
    "\n",
    "***NOTE: weight.numel() gives the number of elements inside a pytorch tensor***\n",
    "\n",
    "This can be explained by our use of 4-bit quantization in which we need to pack the quantized weights in addition to it's scale parameters into the w_int4x8 tensor. To do so, this can be interpreted in two parts:\n",
    "\n",
    "1. **Half the number of weights**:  \n",
    "   - Because each original weight is mapped to a 4-bit number, and two 4-bit values fit in a single byte, we only need half as many bytes as the total number of full-precision weights.  \n",
    "   - This is expressed by `(weight.numel() // 2)` in the weight number equality.\n",
    "\n",
    "2. **Storage for scale parameters**:  \n",
    "   - Each group of weights has a corresponding scale factor, and the number of groups is `(weight.numel() // groupsize)`.  \n",
    "   - These scale factors are stored in `float16` format, which requires 2 bytes for each scale, leading to `* 2`.  \n",
    "   - Hence, the term `(weight.numel() // groupsize * 2)` accounts for the total bytes needed for all scale factors.\n",
    "\n",
    "Therefore, when you add these two parts:\n",
    "\n",
    "```python\n",
    "(weight.numel() // 2) + (weight.numel() // groupsize * 2) \n",
    "```\n",
    "\n",
    "you get the total storage (in bytes) for the quantized weights plus the scale parameters. This total matches the number of elements in `w_int4x8`, ensuring the shape `torch.Size([1024, 18])` correctly reflects both packed 4-bit weights and their scale factors.\n",
    "\n",
    "\n",
    "**Explanation of the Prepared Weights shape**"
   ]
  },
  {
   "cell_type": "code",
   "execution_count": 103,
   "metadata": {},
   "outputs": [
    {
     "data": {
      "text/plain": [
       "torch.Size([1024, 18])"
      ]
     },
     "execution_count": 103,
     "metadata": {},
     "output_type": "execute_result"
    }
   ],
   "source": [
    "w_int4x8.shape"
   ]
  },
  {
   "cell_type": "markdown",
   "metadata": {},
   "source": [
    "The weight preparation function has performed group quantization, quantizing each group to a single row in the matrix. This gives `weight.numel()s//group_size` rows. We can check that it is true using the below line "
   ]
  },
  {
   "cell_type": "code",
   "execution_count": 104,
   "metadata": {},
   "outputs": [
    {
     "data": {
      "text/plain": [
       "1024"
      ]
     },
     "execution_count": 104,
     "metadata": {},
     "output_type": "execute_result"
    }
   ],
   "source": [
    "weight.numel() // groupsize"
   ]
  },
  {
   "cell_type": "markdown",
   "metadata": {},
   "source": [
    "ok so that means that there is one group per row, each one with their own scale parameter. Given that the groupsize we have used is 32, and when using 4-bit quantization we can pack 2 elemtns into a single byte, that gives a row size of 16 bytes. This leaves a discrepancy of 2 bytes. This 2 byte difference is used to hold the symmetric scale parameter in float16 format. Therefore the row size of w_int4x8 is: "
   ]
  },
  {
   "cell_type": "code",
   "execution_count": 105,
   "metadata": {},
   "outputs": [
    {
     "data": {
      "text/plain": [
       "18"
      ]
     },
     "execution_count": 105,
     "metadata": {},
     "output_type": "execute_result"
    }
   ],
   "source": [
    "groupsize // 2 + 2"
   ]
  },
  {
   "cell_type": "markdown",
   "metadata": {},
   "source": [
    "# Lets now use the kleidiai kernel that has been integrated into torch \n",
    "after performing the quantization, we must pack the weight into a shape required by the kleidiai kernels. This, is a memory optimization step. "
   ]
  },
  {
   "cell_type": "code",
   "execution_count": 106,
   "metadata": {},
   "outputs": [],
   "source": [
    "weight_int4pack = torch.ops.aten._kai_weight_pack_int4(w_int4x8, scales_and_zeros.float(), out_features, in_features, groupsize)"
   ]
  },
  {
   "cell_type": "markdown",
   "metadata": {},
   "source": [
    "# define a forward function to use the kleidi int4 kernel "
   ]
  },
  {
   "cell_type": "code",
   "execution_count": 107,
   "metadata": {},
   "outputs": [],
   "source": [
    "def linear_forward_int4_symmetric_groupwise(x, weight_int4pack, out_features, in_features):\n",
    "    origin_x_size = x.size()\n",
    "    c = torch.ops.aten._kai_input_quant_mm_int4(x, weight_int4pack, x.shape[-2],out_features, in_features, 32)\n",
    "    new_shape = origin_x_size[:-1] + (out_features,)\n",
    "    c = c.reshape(new_shape)\n",
    "    return c\n"
   ]
  },
  {
   "cell_type": "code",
   "execution_count": 108,
   "metadata": {},
   "outputs": [],
   "source": [
    "out_kai = linear_forward_int4_symmetric_groupwise(x, weight_int4pack, out_features, in_features)"
   ]
  },
  {
   "cell_type": "markdown",
   "metadata": {},
   "source": [
    "# Lets have a look at the quantization Error"
   ]
  },
  {
   "cell_type": "code",
   "execution_count": 109,
   "metadata": {},
   "outputs": [
    {
     "name": "stdout",
     "output_type": "stream",
     "text": [
      "tensor([ 8.7778, 12.4034, -8.0793, -5.4258, -3.2346])\n",
      "tensor([ 8.8780, 12.1892, -7.0240, -4.5940, -3.5516])\n"
     ]
    }
   ],
   "source": [
    "out_baseline = torch.matmul(x, weight.T) # compute the baseline operation\n",
    "print(out_kai.flatten()[:5])\n",
    "print(out_baseline.flatten()[:5])\n",
    "error = (out_baseline - out_kai).abs() / out_baseline.abs()"
   ]
  },
  {
   "cell_type": "code",
   "execution_count": 110,
   "metadata": {},
   "outputs": [
    {
     "data": {
      "image/png": "[encoded data removed]",
      "text/plain": [
       "<Figure size 1000x600 with 1 Axes>"
      ]
     },
     "metadata": {},
     "output_type": "display_data"
    }
   ],
   "source": [
    "import matplotlib.pyplot as plt\n",
    "import numpy as np\n",
    "\n",
    "# Assuming 'error' is your data tensor\n",
    "data = error.flatten().numpy()\n",
    "\n",
    "plt.figure(figsize=(10, 6))\n",
    "\n",
    "# Plot the histogram with fewer bins and density normalization\n",
    "plt.hist(data, bins=100, color='skyblue', edgecolor='black', alpha=0.7, density=True)\n",
    "\n",
    "# Add titles and labels\n",
    "plt.title('Relative Quantization Error Distribution', fontsize=16)\n",
    "plt.xlabel('Error', fontsize=14)\n",
    "plt.ylabel('Density', fontsize=14)\n",
    "\n",
    "# Optionally, set x-axis limits to exclude extreme outliers\n",
    "# For example, between the 1st and 99th percentiles\n",
    "lower, upper = np.percentile(data, [1, 99])\n",
    "plt.xlim(lower, upper)\n",
    "\n",
    "# Add gridlines for better readability\n",
    "plt.grid(True, linestyle='--', alpha=0.5)\n",
    "\n",
    "# Show the plot\n",
    "plt.show()"
   ]
  },
  {
   "cell_type": "markdown",
   "metadata": {},
   "source": [
    "## Quantizing A model with KleidiAI\n",
    "define a 4-bit weight only linear using kleidiai kernel"
   ]
  },
  {
   "cell_type": "code",
   "execution_count": 20,
   "metadata": {},
   "outputs": [],
   "source": [
    "class Int4WeightOnlyKAILinear(nn.Module):\n",
    "    def __init__(self, in_features, out_features, bias=True): \n",
    "        super().__init__()\n",
    "        self.in_features = in_features\n",
    "        self.out_features = out_features\n",
    "\n",
    "        self.register_buffer(\n",
    "            \"weight\",\n",
    "            torch.zeros((torch.ops.aten.get_kai_weight_pack_int4_size(out_features,in_features,groupsize)), dtype=torch.uint8)\n",
    "        )\n",
    "\n",
    "        self.register_buffer(\n",
    "            \"scales_and_zeros\",\n",
    "            torch.zeros((0), dtype=torch.float32)\n",
    "        )\n",
    "\n",
    "        if bias is not False: \n",
    "            self.register_buffer(\n",
    "                \"bias\",\n",
    "                torch.zeros((self.out_features), dtype=torch.float32)\n",
    "            )\n",
    "        else: \n",
    "            self.register_buffer(\"bias\", None)\n",
    "\n",
    "    def forward(self, x):\n",
    "        out = linear_forward_int4_symmetric_groupwise(x, self.weight, self.out_features, self.in_features)\n",
    "        if self.bias is not None:\n",
    "            out += self.bias \n",
    "        return out"
   ]
  },
  {
   "cell_type": "markdown",
   "metadata": {},
   "source": [
    "define function to return quantized version of layer"
   ]
  },
  {
   "cell_type": "code",
   "execution_count": 21,
   "metadata": {},
   "outputs": [],
   "source": [
    "def quantize_linear_layer(layer):\n",
    "    fp_weight = layer.weight.data.detach()\n",
    "    out_features = layer.out_features\n",
    "    in_features = layer.in_features\n",
    "\n",
    "    w_int4x8, scales_and_zeros = prepare_int4_weight_and_scales_and_zeros(\n",
    "        fp_weight, \n",
    "        groupsize=32, # groupsize\n",
    "        inner_k_tiles=8, # inner_k_tiles \n",
    "        scheme=\"symmetric_groupwise\", \n",
    "        precision=torch.float32\n",
    "    )\n",
    "\n",
    "    weight_int4pack = torch.ops.aten._kai_weight_pack_int4(\n",
    "        w_int4x8, \n",
    "        scales_and_zeros.float(), \n",
    "        out_features, \n",
    "        in_features, \n",
    "        groupsize\n",
    "    )\n",
    "\n",
    "    use_bias = layer.bias is not None\n",
    "    layer4bit = Int4WeightOnlyKAILinear(in_features, out_features, use_bias)\n",
    "\n",
    "    layer4bit.weight = weight_int4pack\n",
    "    layer4bit.scales_and_zeros = scales_and_zeros\n",
    "    if use_bias:\n",
    "        layer4bit.bias.data.copy_(layer.bias.data)\n",
    "\n",
    "    return layer4bit\n"
   ]
  },
  {
   "cell_type": "markdown",
   "metadata": {},
   "source": [
    "define function to quantize an entire nn.Module inplace"
   ]
  },
  {
   "cell_type": "code",
   "execution_count": 22,
   "metadata": {},
   "outputs": [],
   "source": [
    "def quantize_model(model):\n",
    "    for name, child in model.named_children():\n",
    "        if isinstance(child, nn.Linear):\n",
    "            # Quantize the linear layer\n",
    "            quantized_layer = quantize_linear_layer(child)\n",
    "            setattr(model, name, quantized_layer)\n",
    "        else:\n",
    "            # Recursively apply to child modules\n",
    "            quantize_model(child)\n",
    "    return model\n"
   ]
  },
  {
   "cell_type": "markdown",
   "metadata": {},
   "source": [
    "create the model"
   ]
  },
  {
   "cell_type": "code",
   "execution_count": 70,
   "metadata": {},
   "outputs": [],
   "source": [
    "import torch\n",
    "import transformers\n",
    "from transformers import AutoModelForCausalLM, AutoTokenizer\n",
    "\n",
    "\n",
    "model = AutoModelForCausalLM.from_pretrained(\"apple/OpenELM-270M-Instruct\", trust_remote_code=True)\n",
    "tokenizer = AutoTokenizer.from_pretrained(\"meta-llama/Llama-2-7b-hf\", trust_remote_code=True)\n",
    "\n",
    "prompt = \"Arm is a company that\" \n",
    "inputs = tokenizer(prompt, return_tensors=\"pt\")"
   ]
  },
  {
   "cell_type": "markdown",
   "metadata": {},
   "source": [
    "Lets sample a generation from the model"
   ]
  },
  {
   "cell_type": "code",
   "execution_count": 71,
   "metadata": {},
   "outputs": [
    {
     "data": {
      "text/plain": [
       "'Arm is a company that has been in the business of manufacturing and supplying various types of'"
      ]
     },
     "execution_count": 71,
     "metadata": {},
     "output_type": "execute_result"
    }
   ],
   "source": [
    "if tokenizer.pad_token is None:\n",
    "    tokenizer.pad_token = tokenizer.eos_token\n",
    "\n",
    "generated_ids = model.generate(inputs[\"input_ids\"], attention_mask=inputs[\"attention_mask\"], pad_token_id=tokenizer.pad_token_id, max_length=20)\n",
    "generated_text_fp = tokenizer.decode(generated_ids[0], skip_special_tokens=True)\n",
    "generated_text_fp"
   ]
  },
  {
   "cell_type": "markdown",
   "metadata": {},
   "source": [
    "before quantizing get full precision memory consumption"
   ]
  },
  {
   "cell_type": "code",
   "execution_count": 72,
   "metadata": {},
   "outputs": [
    {
     "name": "stdout",
     "output_type": "stream",
     "text": [
      "Baseline memory consumption: 1035.79 MB\n"
     ]
    }
   ],
   "source": [
    "import torch\n",
    "\n",
    "baseline_memory_consumption = 0  # Memory in bytes\n",
    "for name, param in model.named_parameters():  # Use model.named_parameters() to iterate over model parameters\n",
    "    baseline_memory_consumption += param.numel() * param.element_size()\n",
    "\n",
    "# Convert to megabytes (MB)\n",
    "baseline_memory_consumption_mb = baseline_memory_consumption / (1024 ** 2)\n",
    "\n",
    "print(f\"Baseline memory consumption: {baseline_memory_consumption_mb:.2f} MB\")"
   ]
  },
  {
   "cell_type": "markdown",
   "metadata": {},
   "source": [
    "before quantizing get the full precision generation latency "
   ]
  },
  {
   "cell_type": "code",
   "execution_count": 73,
   "metadata": {},
   "outputs": [
    {
     "name": "stdout",
     "output_type": "stream",
     "text": [
      "Time taken: 434.65 ms\n"
     ]
    }
   ],
   "source": [
    "import time\n",
    "    \n",
    "baseline_latency = 0\n",
    "for _ in range(10):\n",
    "    st = time.time()\n",
    "    model.generate(inputs[\"input_ids\"], attention_mask=inputs[\"attention_mask\"], pad_token_id=tokenizer.pad_token_id, max_length=20)\n",
    "    et = time.time()\n",
    "    baseline_latency += (et - st) * 1000\n",
    "baseline_latency /= 10\n",
    "\n",
    "print(f\"Time taken: {baseline_latency:.2f} ms\")"
   ]
  },
  {
   "cell_type": "markdown",
   "metadata": {},
   "source": [
    "qauntize the model "
   ]
  },
  {
   "cell_type": "code",
   "execution_count": 74,
   "metadata": {},
   "outputs": [
    {
     "data": {
      "text/plain": [
       "OpenELMModel(\n",
       "  (token_embeddings): Embedding(32000, 1280)\n",
       "  (layers): ModuleList(\n",
       "    (0-4): 5 x OpenELMDecoderLayer(\n",
       "      (attn): OpenELMMultiHeadCausalAttention(\n",
       "        query_heads=12, key_heads=3, value_heads=3\n",
       "        (qkv_proj): Int4WeightOnlyKAILinear()\n",
       "        (pos_embedding): OpenELMRotaryEmbedding(\tmodel_dim=64, max_seq_length=4096, freq_constant=10000)\n",
       "        (q_norm): OpenELMRMSNorm(num_features=64, eps=1e-06)\n",
       "        (k_norm): OpenELMRMSNorm(num_features=64, eps=1e-06)\n",
       "        (out_proj): Int4WeightOnlyKAILinear()\n",
       "      )\n",
       "      (ffn): OpenELMFeedForwardNetwork(\n",
       "        (ffn_with_glu) : True\n",
       "        (proj_1): Int4WeightOnlyKAILinear()\n",
       "        (proj_2): Int4WeightOnlyKAILinear()\n",
       "        (act): SiLU()\n",
       "      )\n",
       "      (ffn_norm): OpenELMRMSNorm(num_features=1280, eps=1e-06)\n",
       "      (attn_norm): OpenELMRMSNorm(num_features=1280, eps=1e-06)\n",
       "    )\n",
       "    (5-11): 7 x OpenELMDecoderLayer(\n",
       "      (attn): OpenELMMultiHeadCausalAttention(\n",
       "        query_heads=16, key_heads=4, value_heads=4\n",
       "        (qkv_proj): Int4WeightOnlyKAILinear()\n",
       "        (pos_embedding): OpenELMRotaryEmbedding(\tmodel_dim=64, max_seq_length=4096, freq_constant=10000)\n",
       "        (q_norm): OpenELMRMSNorm(num_features=64, eps=1e-06)\n",
       "        (k_norm): OpenELMRMSNorm(num_features=64, eps=1e-06)\n",
       "        (out_proj): Int4WeightOnlyKAILinear()\n",
       "      )\n",
       "      (ffn): OpenELMFeedForwardNetwork(\n",
       "        (ffn_with_glu) : True\n",
       "        (proj_1): Int4WeightOnlyKAILinear()\n",
       "        (proj_2): Int4WeightOnlyKAILinear()\n",
       "        (act): SiLU()\n",
       "      )\n",
       "      (ffn_norm): OpenELMRMSNorm(num_features=1280, eps=1e-06)\n",
       "      (attn_norm): OpenELMRMSNorm(num_features=1280, eps=1e-06)\n",
       "    )\n",
       "    (12-15): 4 x OpenELMDecoderLayer(\n",
       "      (attn): OpenELMMultiHeadCausalAttention(\n",
       "        query_heads=20, key_heads=5, value_heads=5\n",
       "        (qkv_proj): Int4WeightOnlyKAILinear()\n",
       "        (pos_embedding): OpenELMRotaryEmbedding(\tmodel_dim=64, max_seq_length=4096, freq_constant=10000)\n",
       "        (q_norm): OpenELMRMSNorm(num_features=64, eps=1e-06)\n",
       "        (k_norm): OpenELMRMSNorm(num_features=64, eps=1e-06)\n",
       "        (out_proj): Int4WeightOnlyKAILinear()\n",
       "      )\n",
       "      (ffn): OpenELMFeedForwardNetwork(\n",
       "        (ffn_with_glu) : True\n",
       "        (proj_1): Int4WeightOnlyKAILinear()\n",
       "        (proj_2): Int4WeightOnlyKAILinear()\n",
       "        (act): SiLU()\n",
       "      )\n",
       "      (ffn_norm): OpenELMRMSNorm(num_features=1280, eps=1e-06)\n",
       "      (attn_norm): OpenELMRMSNorm(num_features=1280, eps=1e-06)\n",
       "    )\n",
       "  )\n",
       "  (norm): OpenELMRMSNorm(num_features=1280, eps=1e-06)\n",
       ")"
      ]
     },
     "execution_count": 74,
     "metadata": {},
     "output_type": "execute_result"
    }
   ],
   "source": [
    "quantize_model(model.transformer)"
   ]
  },
  {
   "cell_type": "markdown",
   "metadata": {},
   "source": [
    "Get the quantized memory consumption"
   ]
  },
  {
   "cell_type": "code",
   "execution_count": 75,
   "metadata": {},
   "outputs": [
    {
     "name": "stdout",
     "output_type": "stream",
     "text": [
      "Baseline memory consumption: 156.42 MB\n"
     ]
    }
   ],
   "source": [
    "import torch\n",
    "\n",
    "quantized_memory_consumption = 0  # Memory in bytes\n",
    "for name, param in model.named_parameters():  # Use model.named_parameters() to iterate over model parameters\n",
    "    quantized_memory_consumption += param.numel() * param.element_size()\n",
    "\n",
    "# Convert to megabytes (MB)\n",
    "quantized_memory_consumption_mb = quantized_memory_consumption / (1024 ** 2)\n",
    "\n",
    "print(f\"Baseline memory consumption: {quantized_memory_consumption_mb:.2f} MB\")"
   ]
  },
  {
   "cell_type": "markdown",
   "metadata": {},
   "source": [
    "Get the quantized latency"
   ]
  },
  {
   "cell_type": "code",
   "execution_count": 76,
   "metadata": {},
   "outputs": [
    {
     "name": "stdout",
     "output_type": "stream",
     "text": [
      "Time taken: 306.34 ms\n"
     ]
    }
   ],
   "source": [
    "import time\n",
    "\n",
    "quantized_latency = 0\n",
    "for _ in range(10):\n",
    "    st = time.time()\n",
    "    model.generate(inputs[\"input_ids\"], attention_mask=inputs[\"attention_mask\"], pad_token_id=tokenizer.pad_token_id, max_length=20)\n",
    "    et = time.time()\n",
    "    quantized_latency += (et - st) * 1000\n",
    "quantized_latency /= 10\n",
    "\n",
    "print(f\"Time taken: {quantized_latency:.2f} ms\")"
   ]
  },
  {
   "cell_type": "markdown",
   "metadata": {},
   "source": [
    "generate from the quantized model "
   ]
  },
  {
   "cell_type": "code",
   "execution_count": 77,
   "metadata": {},
   "outputs": [
    {
     "data": {
      "text/plain": [
       "'Arm is a company that specializes in the design, manufacture, and installation of custom-'"
      ]
     },
     "execution_count": 77,
     "metadata": {},
     "output_type": "execute_result"
    }
   ],
   "source": [
    "generated_ids = model.generate(inputs[\"input_ids\"], attention_mask=inputs[\"attention_mask\"], pad_token_id=tokenizer.pad_token_id, max_length=20)\n",
    "generated_text_4bit = tokenizer.decode(generated_ids[0], skip_special_tokens=True)\n",
    "generated_text_4bit"
   ]
  },
  {
   "cell_type": "code",
   "execution_count": null,
   "metadata": {},
   "outputs": [],
   "source": []
  },
  {
   "cell_type": "code",
   "execution_count": null,
   "metadata": {},
   "outputs": [],
   "source": []
  }
 ],
 "metadata": {
  "kernelspec": {
   "display_name": "Python 3 (ipykernel)",
   "language": "python",
   "name": "python3"
  },
  "language_info": {
   "codemirror_mode": {
    "name": "ipython",
    "version": 3
   },
   "file_extension": ".py",
   "mimetype": "text/x-python",
   "name": "python",
   "nbconvert_exporter": "python",
   "pygments_lexer": "ipython3",
   "version": "3.10.16"
  }
 },
 "nbformat": 4,
 "nbformat_minor": 4
}
