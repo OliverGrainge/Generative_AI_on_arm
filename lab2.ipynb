{
 "cells": [
  {
   "cell_type": "markdown",
   "metadata": {},
   "source": [
    "# **LAB 2: Optimizing Generative AI Workloads on ARM Server Processors**\n",
    "\n",
    "## Introduction\n",
    "\n",
    "Welcome to the second lab in our series on **Optimizing Generative AI Workloads with ARM Processors**! In this hands-on session, you will build on the concepts learned in Lab 1—particularly vector processing on ARM devices—by leveraging a wider range of advanced ARM intrinsics. These include:\n",
    "\n",
    "- **NEON** (for SIMD acceleration)\n",
    "- **DotProd** (dot product extension)\n",
    "- **I8MM** (integer matrix multiplication)\n",
    "- **SVE** (Scalable Vector Extension)\n",
    "\n",
    "We will utilize these intrinsics through the **KleidiAI library**, which provides optimized microkernels for matrix multiplication and other core operations. You will learn how to benchmark these kernels against **BLAS**, the standard library for linear algebra routines. Beyond benchmarking, you will also integrate these optimized kernels into PyTorch to enable **quantized matrix multiplication**, and ultimately apply **4-bit quantization** on the **OpenELM-7B** model from Apple to measure latency and memory improvements.\n",
    "\n",
    "---\n",
    "\n",
    "### **Lab Objectives**\n",
    "\n",
    "1. **Explore Advanced ARM Intrinsics**  \n",
    "   Gain a deeper understanding of the **DotProd**, **I8MM**, and **SVE** intrinsics available in modern ARM architectures, and see how they accelerate matrix multiplications.\n",
    "\n",
    "2. **Learn the KleidiAI Library**  \n",
    "   Discover how KleidiAI implements these intrinsics in microkernels and why it can outperform traditional approaches in certain use cases.\n",
    "\n",
    "3. **Benchmark KleidiAI Against BLAS**  \n",
    "   Implement and benchmark KleidiAI microkernels—using different intrinsics—against the **BLAS** library to quantify performance benefits.\n",
    "\n",
    "4. **Quantize Matrix Multiplication in PyTorch**  \n",
    "   Integrate the KleidiAI kernels into PyTorch to perform quantized matrix multiplications, comparing performance and accuracy trade-offs.\n",
    "\n",
    "5. **Implement and Evaluate 4-Bit Quantization**  \n",
    "   Apply **groupwise int4 quantization** to the **OpenELM-7B** model, measuring **latency** and **memory** improvements on ARM server-class processors.\n",
    "\n",
    "---\n",
    "### **Prerequisites**\n",
    "\n",
    "- **Basic Knowledge of Linux**: Comfortable working in a Linux terminal.\n",
    "- **C/C++ and Python Programming**: Familiarity with writing and compiling code.\n",
    "- **Matrix Multiplication**: Understanding of linear algebra basics.\n",
    "- **Completion of Lab 1 (Recommended)**: Familiarity with NEON vector instructions and quantization concepts.\n",
    "\n",
    "---\n",
    "**By the end of this lab**, you will have hands-on experience combining low-level ARM intrinsics, specialized libraries, and quantization techniques to push the performance of large language models on ARM server processors. These skills will enable you to optimize generative AI workloads in both **resource-constrained** and **server-class** ARM environments.\n",
    "\n",
    "\n",
    "#1. Explore Advanced ARM Intrinsics \n",
    "lets start by grabbing the largest weight matrix multiplication used in the forward pass of the OpenELM-7B model. We can do that by running the next two cells \n"
   ]
  },
  {
   "cell_type": "code",
   "execution_count": 1,
   "metadata": {},
   "outputs": [],
   "source": [
    "import torch \n",
    "from transformers import AutoTokenizer, AutoModelForCausalLM\n",
    "\n",
    "tokenizer = AutoTokenizer.from_pretrained(\"meta-llama/Llama-2-7b-hf\", trust_remote_code=True) # download the tokenizer\n",
    "model = AutoModelForCausalLM.from_pretrained(\"apple/OpenELM-270M-Instruct\", trust_remote_code=True) # download the model (this may take a while)\n",
    "\n"
   ]
  },
  {
   "cell_type": "markdown",
   "metadata": {},
   "source": [
    "### Collect largest weight matmul in LLM "
   ]
  },
  {
   "cell_type": "code",
   "execution_count": 2,
   "metadata": {},
   "outputs": [
    {
     "name": "stdout",
     "output_type": "stream",
     "text": [
      "The collected weight matrix has shape 32000x1280 (output_channels x input_channels)\n",
      "The collected activation tensor has shape 6x1280 (sequence_length x input_channels)\n"
     ]
    }
   ],
   "source": [
    "import torch\n",
    "import torch.nn.functional as F\n",
    "import os\n",
    "os.environ[\"TOKENIZERS_PARALLELISM\"] = \"false\"\n",
    "activations = {} # Initialize to store the activations\n",
    "\n",
    "prompt = \"Arm is a company that\"  # create a sample prompt for the llm \n",
    "inputs = tokenizer(prompt, return_tensors=\"pt\") # tokenize the prompt ready for inputting into the model\n",
    "\n",
    "# Define a hook function to capture output activation of each matrix multiplication\n",
    "def get_activation_input(name):\n",
    "    def hook(model, input, output):\n",
    "        # 'input' is a tuple; we take the first element for the input tensor\n",
    "        activations[name] = output[0]\n",
    "    return hook\n",
    "\n",
    "\n",
    "# the largest matmul is after the last normalization, We therefor apply the hook \n",
    "# on this layer to the the input for th last matmul which is the projection from \n",
    "# tokens to probabilities over the all possible tokens in the vocabulary.\n",
    "layer = model.transformer.norm\n",
    "hook_handle = layer.register_forward_hook(get_activation_input('token_activations'))\n",
    "\n",
    "# Run the model forward pass\n",
    "with torch.no_grad():\n",
    "    model(**inputs)\n",
    "\n",
    "# Extract the projection weight matrix and the input activation tensor from the hook\n",
    "W = model.transformer.token_embeddings.weight.data.clone()\n",
    "X = activations['token_activations']\n",
    "\n",
    "hook_handle.remove()\n",
    "print(f\"The collected weight matrix has shape {W.shape[0]}x{W.shape[1]} (output_channels x input_channels)\")\n",
    "print(f\"The collected activation tensor has shape {X.shape[0]}x{X.shape[1]} (sequence_length x input_channels)\")"
   ]
  },
  {
   "cell_type": "markdown",
   "metadata": {},
   "source": [
    "# Explanation\n",
    "\n",
    "We have two key tensors:\n",
    "\n",
    "1. **Activation Tensor `X`**: Shape \\([6, 1280]\\)  \n",
    "   - This corresponds to 6 tokens in the input sequence, each represented by a 1280-dimensional embedding generated by the OpenElm transformer.\n",
    "\n",
    "2. **Weight Matrix**: Shape \\([32000, 1280]\\)  \n",
    "   - There are 32,000 possible tokens in the model’s vocabulary, and each token is associated with a 1280-dimensional parameter vector.\n",
    "\n",
    "When we multiply these two tensors, their common dimension of 1280 aligns, producing an output of shape \\([6, 32000]\\). The first dimension corresponds to the 6 tokens in the sequence, and the second dimension corresponds to the 32,000 tokens in the vocabulary.\n",
    "\n",
    "The resulting matrix provides the logits for every token in the vocabulary for each position in the sequence. These logits can then be used to generate probability distributions over the next predicted token.\n",
    "\n",
    "\n",
    "Now that we have saved the inputs to the matrix multiplication, lets measure torch's matrix multiplication latency from python. We can use that as a benchmark to compare against when harnessing the arm intrinsics for further acceleration. "
   ]
  },
  {
   "cell_type": "markdown",
   "metadata": {},
   "source": [
    "### Benchmark torch latency for the matmul"
   ]
  },
  {
   "cell_type": "code",
   "execution_count": 3,
   "metadata": {},
   "outputs": [
    {
     "name": "stdout",
     "output_type": "stream",
     "text": [
      "7445.78 µs\n"
     ]
    }
   ],
   "source": [
    "import time\n",
    "\n",
    "def measure_time():\n",
    "    start = time.perf_counter()\n",
    "    with torch.no_grad():\n",
    "        y = torch.mm(X, W.T)\n",
    "    end = time.perf_counter()\n",
    "    return (end - start) * 1_000_000  # Convert to microseconds\n",
    "\n",
    "# Run multiple times and average\n",
    "times = [measure_time() for _ in range(100)]\n",
    "torch_latency_us = sum(times) / len(times)\n",
    "print(f\"{torch_latency_us:.2f} µs\")"
   ]
  },
  {
   "cell_type": "markdown",
   "metadata": {},
   "source": [
    "Lets write out the matrices to disk so we can perform the matrix multiplications in c++ with the arm intinsics. "
   ]
  },
  {
   "cell_type": "code",
   "execution_count": 4,
   "metadata": {},
   "outputs": [
    {
     "name": "stdout",
     "output_type": "stream",
     "text": [
      "mkdir: cannot create directory ‘src/cpp/assets/’: File exists\n"
     ]
    }
   ],
   "source": [
    "!mkdir src/cpp/assets/\n",
    "\n",
    "X.numpy().tofile(\"src/cpp/assets/x_fp32.bin\")\n",
    "W.numpy().tofile(\"src/cpp/assets/w_fp32.bin\")"
   ]
  },
  {
   "cell_type": "markdown",
   "metadata": {},
   "source": [
    "## Naive Matmul Operator\n",
    "We can again also write the naive implementation of the matrix multiplication in c++ without any parallelization or memory optimizations. This is just like in the first lab except that the matrix multiplication is involving non-square matrices, and hence we have to pass the multiplication dimensions 'M, K and N'. Note that we again store the matrices as a flat pointer, representing the matrices as a single vector in row-major order. (Go back to lab-1 to learn about row-major if you are unsure)"
   ]
  },
  {
   "cell_type": "code",
   "execution_count": 5,
   "metadata": {},
   "outputs": [
    {
     "name": "stdout",
     "output_type": "stream",
     "text": [
      "Overwriting src/cpp/naive/kernel.cpp\n"
     ]
    }
   ],
   "source": [
    "%%writefile src/cpp/naive/kernel.cpp\n",
    "\n",
    "#include <stdio.h>\n",
    "#include <stdlib.h>\n",
    "#include <time.h>\n",
    "\n",
    "void matrix_multiply_naive(float* A, float* B, float* C, int M, int K, int N) {\n",
    "    // # M: the number of rows in the left hand matric (M = A.shape[0])\n",
    "    // # K: the inner dimensions of the multiple (K == A.shape[1] == B.shape[0])\n",
    "    // # N: the number of columns in the right hand matrix (N == B.shape[1])\n",
    "    for (int i = 0; i < M; i++) {\n",
    "        for (int j = 0; j < N; j++) {\n",
    "            C[i * N + j] = 0;\n",
    "            for (int k = 0; k < K; k++) {\n",
    "                C[i * N + j] += A[i * K + k] * B[k * N + j];\n",
    "            }\n",
    "        }\n",
    "    }\n",
    "}"
   ]
  },
  {
   "cell_type": "markdown",
   "metadata": {},
   "source": [
    "### Benchmark the Naive Operator"
   ]
  },
  {
   "cell_type": "code",
   "execution_count": 12,
   "metadata": {},
   "outputs": [
    {
     "name": "stdout",
     "output_type": "stream",
     "text": [
      "-- Configuring done (0.0s)\n",
      "-- Generating done (0.0s)\n",
      "-- Build files have been written to: /home/ubuntu/Generative_AI_on_arm/src/cpp/naive/build\n",
      "[100%] Built target benchmark_naive\n",
      " \n",
      "======> Benchmarking Naive Kernel <========\n",
      "Time taken: 1183.95 microseconds\n",
      "=========> Benchmark completed. <========== \n",
      "\n"
     ]
    }
   ],
   "source": [
    "import os\n",
    "import subprocess\n",
    "\n",
    "# Set environment variable\n",
    "os.environ[\"TOKENIZERS_PARALLELISM\"] = \"false\"\n",
    "\n",
    "# Define the build directory path\n",
    "build_dir = \"src/cpp/naive/build\"\n",
    "\n",
    "# Create the build directory if it doesn't exist\n",
    "os.makedirs(build_dir, exist_ok=True)\n",
    "\n",
    "# Configure the project with CMake\n",
    "subprocess.run([\"cmake\", \"..\"], cwd=build_dir, check=True)\n",
    "\n",
    "# Build the project using Make\n",
    "subprocess.run([\"make\"], cwd=build_dir, check=True)\n",
    "print(\" \")\n",
    "print(\"======> Benchmarking Naive Kernel <========\")\n",
    "# Execute the benchmark binary\n",
    "subprocess.run([\"./benchmark_naive\"], cwd=build_dir)\n",
    "print(\"=========> Benchmark completed. <========== \\n\")\n"
   ]
  },
  {
   "cell_type": "markdown",
   "metadata": {},
   "source": [
    "# Clone KleidiAI"
   ]
  },
  {
   "cell_type": "code",
   "execution_count": 13,
   "metadata": {},
   "outputs": [
    {
     "name": "stdout",
     "output_type": "stream",
     "text": [
      "fatal: destination path 'kleidiai' already exists and is not an empty directory.\n"
     ]
    }
   ],
   "source": [
    "!git clone https://git.gitlab.arm.com/kleidi/kleidiai.git"
   ]
  },
  {
   "cell_type": "markdown",
   "metadata": {},
   "source": [
    "## Understanding the KleidiAI Micro-Kernel"
   ]
  },
  {
   "cell_type": "markdown",
   "metadata": {},
   "source": [
    "..."
   ]
  },
  {
   "cell_type": "markdown",
   "metadata": {},
   "source": [
    "## Creating a Kleidi Kernel"
   ]
  },
  {
   "cell_type": "markdown",
   "metadata": {},
   "source": [
    "..."
   ]
  },
  {
   "cell_type": "markdown",
   "metadata": {},
   "source": [
    "# FP32 NEON MLA"
   ]
  },
  {
   "cell_type": "code",
   "execution_count": 14,
   "metadata": {},
   "outputs": [
    {
     "name": "stdout",
     "output_type": "stream",
     "text": [
      "Overwriting src/cpp/f32_f32_f32p/kernel.cpp\n"
     ]
    }
   ],
   "source": [
    "%%writefile src/cpp/f32_f32_f32p/kernel.cpp\n",
    "\n",
    "#include <arm_neon.h>\n",
    "\n",
    "#include \"kai_matmul_clamp_f32_f32_f32p8x1biasf32_6x8x4_neon_mla.h\"\n",
    "#include \"kai_matmul_clamp_f32_f32_f32p_interface.h\"\n",
    "\n",
    "\n",
    "constexpr kai_matmul_clamp_f32_f32_f32p_ukernel ukernel{\n",
    "    kai_get_m_step_matmul_clamp_f32_f32_f32p8x1biasf32_6x8x4_neon_mla,\n",
    "    kai_get_n_step_matmul_clamp_f32_f32_f32p8x1biasf32_6x8x4_neon_mla,\n",
    "    kai_get_nr_matmul_clamp_f32_f32_f32p8x1biasf32_6x8x4_neon_mla,\n",
    "    kai_get_kr_matmul_clamp_f32_f32_f32p8x1biasf32_6x8x4_neon_mla,\n",
    "    kai_get_sr_matmul_clamp_f32_f32_f32p8x1biasf32_6x8x4_neon_mla,\n",
    "    kai_get_lhs_offset_matmul_clamp_f32_f32_f32p8x1biasf32_6x8x4_neon_mla,\n",
    "    kai_get_rhs_packed_offset_matmul_clamp_f32_f32_f32p8x1biasf32_6x8x4_neon_mla,\n",
    "    kai_get_dst_offset_matmul_clamp_f32_f32_f32p8x1biasf32_6x8x4_neon_mla,\n",
    "    kai_get_dst_size_matmul_clamp_f32_f32_f32p8x1biasf32_6x8x4_neon_mla,\n",
    "    kai_run_matmul_clamp_f32_f32_f32p8x1biasf32_6x8x4_neon_mla};"
   ]
  },
  {
   "cell_type": "markdown",
   "metadata": {},
   "source": [
    "### Build and Benchmark"
   ]
  },
  {
   "cell_type": "code",
   "execution_count": 17,
   "metadata": {},
   "outputs": [
    {
     "name": "stdout",
     "output_type": "stream",
     "text": [
      "-- Configuring done (0.0s)\n",
      "-- Generating done (0.0s)\n",
      "-- Build files have been written to: /home/ubuntu/Generative_AI_on_arm/src/cpp/f32_f32_f32p/build\n",
      "[ 33%] Built target benchmark_f32\n",
      "[ 66%] Built target benchmark_f32_scaling\n",
      "[100%] Built target kai_f32_inf\n",
      " \n",
      "=====> Benchmarking KleidiAI FP32 Kernel <========\n",
      "Time taken: 11.619 microseconds\n",
      "===========> Benchmark completed. <=============== \n",
      "\n"
     ]
    }
   ],
   "source": [
    "import os\n",
    "import subprocess\n",
    "\n",
    "# Set environment variable\n",
    "os.environ[\"TOKENIZERS_PARALLELISM\"] = \"false\"\n",
    "\n",
    "# Define the build directory path\n",
    "build_dir = \"src/cpp/f32_f32_f32p/build\"\n",
    "\n",
    "# Create the build directory if it doesn't exist\n",
    "os.makedirs(build_dir, exist_ok=True)\n",
    "\n",
    "# Configure the project with CMake\n",
    "subprocess.run([\"cmake\", \"..\"], cwd=build_dir, check=True)\n",
    "\n",
    "# Build the project using Make\n",
    "subprocess.run([\"make\"], cwd=build_dir, check=True)\n",
    "\n",
    "print(\" \")\n",
    "print(\"=====> Benchmarking KleidiAI FP32 Kernel <========\")\n",
    "# Execute the benchmark binary\n",
    "subprocess.run([\"./benchmark_f32\"], cwd=build_dir)\n",
    "print(\"===========> Benchmark completed. <=============== \\n\")"
   ]
  },
  {
   "cell_type": "markdown",
   "metadata": {},
   "source": [
    "Lets use a tool called process watch to check what kernels are being run?"
   ]
  },
  {
   "cell_type": "code",
   "execution_count": 35,
   "metadata": {},
   "outputs": [
    {
     "name": "stdout",
     "output_type": "stream",
     "text": [
      "Main process ID: 46401\n"
     ]
    }
   ],
   "source": [
    "import subprocess\n",
    "import os\n",
    "import time\n",
    "import signal\n",
    "\n",
    "# Run the main process\n",
    "process = subprocess.Popen(\n",
    "    [\"src/cpp/blas/build/blas_f32_inf\"],\n",
    "    stdout=subprocess.PIPE,\n",
    "    stderr=subprocess.PIPE\n",
    ")\n",
    "\n",
    "print(f\"Main process ID: {process.pid}\")"
   ]
  },
  {
   "cell_type": "code",
   "execution_count": 36,
   "metadata": {},
   "outputs": [
    {
     "name": "stdout",
     "output_type": "stream",
     "text": [
      "\n",
      "PID      NAME             NEON     SVE      SVE2     MatMulIn DotProd  %TOTAL   TOTAL   \n",
      "ALL      ALL              0.00     0.00     0.00     0.00     0.00     100.00   25293   \n",
      "46401    blas_f32_inf     0.00     0.00     0.00     0.00     0.00     100.00   25293   \n",
      "\n",
      "PID      NAME             NEON     SVE      SVE2     MatMulIn DotProd  %TOTAL   TOTAL   \n",
      "ALL      ALL              0.00     0.00     0.00     0.00     0.00     100.00   26602   \n",
      "46401    blas_f32_inf     0.00     0.00     0.00     0.00     0.00     100.00   26602   \n",
      "\n",
      "PID      NAME             NEON     SVE      SVE2     MatMulIn DotProd  %TOTAL   TOTAL   \n",
      "ALL      ALL              0.00     0.00     0.00     0.00     0.00     100.00   25277   \n",
      "46401    blas_f32_inf     0.00     0.00     0.00     0.00     0.00     100.00   25277   \n",
      "\n",
      "PID      NAME             NEON     SVE      SVE2     MatMulIn DotProd  %TOTAL   TOTAL   \n",
      "ALL      ALL              0.00     0.00     0.00     0.00     0.00     100.00   26624   \n",
      "46401    blas_f32_inf     0.00     0.00     0.00     0.00     0.00     100.00   26624   \n",
      "^C\n"
     ]
    }
   ],
   "source": [
    "!sudo ./processwatch/processwatch -p 46401 -f HasNEON -f HasSVE -f HasSVE2 -f HasMatMulInt8 -f HasDotProd "
   ]
  },
  {
   "cell_type": "code",
   "execution_count": 37,
   "metadata": {},
   "outputs": [],
   "source": [
    "import os\n",
    "import signal\n",
    "\n",
    "os.kill(process.pid, signal.SIGTERM)"
   ]
  },
  {
   "cell_type": "markdown",
   "metadata": {},
   "source": [
    "# FP16 NEON MLA "
   ]
  },
  {
   "cell_type": "code",
   "execution_count": 38,
   "metadata": {},
   "outputs": [
    {
     "name": "stdout",
     "output_type": "stream",
     "text": [
      "Overwriting src/cpp/f16_f16_f16p/kernel.cpp\n"
     ]
    }
   ],
   "source": [
    "%%writefile src/cpp/f16_f16_f16p/kernel.cpp\n",
    "\n",
    "#include <arm_neon.h>\n",
    "\n",
    "#include \"kai_matmul_clamp_f16_f16_f16p16x1biasf16_6x16x8_neon_mla.h\"\n",
    "#include \"kai_matmul_clamp_f16_f16_f16p_interface.h\"\n",
    "\n",
    "constexpr kai_matmul_clamp_f16_f16_f16p_ukernel ukernel{\n",
    "    kai_get_m_step_matmul_clamp_f16_f16_f16p16x1biasf16_6x16x8_neon_mla,\n",
    "    kai_get_n_step_matmul_clamp_f16_f16_f16p16x1biasf16_6x16x8_neon_mla,\n",
    "    kai_get_nr_matmul_clamp_f16_f16_f16p16x1biasf16_6x16x8_neon_mla,\n",
    "    kai_get_kr_matmul_clamp_f16_f16_f16p16x1biasf16_6x16x8_neon_mla,\n",
    "    kai_get_sr_matmul_clamp_f16_f16_f16p16x1biasf16_6x16x8_neon_mla,\n",
    "    kai_get_lhs_offset_matmul_clamp_f16_f16_f16p16x1biasf16_6x16x8_neon_mla,\n",
    "    kai_get_rhs_packed_offset_matmul_clamp_f16_f16_f16p16x1biasf16_6x16x8_neon_mla,\n",
    "    kai_get_dst_offset_matmul_clamp_f16_f16_f16p16x1biasf16_6x16x8_neon_mla,\n",
    "    kai_get_dst_size_matmul_clamp_f16_f16_f16p16x1biasf16_6x16x8_neon_mla,\n",
    "    kai_run_matmul_clamp_f16_f16_f16p16x1biasf16_6x16x8_neon_mla};"
   ]
  },
  {
   "cell_type": "markdown",
   "metadata": {},
   "source": [
    "### Build and Benchmark"
   ]
  },
  {
   "cell_type": "code",
   "execution_count": 39,
   "metadata": {},
   "outputs": [
    {
     "name": "stdout",
     "output_type": "stream",
     "text": [
      "-- Configuring done (0.0s)\n",
      "-- Generating done (0.0s)\n",
      "-- Build files have been written to: /home/ubuntu/Generative_AI_on_arm/src/cpp/f16_f16_f16p/build\n",
      "[  6%] \u001b[32mBuilding CXX object CMakeFiles/benchmark_f16.dir/benchmark_f16.cpp.o\u001b[0m\n",
      "[ 13%] \u001b[32mBuilding CXX object CMakeFiles/benchmark_f16.dir/kernel.cpp.o\u001b[0m\n",
      "[ 20%] \u001b[32m\u001b[1mLinking CXX executable benchmark_f16\u001b[0m\n",
      "[ 33%] Built target benchmark_f16\n",
      "[ 40%] \u001b[32mBuilding CXX object CMakeFiles/benchmark_f16_scaling.dir/benchmark_f16_scaling.cpp.o\u001b[0m\n",
      "[ 46%] \u001b[32mBuilding CXX object CMakeFiles/benchmark_f16_scaling.dir/kernel.cpp.o\u001b[0m\n",
      "[ 53%] \u001b[32m\u001b[1mLinking CXX executable benchmark_f16_scaling\u001b[0m\n",
      "[ 66%] Built target benchmark_f16_scaling\n",
      "[ 73%] \u001b[32mBuilding CXX object CMakeFiles/kai_f16_inf.dir/kai_f16_inf.cpp.o\u001b[0m\n",
      "[ 80%] \u001b[32mBuilding CXX object CMakeFiles/kai_f16_inf.dir/kernel.cpp.o\u001b[0m\n",
      "[ 86%] \u001b[32m\u001b[1mLinking CXX executable kai_f16_inf\u001b[0m\n",
      "[100%] Built target kai_f16_inf\n",
      " \n",
      "=====> Benchmarking KleidiAI FP16 Kernel <========\n",
      "Time taken: 37.979 microseconds\n",
      "===========> Benchmark completed. <=============== \n",
      "\n"
     ]
    }
   ],
   "source": [
    "import os\n",
    "import subprocess\n",
    "\n",
    "# Set environment variable\n",
    "os.environ[\"TOKENIZERS_PARALLELISM\"] = \"false\"\n",
    "\n",
    "# Define the build directory path\n",
    "build_dir = \"src/cpp/f16_f16_f16p/build\"\n",
    "\n",
    "# Create the build directory if it doesn't exist\n",
    "os.makedirs(build_dir, exist_ok=True)\n",
    "\n",
    "# Configure the project with CMake\n",
    "subprocess.run([\"cmake\", \"..\"], cwd=build_dir, check=True)\n",
    "\n",
    "# Build the project using Make\n",
    "subprocess.run([\"make\"], cwd=build_dir, check=True)\n",
    "\n",
    "print(\" \")\n",
    "print(\"=====> Benchmarking KleidiAI FP16 Kernel <========\")\n",
    "# Execute the benchmark binary\n",
    "subprocess.run([\"./benchmark_f16\"], cwd=build_dir)\n",
    "print(\"===========> Benchmark completed. <=============== \\n\")\n"
   ]
  },
  {
   "cell_type": "code",
   "execution_count": 41,
   "metadata": {},
   "outputs": [
    {
     "name": "stdout",
     "output_type": "stream",
     "text": [
      "Main process ID: 46569\n"
     ]
    }
   ],
   "source": [
    "import subprocess\n",
    "import os\n",
    "import time\n",
    "import signal\n",
    "\n",
    "# Run the main process\n",
    "process = subprocess.Popen(\n",
    "    [\"src/cpp/f16_f16_f16p/build/kai_f16_inf\"],\n",
    "    stdout=subprocess.PIPE,\n",
    "    stderr=subprocess.PIPE\n",
    ")\n",
    "\n",
    "print(f\"Main process ID: {process.pid}\")"
   ]
  },
  {
   "cell_type": "code",
   "execution_count": 42,
   "metadata": {},
   "outputs": [
    {
     "name": "stdout",
     "output_type": "stream",
     "text": [
      "\n",
      "PID      NAME             NEON     SVE      SVE2     MatMulIn DotProd  %TOTAL   TOTAL   \n",
      "ALL      ALL              83.82    0.00     0.00     0.00     0.00     100.00   25216   \n",
      "46569    kai_f16_inf      83.82    0.00     0.00     0.00     0.00     100.00   25216   \n",
      "^C\n"
     ]
    }
   ],
   "source": [
    "!sudo ./processwatch/processwatch -p 46569 -f HasNEON -f HasSVE -f HasSVE2 -f HasMatMulInt8 -f HasDotProd "
   ]
  },
  {
   "cell_type": "code",
   "execution_count": 43,
   "metadata": {},
   "outputs": [],
   "source": [
    "import os\n",
    "import signal\n",
    "\n",
    "os.kill(process.pid, signal.SIGTERM)"
   ]
  },
  {
   "cell_type": "markdown",
   "metadata": {},
   "source": [
    "## DotProd"
   ]
  },
  {
   "cell_type": "code",
   "execution_count": 44,
   "metadata": {},
   "outputs": [
    {
     "name": "stdout",
     "output_type": "stream",
     "text": [
      "Overwriting src/cpp/f32_i8_i4_dotprod/kernel.cpp\n"
     ]
    }
   ],
   "source": [
    "%%writefile src/cpp/f32_i8_i4_dotprod/kernel.cpp\n",
    "\n",
    "#include <arm_neon.h>\n",
    "#include <string>\n",
    "\n",
    "#include \"kai_matmul_clamp_f32_qsi8d32p1x8_qsi4c32p4x8_1x4x32_neon_dotprod.h\"\n",
    "#include \"kai_matmul_clamp_f32_qsi8d32p_qsi4c32p_interface.h\"\n",
    "\n",
    "\n",
    "constexpr kai_matmul_clamp_f32_qsi8d32p_qsi4c32p_ukernel ukernel{\n",
    "    kai_get_m_step_matmul_clamp_f32_qsi8d32p1x8_qsi4c32p4x8_1x4x32_neon_dotprod,\n",
    "    kai_get_n_step_matmul_clamp_f32_qsi8d32p1x8_qsi4c32p4x8_1x4x32_neon_dotprod,\n",
    "    kai_get_mr_matmul_clamp_f32_qsi8d32p1x8_qsi4c32p4x8_1x4x32_neon_dotprod,\n",
    "    kai_get_nr_matmul_clamp_f32_qsi8d32p1x8_qsi4c32p4x8_1x4x32_neon_dotprod,\n",
    "    kai_get_kr_matmul_clamp_f32_qsi8d32p1x8_qsi4c32p4x8_1x4x32_neon_dotprod,\n",
    "    kai_get_sr_matmul_clamp_f32_qsi8d32p1x8_qsi4c32p4x8_1x4x32_neon_dotprod,\n",
    "    kai_get_lhs_packed_offset_matmul_clamp_f32_qsi8d32p1x8_qsi4c32p4x8_1x4x32_neon_dotprod,\n",
    "    kai_get_rhs_packed_offset_matmul_clamp_f32_qsi8d32p1x8_qsi4c32p4x8_1x4x32_neon_dotprod,\n",
    "    kai_get_dst_offset_matmul_clamp_f32_qsi8d32p1x8_qsi4c32p4x8_1x4x32_neon_dotprod,\n",
    "    kai_get_dst_size_matmul_clamp_f32_qsi8d32p1x8_qsi4c32p4x8_1x4x32_neon_dotprod,\n",
    "    kai_run_matmul_clamp_f32_qsi8d32p1x8_qsi4c32p4x8_1x4x32_neon_dotprod};"
   ]
  },
  {
   "cell_type": "markdown",
   "metadata": {},
   "source": [
    "### Build and Run "
   ]
  },
  {
   "cell_type": "code",
   "execution_count": 45,
   "metadata": {},
   "outputs": [
    {
     "name": "stdout",
     "output_type": "stream",
     "text": [
      "-- Configuring done (0.0s)\n",
      "-- Generating done (0.0s)\n",
      "-- Build files have been written to: /home/ubuntu/Generative_AI_on_arm/src/cpp/f32_i8_i4_dotprod/build\n",
      "[  5%] \u001b[32mBuilding CXX object CMakeFiles/benchmark_dotprod.dir/benchmark_i8_dotprod.cpp.o\u001b[0m\n",
      "[ 11%] \u001b[32mBuilding CXX object CMakeFiles/benchmark_dotprod.dir/kernel.cpp.o\u001b[0m\n",
      "[ 16%] \u001b[32m\u001b[1mLinking CXX executable benchmark_dotprod\u001b[0m\n",
      "[ 33%] Built target benchmark_dotprod\n",
      "[ 38%] \u001b[32mBuilding CXX object CMakeFiles/benchmark_dotprod_scaling.dir/benchmark_i8_dotprod_scaling.cpp.o\u001b[0m\n",
      "[ 44%] \u001b[32mBuilding CXX object CMakeFiles/benchmark_dotprod_scaling.dir/kernel.cpp.o\u001b[0m\n",
      "[ 50%] \u001b[32m\u001b[1mLinking CXX executable benchmark_dotprod_scaling\u001b[0m\n",
      "[ 66%] Built target benchmark_dotprod_scaling\n",
      "[ 72%] \u001b[32mBuilding CXX object CMakeFiles/kai_i8_dotprod_inf.dir/kai_i8_dotprod_inf.cpp.o\u001b[0m\n",
      "[ 77%] \u001b[32mBuilding CXX object CMakeFiles/kai_i8_dotprod_inf.dir/kernel.cpp.o\u001b[0m\n",
      "[ 83%] \u001b[32m\u001b[1mLinking CXX executable kai_i8_dotprod_inf\u001b[0m\n",
      "[100%] Built target kai_i8_dotprod_inf\n",
      " \n",
      "=====> Benchmarking KleidiAI Int8 DotProd Kernel <========\n",
      "Time taken: 12.586 microseconds\n",
      "===========> Benchmark completed. <=============== \n",
      "\n"
     ]
    }
   ],
   "source": [
    "import os\n",
    "import subprocess\n",
    "\n",
    "# Set environment variable\n",
    "os.environ[\"TOKENIZERS_PARALLELISM\"] = \"false\"\n",
    "\n",
    "# Define the build directory path\n",
    "build_dir = \"src/cpp/f32_i8_i4_dotprod/build\"\n",
    "\n",
    "# Create the build directory if it doesn't exist\n",
    "os.makedirs(build_dir, exist_ok=True)\n",
    "\n",
    "# Configure the project with CMake\n",
    "subprocess.run([\"cmake\", \"..\"], cwd=build_dir, check=True)\n",
    "\n",
    "# Build the project using Make\n",
    "subprocess.run([\"make\"], cwd=build_dir, check=True)\n",
    "\n",
    "print(\" \")\n",
    "print(\"=====> Benchmarking KleidiAI Int8 DotProd Kernel <========\")\n",
    "# Execute the benchmark binary\n",
    "subprocess.run([\"./benchmark_dotprod\"], cwd=build_dir)\n",
    "print(\"===========> Benchmark completed. <=============== \\n\")"
   ]
  },
  {
   "cell_type": "code",
   "execution_count": 46,
   "metadata": {},
   "outputs": [
    {
     "name": "stdout",
     "output_type": "stream",
     "text": [
      "Main process ID: 46766\n"
     ]
    }
   ],
   "source": [
    "import subprocess\n",
    "import os\n",
    "import time\n",
    "import signal\n",
    "\n",
    "# Run the main process\n",
    "process = subprocess.Popen(\n",
    "    [\"src/cpp/f32_i8_i4_dotprod/build/kai_i8_dotprod_inf\"],\n",
    "    stdout=subprocess.PIPE,\n",
    "    stderr=subprocess.PIPE\n",
    ")\n",
    "\n",
    "print(f\"Main process ID: {process.pid}\")"
   ]
  },
  {
   "cell_type": "code",
   "execution_count": 47,
   "metadata": {},
   "outputs": [
    {
     "name": "stdout",
     "output_type": "stream",
     "text": [
      "\n",
      "PID      NAME             NEON     SVE      SVE2     MatMulIn DotProd  %TOTAL   TOTAL   \n",
      "ALL      ALL              57.62    0.00     0.00     0.00     5.20     100.00   25283   \n",
      "46766    kai_i8_dotprod_  57.62    0.00     0.00     0.00     5.20     100.00   25283   \n",
      "\n",
      "PID      NAME             NEON     SVE      SVE2     MatMulIn DotProd  %TOTAL   TOTAL   \n",
      "ALL      ALL              57.74    0.00     0.00     0.00     5.42     100.00   26606   \n",
      "46766    kai_i8_dotprod_  57.74    0.00     0.00     0.00     5.42     100.00   26606   \n",
      "^C\n"
     ]
    }
   ],
   "source": [
    "!sudo ./processwatch/processwatch -p 46766 -f HasNEON -f HasSVE -f HasSVE2 -f HasMatMulInt8 -f HasDotProd "
   ]
  },
  {
   "cell_type": "code",
   "execution_count": 48,
   "metadata": {},
   "outputs": [],
   "source": [
    "import os\n",
    "import signal\n",
    "\n",
    "os.kill(process.pid, signal.SIGTERM)"
   ]
  },
  {
   "cell_type": "markdown",
   "metadata": {},
   "source": [
    "## I8MM"
   ]
  },
  {
   "cell_type": "code",
   "execution_count": 14,
   "metadata": {},
   "outputs": [
    {
     "name": "stdout",
     "output_type": "stream",
     "text": [
      "Writing src/cpp/f32_i8_i4_i8mm/kernel.cpp\n"
     ]
    }
   ],
   "source": [
    "%%writefile src/cpp/f32_i8_i4_i8mm/kernel.cpp\n",
    "\n",
    "#include <arm_neon.h>\n",
    "#include \"kai_matmul_clamp_f32_qsi8d32p4x8_qsi4c32p4x8_8x4x32_neon_i8mm.h\"\n",
    "#include \"kai_matmul_clamp_f32_qsi8d32p_qsi4c32p_interface.h\"\n",
    "\n",
    "\n",
    "constexpr kai_matmul_clamp_f32_qsi8d32p_qsi4c32p_ukernel ukernel{\n",
    "    kai_get_m_step_matmul_clamp_f32_qsi8d32p4x8_qsi4c32p4x8_8x4x32_neon_i8mm,\n",
    "    kai_get_n_step_matmul_clamp_f32_qsi8d32p4x8_qsi4c32p4x8_8x4x32_neon_i8mm,\n",
    "    kai_get_mr_matmul_clamp_f32_qsi8d32p4x8_qsi4c32p4x8_8x4x32_neon_i8mm,\n",
    "    kai_get_nr_matmul_clamp_f32_qsi8d32p4x8_qsi4c32p4x8_8x4x32_neon_i8mm,\n",
    "    kai_get_kr_matmul_clamp_f32_qsi8d32p4x8_qsi4c32p4x8_8x4x32_neon_i8mm,\n",
    "    kai_get_sr_matmul_clamp_f32_qsi8d32p4x8_qsi4c32p4x8_8x4x32_neon_i8mm,\n",
    "    kai_get_lhs_packed_offset_matmul_clamp_f32_qsi8d32p4x8_qsi4c32p4x8_8x4x32_neon_i8mm,\n",
    "    kai_get_rhs_packed_offset_matmul_clamp_f32_qsi8d32p4x8_qsi4c32p4x8_8x4x32_neon_i8mm,\n",
    "    kai_get_dst_offset_matmul_clamp_f32_qsi8d32p4x8_qsi4c32p4x8_8x4x32_neon_i8mm,\n",
    "    kai_get_dst_size_matmul_clamp_f32_qsi8d32p4x8_qsi4c32p4x8_8x4x32_neon_i8mm,\n",
    "    kai_run_matmul_clamp_f32_qsi8d32p4x8_qsi4c32p4x8_8x4x32_neon_i8mm};\n",
    "\n"
   ]
  },
  {
   "cell_type": "markdown",
   "metadata": {},
   "source": [
    "### Build and Run "
   ]
  },
  {
   "cell_type": "code",
   "execution_count": 22,
   "metadata": {},
   "outputs": [
    {
     "name": "stdout",
     "output_type": "stream",
     "text": [
      "-- Configuring done (0.0s)\n",
      "-- Generating done (0.0s)\n",
      "-- Build files have been written to: /home/ubuntu/Generative_AI_on_arm/src/cpp/f32_i8_i4_i8mm/build\n",
      "[ 33%] Built target benchmark_i8_i8mm\n",
      "[ 66%] Built target benchmark_i8_i8mm_scaling\n",
      "[100%] Built target kai_i8_i8mm_inf\n",
      " \n",
      "=====> Benchmarking KleidiAI Int8 I8MM Kernel <========\n",
      "Time taken: 7.992 microseconds\n",
      "===========> Benchmark completed. <=============== \n",
      "\n"
     ]
    }
   ],
   "source": [
    "import os\n",
    "import subprocess\n",
    "\n",
    "# Set environment variable\n",
    "os.environ[\"TOKENIZERS_PARALLELISM\"] = \"false\"\n",
    "\n",
    "# Define the build directory path\n",
    "build_dir = \"src/cpp/f32_i8_i4_i8mm/build\"\n",
    "\n",
    "# Create the build directory if it doesn't exist\n",
    "os.makedirs(build_dir, exist_ok=True)\n",
    "\n",
    "# Configure the project with CMake\n",
    "subprocess.run([\"cmake\", \"..\"], cwd=build_dir, check=True)\n",
    "\n",
    "# Build the project using Make\n",
    "subprocess.run([\"make\"], cwd=build_dir, check=True)\n",
    "\n",
    "print(\" \")\n",
    "print(\"=====> Benchmarking KleidiAI Int8 I8MM Kernel <========\")\n",
    "# Execute the benchmark binary\n",
    "subprocess.run([\"./benchmark_i8_i8mm\"], cwd=build_dir)\n",
    "print(\"===========> Benchmark completed. <=============== \\n\")\n"
   ]
  },
  {
   "cell_type": "code",
   "execution_count": 49,
   "metadata": {},
   "outputs": [
    {
     "name": "stdout",
     "output_type": "stream",
     "text": [
      "Main process ID: 46803\n"
     ]
    }
   ],
   "source": [
    "import subprocess\n",
    "import os\n",
    "import time\n",
    "import signal\n",
    "\n",
    "# Run the main process\n",
    "process = subprocess.Popen(\n",
    "    [\"src/cpp/f32_i8_i4_i8mm/build/kai_i8_i8mm_inf\"],\n",
    "    stdout=subprocess.PIPE,\n",
    "    stderr=subprocess.PIPE\n",
    ")\n",
    "\n",
    "print(f\"Main process ID: {process.pid}\")\n"
   ]
  },
  {
   "cell_type": "code",
   "execution_count": 50,
   "metadata": {},
   "outputs": [
    {
     "name": "stdout",
     "output_type": "stream",
     "text": [
      "\n",
      "PID      NAME             NEON     SVE      SVE2     MatMulIn DotProd  %TOTAL   TOTAL   \n",
      "ALL      ALL              42.22    0.00     0.00     6.28     0.00     100.00   25294   \n",
      "46803    kai_i8_i8mm_inf  42.22    0.00     0.00     6.28     0.00     100.00   25294   \n",
      "\n",
      "PID      NAME             NEON     SVE      SVE2     MatMulIn DotProd  %TOTAL   TOTAL   \n",
      "ALL      ALL              41.56    0.00     0.00     6.37     0.00     100.00   26609   \n",
      "46803    kai_i8_i8mm_inf  41.56    0.00     0.00     6.37     0.00     100.00   26609   \n",
      "\n",
      "PID      NAME             NEON     SVE      SVE2     MatMulIn DotProd  %TOTAL   TOTAL   \n",
      "ALL      ALL              42.30    0.00     0.00     6.52     0.00     100.00   25270   \n",
      "46803    kai_i8_i8mm_inf  42.30    0.00     0.00     6.52     0.00     100.00   25270   \n",
      "^C\n"
     ]
    }
   ],
   "source": [
    "!sudo ./processwatch/processwatch -p 46803 -f HasNEON -f HasSVE -f HasSVE2 -f HasMatMulInt8 -f HasDotProd "
   ]
  },
  {
   "cell_type": "code",
   "execution_count": 51,
   "metadata": {},
   "outputs": [],
   "source": [
    "import os\n",
    "import signal\n",
    "\n",
    "os.kill(process.pid, signal.SIGTERM)"
   ]
  },
  {
   "cell_type": "markdown",
   "metadata": {},
   "source": [
    "### Plot Latency Scaling "
   ]
  },
  {
   "cell_type": "code",
   "execution_count": 52,
   "metadata": {},
   "outputs": [
    {
     "name": "stdout",
     "output_type": "stream",
     "text": [
      "Overwriting src/cpp/common/sizes.cpp\n"
     ]
    }
   ],
   "source": [
    "%%writefile src/cpp/common/sizes.cpp\n",
    "\n",
    "int sizes[] = {32, 64, 128, 256, 512, 1024, 2048};"
   ]
  },
  {
   "cell_type": "markdown",
   "metadata": {},
   "source": [
    "if changing sizes you should build the code again. "
   ]
  },
  {
   "cell_type": "code",
   "execution_count": 3,
   "metadata": {},
   "outputs": [
    {
     "name": "stdout",
     "output_type": "stream",
     "text": [
      "Building in src/cpp/f32_f32_f32p/build...\n",
      "-- Configuring done (0.0s)\n",
      "-- Generating done (0.0s)\n",
      "-- Build files have been written to: /home/ubuntu/Generative_AI_on_arm/src/cpp/f32_f32_f32p/build\n",
      "[ 33%] Built target benchmark_f32\n",
      "[ 66%] Built target benchmark_f32_scaling\n",
      "[100%] Built target kai_f32_inf\n",
      "Running benchmark_f32_scaling...\n",
      "Building in src/cpp/f16_f16_f16p/build...\n",
      "-- Configuring done (0.0s)\n",
      "-- Generating done (0.0s)\n",
      "-- Build files have been written to: /home/ubuntu/Generative_AI_on_arm/src/cpp/f16_f16_f16p/build\n",
      "[ 33%] Built target benchmark_f16\n",
      "[ 66%] Built target benchmark_f16_scaling\n",
      "[100%] Built target kai_f16_inf\n",
      "Running benchmark_f16_scaling...\n",
      "Building in src/cpp/f32_i8_i4_dotprod/build...\n",
      "-- Configuring done (0.0s)\n",
      "-- Generating done (0.0s)\n",
      "-- Build files have been written to: /home/ubuntu/Generative_AI_on_arm/src/cpp/f32_i8_i4_dotprod/build\n",
      "[ 33%] Built target benchmark_dotprod\n",
      "[ 66%] Built target benchmark_dotprod_scaling\n",
      "[100%] Built target kai_i8_dotprod_inf\n",
      "Running benchmark_dotprod_scaling...\n",
      "Building in src/cpp/f32_i8_i4_i8mm/build...\n",
      "-- Configuring done (0.0s)\n",
      "-- Generating done (0.0s)\n",
      "-- Build files have been written to: /home/ubuntu/Generative_AI_on_arm/src/cpp/f32_i8_i4_i8mm/build\n",
      "[ 33%] Built target benchmark_i8_i8mm\n",
      "[ 66%] Built target benchmark_i8_i8mm_scaling\n",
      "[100%] Built target kai_i8_i8mm_inf\n",
      "Running benchmark_i8_i8mm_scaling...\n",
      "Building in src/cpp/blas/build...\n",
      "-- BLAS library found: /usr/lib/aarch64-linux-gnu/libblas.so\n",
      "-- ARM architecture detected; adding NEON/SVE flags\n",
      "-- Configuring done (0.0s)\n",
      "-- Generating done (0.0s)\n",
      "-- Build files have been written to: /home/ubuntu/Generative_AI_on_arm/src/cpp/blas/build\n",
      "[ 50%] Built target blas_scaling_benchmark\n",
      "[100%] Built target blas_f32_inf\n",
      "Running blas_scaling_benchmark...\n"
     ]
    }
   ],
   "source": [
    "import os\n",
    "import subprocess\n",
    "\n",
    "# Set environment variable\n",
    "os.environ[\"TOKENIZERS_PARALLELISM\"] = \"false\"\n",
    "\n",
    "# Define projects with their build directories and benchmark executables\n",
    "projects = {\n",
    "    \"src/cpp/f32_f32_f32p/build\": \"benchmark_f32_scaling\",\n",
    "    \"src/cpp/f16_f16_f16p/build\": \"benchmark_f16_scaling\",\n",
    "    \"src/cpp/f32_i8_i4_dotprod/build\": \"benchmark_dotprod_scaling\",\n",
    "    \"src/cpp/f32_i8_i4_i8mm/build\": \"benchmark_i8_i8mm_scaling\",\n",
    "    \"src/cpp/blas/build\": \"blas_scaling_benchmark\"\n",
    "}\n",
    "\n",
    "for build_dir, benchmark in projects.items():\n",
    "    os.makedirs(build_dir, exist_ok=True)\n",
    "    print(f\"Building in {build_dir}...\")\n",
    "    subprocess.run([\"cmake\", \"..\"], cwd=build_dir, check=True)\n",
    "    subprocess.run([\"make\"], cwd=build_dir, check=True)\n",
    "    print(f\"Running {benchmark}...\")\n",
    "    subprocess.run([f\"./{benchmark}\"], cwd=build_dir, check=True)\n"
   ]
  },
  {
   "cell_type": "markdown",
   "metadata": {},
   "source": [
    "Run the scaling benchmarks "
   ]
  },
  {
   "cell_type": "markdown",
   "metadata": {},
   "source": [
    "## Plot the results for kleidiAI"
   ]
  },
  {
   "cell_type": "code",
   "execution_count": 5,
   "metadata": {},
   "outputs": [
    {
     "data": {
      "image/png": "[encoded data removed]",
      "text/plain": [
       "<Figure size 1200x600 with 1 Axes>"
      ]
     },
     "metadata": {},
     "output_type": "display_data"
    }
   ],
   "source": [
    "import matplotlib.pyplot as plt \n",
    "import numpy as np\n",
    "import pandas as pd \n",
    "\n",
    "# Load datasets\n",
    "f32_data = pd.read_csv(\"src/cpp/results/f32_scaling_results.csv\")\n",
    "f16_data = pd.read_csv(\"src/cpp/results/f16_scaling_results.csv\")\n",
    "int8_dotprod_data = pd.read_csv(\"src/cpp/results/i8_dotprod_scaling_results.csv\")\n",
    "int8_i8mm_data = pd.read_csv(\"src/cpp/results/i8_i8mm_scaling_results.csv\")\n",
    "blas_data = pd.read_csv(\"src/cpp/results/blas_f32_scaling_results.csv\")\n",
    "\n",
    "# Plotting the results\n",
    "plt.figure(figsize=(12, 6))\n",
    "\n",
    "# Plot each dataset\n",
    "plt.plot(f32_data['Size'], f32_data['Latency(us)'], label=\"FP32 NEON\", marker='o')\n",
    "plt.plot(f16_data['Size'], f16_data['Latency(us)'], label=\"FP16 NEON\", marker='s')\n",
    "plt.plot(int8_dotprod_data['Size'], int8_dotprod_data['Latency(us)'], label=\"INT8 Dot Product\", marker='^')\n",
    "plt.plot(int8_i8mm_data['Size'], int8_i8mm_data['Latency(us)'], label=\"INT8 I8MM\", marker='d')\n",
    "plt.plot(blas_data['Size'], blas_data['Latency(us)'], label=\"BLAS FP32\", marker='x', linestyle='--', linewidth=2)\n",
    "\n",
    "# Add labels and title\n",
    "plt.xlabel(\"Matrix Size\")\n",
    "plt.ylabel(\"Latency (µs)\")\n",
    "plt.title(\"Matrix Multiplication Latency for Different Data Types\")\n",
    "plt.yscale('log')  # Use log scale for latency if the values span multiple orders of magnitude\n",
    "plt.legend()\n",
    "plt.grid(True, which=\"both\", linestyle=\"--\", linewidth=0.5)\n",
    "\n",
    "# Show the plot\n",
    "plt.tight_layout()\n",
    "plt.show()\n",
    "\n"
   ]
  },
  {
   "cell_type": "markdown",
   "metadata": {},
   "source": [
    "# watch the blas fp32 process"
   ]
  },
  {
   "cell_type": "code",
   "execution_count": 20,
   "metadata": {},
   "outputs": [
    {
     "name": "stdout",
     "output_type": "stream",
     "text": [
      "Main process ID: 40949\n"
     ]
    }
   ],
   "source": []
  },
  {
   "cell_type": "code",
   "execution_count": 21,
   "metadata": {},
   "outputs": [
    {
     "name": "stdout",
     "output_type": "stream",
     "text": [
      "\n",
      "PID      NAME             SVE      SVE2     MatMulIn DotProd  %TOTAL   TOTAL   \n",
      "ALL      ALL              0.00     0.00     0.00     0.00     100.00   25279   \n",
      "40949    blas_f32_inf     0.00     0.00     0.00     0.00     100.00   25279   \n",
      "\n",
      "PID      NAME             SVE      SVE2     MatMulIn DotProd  %TOTAL   TOTAL   \n",
      "ALL      ALL              0.00     0.00     0.00     0.00     100.00   26596   \n",
      "40949    blas_f32_inf     0.00     0.00     0.00     0.00     100.00   26596   \n",
      "^C\n"
     ]
    }
   ],
   "source": [
    "!sudo ./processwatch/processwatch -p 40949-f HasNEON -f HasSVE -f HasSVE2 -f HasMatMulInt8 -f HasDotProd "
   ]
  },
  {
   "cell_type": "code",
   "execution_count": 22,
   "metadata": {},
   "outputs": [],
   "source": [
    "import os\n",
    "import signal\n",
    "\n",
    "os.kill(process.pid, signal.SIGTERM)"
   ]
  },
  {
   "cell_type": "markdown",
   "metadata": {},
   "source": [
    "# watch the kleidiai FP32 process "
   ]
  },
  {
   "cell_type": "code",
   "execution_count": 23,
   "metadata": {},
   "outputs": [
    {
     "name": "stdout",
     "output_type": "stream",
     "text": [
      "Main process ID: 40979\n"
     ]
    }
   ],
   "source": []
  },
  {
   "cell_type": "code",
   "execution_count": 24,
   "metadata": {},
   "outputs": [
    {
     "name": "stdout",
     "output_type": "stream",
     "text": [
      "\n",
      "PID      NAME             NEON     SVE      SVE2     MatMulIn DotProd  %TOTAL   TOTAL   \n",
      "ALL      ALL              70.70    0.00     0.00     0.00     0.00     100.00   25241   \n",
      "40979    kai_f32_inf      70.70    0.00     0.00     0.00     0.00     100.00   25241   \n",
      "\n",
      "PID      NAME             NEON     SVE      SVE2     MatMulIn DotProd  %TOTAL   TOTAL   \n",
      "ALL      ALL              70.75    0.00     0.00     0.00     0.00     100.00   26571   \n",
      "40979    kai_f32_inf      70.75    0.00     0.00     0.00     0.00     100.00   26571   \n",
      "^C\n"
     ]
    }
   ],
   "source": []
  },
  {
   "cell_type": "code",
   "execution_count": 25,
   "metadata": {},
   "outputs": [],
   "source": [
    "import os\n",
    "import signal\n",
    "\n",
    "os.kill(process.pid, signal.SIGTERM)"
   ]
  },
  {
   "cell_type": "markdown",
   "metadata": {},
   "source": [
    "# watch the kleidiai FP16 process "
   ]
  },
  {
   "cell_type": "code",
   "execution_count": 26,
   "metadata": {},
   "outputs": [
    {
     "name": "stdout",
     "output_type": "stream",
     "text": [
      "Main process ID: 41009\n"
     ]
    }
   ],
   "source": []
  },
  {
   "cell_type": "code",
   "execution_count": 27,
   "metadata": {},
   "outputs": [
    {
     "name": "stdout",
     "output_type": "stream",
     "text": [
      "\n",
      "PID      NAME             NEON     SVE      SVE2     MatMulIn DotProd  %TOTAL   TOTAL   \n",
      "ALL      ALL              83.85    0.00     0.00     0.00     0.00     100.00   25200   \n",
      "41009    kai_f16_inf      83.85    0.00     0.00     0.00     0.00     100.00   25200   \n",
      "\n",
      "PID      NAME             NEON     SVE      SVE2     MatMulIn DotProd  %TOTAL   TOTAL   \n",
      "ALL      ALL              83.90    0.00     0.00     0.00     0.00     100.00   26517   \n",
      "41009    kai_f16_inf      83.90    0.00     0.00     0.00     0.00     100.00   26517   \n",
      "\n",
      "PID      NAME             NEON     SVE      SVE2     MatMulIn DotProd  %TOTAL   TOTAL   \n",
      "ALL      ALL              83.93    0.00     0.00     0.00     0.00     100.00   25219   \n",
      "41009    kai_f16_inf      83.93    0.00     0.00     0.00     0.00     100.00   25219   \n",
      "^C\n"
     ]
    }
   ],
   "source": [
    "!sudo ./processwatch/processwatch -p 41009 -f HasNEON -f HasSVE -f HasSVE2 -f HasMatMulInt8 -f HasDotProd "
   ]
  },
  {
   "cell_type": "code",
   "execution_count": 29,
   "metadata": {},
   "outputs": [],
   "source": []
  },
  {
   "cell_type": "markdown",
   "metadata": {},
   "source": [
    "# watch the kleidiai INT8/4 DotProd process "
   ]
  },
  {
   "cell_type": "code",
   "execution_count": 30,
   "metadata": {},
   "outputs": [
    {
     "name": "stdout",
     "output_type": "stream",
     "text": [
      "Main process ID: 41077\n"
     ]
    }
   ],
   "source": []
  },
  {
   "cell_type": "code",
   "execution_count": 31,
   "metadata": {},
   "outputs": [
    {
     "name": "stdout",
     "output_type": "stream",
     "text": [
      "\n",
      "PID      NAME             NEON     SVE      SVE2     MatMulIn DotProd  %TOTAL   TOTAL   \n",
      "ALL      ALL              57.83    0.00     0.00     0.00     5.37     100.00   25290   \n",
      "41077    kai_i8_dotprod_  57.83    0.00     0.00     0.00     5.37     100.00   25290   \n",
      "\n",
      "PID      NAME             NEON     SVE      SVE2     MatMulIn DotProd  %TOTAL   TOTAL   \n",
      "ALL      ALL              57.65    0.00     0.00     0.00     5.49     100.00   26615   \n",
      "41077    kai_i8_dotprod_  57.65    0.00     0.00     0.00     5.49     100.00   26615   \n",
      "\n",
      "PID      NAME             NEON     SVE      SVE2     MatMulIn DotProd  %TOTAL   TOTAL   \n",
      "ALL      ALL              58.20    0.00     0.00     0.00     5.44     100.00   25301   \n",
      "41077    kai_i8_dotprod_  58.20    0.00     0.00     0.00     5.44     100.00   25301   \n",
      "^C\n"
     ]
    }
   ],
   "source": [
    "!sudo ./processwatch/processwatch -p 41077 -f HasNEON -f HasSVE -f HasSVE2 -f HasMatMulInt8 -f HasDotProd "
   ]
  },
  {
   "cell_type": "code",
   "execution_count": 32,
   "metadata": {},
   "outputs": [],
   "source": [
    "import os\n",
    "import signal\n",
    "\n",
    "os.kill(process.pid, signal.SIGTERM)"
   ]
  },
  {
   "cell_type": "markdown",
   "metadata": {},
   "source": [
    "# watch the kleidiai int8/4 i8mm process"
   ]
  },
  {
   "cell_type": "code",
   "execution_count": 33,
   "metadata": {},
   "outputs": [
    {
     "name": "stdout",
     "output_type": "stream",
     "text": [
      "Main process ID: 41106\n"
     ]
    }
   ],
   "source": [
    "import subprocess\n",
    "import os\n",
    "import time\n",
    "import signal\n",
    "\n",
    "# Run the main process\n",
    "process = subprocess.Popen(\n",
    "    [\"src/cpp/f32_i8_i4_i8mm/build/kai_i8_i8mm_inf\"],\n",
    "    stdout=subprocess.PIPE,\n",
    "    stderr=subprocess.PIPE\n",
    ")\n",
    "\n",
    "print(f\"Main process ID: {process.pid}\")"
   ]
  },
  {
   "cell_type": "code",
   "execution_count": 34,
   "metadata": {},
   "outputs": [
    {
     "name": "stdout",
     "output_type": "stream",
     "text": [
      "\n",
      "PID      NAME             NEON     SVE      SVE2     MatMulIn DotProd  %TOTAL   TOTAL   \n",
      "ALL      ALL              42.02    0.00     0.00     6.16     0.00     100.00   25293   \n",
      "41106    kai_i8_i8mm_inf  42.02    0.00     0.00     6.16     0.00     100.00   25293   \n",
      "\n",
      "PID      NAME             NEON     SVE      SVE2     MatMulIn DotProd  %TOTAL   TOTAL   \n",
      "ALL      ALL              41.26    0.00     0.00     6.55     0.00     100.00   26598   \n",
      "41106    kai_i8_i8mm_inf  41.26    0.00     0.00     6.55     0.00     100.00   26598   \n",
      "\n",
      "PID      NAME             NEON     SVE      SVE2     MatMulIn DotProd  %TOTAL   TOTAL   \n",
      "ALL      ALL              41.44    0.00     0.00     6.57     0.00     100.00   25285   \n",
      "41106    kai_i8_i8mm_inf  41.44    0.00     0.00     6.57     0.00     100.00   25285   \n",
      "^C\n"
     ]
    }
   ],
   "source": [
    "!sudo ./processwatch/processwatch -p 41106 -f HasNEON -f HasSVE -f HasSVE2 -f HasMatMulInt8 -f HasDotProd "
   ]
  },
  {
   "cell_type": "code",
   "execution_count": 35,
   "metadata": {},
   "outputs": [],
   "source": [
    "import os\n",
    "import signal\n",
    "\n",
    "os.kill(process.pid, signal.SIGTERM)"
   ]
  },
  {
   "cell_type": "markdown",
   "metadata": {},
   "source": [
    "# Onto KLEIDIAI Integrations with torch. Lets start by using the 4bit weight only kernel"
   ]
  },
  {
   "cell_type": "code",
   "execution_count": 36,
   "metadata": {},
   "outputs": [],
   "source": [
    "import torch \n",
    "import torch.nn as nn\n",
    "import torch.nn.functional as F \n",
    "from torchao.quantization.utils import prepare_int4_weight_and_scales_and_zeros\n",
    "from torchao.utils import find_multiple"
   ]
  },
  {
   "cell_type": "code",
   "execution_count": null,
   "metadata": {},
   "outputs": [],
   "source": []
  },
  {
   "cell_type": "markdown",
   "metadata": {},
   "source": [
    "### Set some matmul hyperparameters "
   ]
  },
  {
   "cell_type": "code",
   "execution_count": 37,
   "metadata": {},
   "outputs": [],
   "source": [
    "out_features = 256 \n",
    "in_features = 128\n",
    "groupsize = 32 \n",
    "inner_k_tiles = 8"
   ]
  },
  {
   "cell_type": "markdown",
   "metadata": {},
   "source": [
    "### Create the floating point matrices "
   ]
  },
  {
   "cell_type": "code",
   "execution_count": 38,
   "metadata": {},
   "outputs": [],
   "source": [
    "weight = torch.randn(out_features, in_features, dtype=torch.float32)\n",
    "x = torch.randn(1, in_features, dtype=torch.float32)"
   ]
  },
  {
   "cell_type": "markdown",
   "metadata": {},
   "source": [
    "## use torchao to perform the group quantization "
   ]
  },
  {
   "cell_type": "code",
   "execution_count": 39,
   "metadata": {},
   "outputs": [],
   "source": [
    "w_int4x8, scales_and_zeros = prepare_int4_weight_and_scales_and_zeros(\n",
    "    weight, \n",
    "    groupsize, \n",
    "    inner_k_tiles, \n",
    "    \"symmetric_groupwise\", \n",
    "    precision=torch.float32,\n",
    ")"
   ]
  },
  {
   "cell_type": "markdown",
   "metadata": {},
   "source": [
    "### Look at the shapes to see what has been done "
   ]
  },
  {
   "cell_type": "code",
   "execution_count": 40,
   "metadata": {},
   "outputs": [
    {
     "name": "stdout",
     "output_type": "stream",
     "text": [
      "Full Precision weights: shape torch.Size([256, 128]) dtype torch.float32\n",
      "Prepared weights: shape torch.Size([1024, 18]) dtype torch.uint8\n",
      " \n",
      "weight number equality:  18432 == 18432\n"
     ]
    }
   ],
   "source": [
    "print(f\"Full Precision weights: shape {weight.shape} dtype {weight.dtype}\")\n",
    "print(f\"Prepared weights: shape {w_int4x8.shape} dtype {w_int4x8.dtype}\")\n",
    "print(\" \")\n",
    "print(\"weight number equality: \", w_int4x8.numel(), \"==\", weight.numel()//2 + (weight.numel()//groupsize * 2))"
   ]
  },
  {
   "cell_type": "markdown",
   "metadata": {},
   "source": [
    "**Explanation of the Prepared Weights Size**\n",
    "\n",
    "We can see above that the following equality between the number of weights in the prepared quantized weights (w-int4x8) and the original weights (weight) is true. \n",
    "\n",
    "```python\n",
    "w_int4x8.numel() == (weight.numel() // 2) + (weight.numel() // groupsize * 2) \n",
    "```\n",
    "\n",
    "***NOTE: weight.numel() gives the number of elements inside a pytorch tensor***\n",
    "\n",
    "This can be explained by our use of 4-bit quantization in which we need to pack the quantized weights in addition to it's scale parameters into the w_int4x8 tensor. To do so, this can be interpreted in two parts:\n",
    "\n",
    "1. **Half the number of weights**:  \n",
    "   - Because each original weight is mapped to a 4-bit number, and two 4-bit values fit in a single byte, we only need half as many bytes as the total number of full-precision weights.  \n",
    "   - This is expressed by `(weight.numel() // 2)` in the weight number equality.\n",
    "\n",
    "2. **Storage for scale parameters**:  \n",
    "   - Each group of weights has a corresponding scale factor, and the number of groups is `(weight.numel() // groupsize)`.  \n",
    "   - These scale factors are stored in `float16` format, which requires 2 bytes for each scale, leading to `* 2`.  \n",
    "   - Hence, the term `(weight.numel() // groupsize * 2)` accounts for the total bytes needed for all scale factors.\n",
    "\n",
    "Therefore, when you add these two parts:\n",
    "\n",
    "```python\n",
    "(weight.numel() // 2) + (weight.numel() // groupsize * 2) \n",
    "```\n",
    "\n",
    "you get the total storage (in bytes) for the quantized weights plus the scale parameters. This total matches the number of elements in `w_int4x8`, ensuring the shape `torch.Size([1024, 18])` correctly reflects both packed 4-bit weights and their scale factors.\n",
    "\n",
    "\n",
    "**Explanation of the Prepared Weights shape**"
   ]
  },
  {
   "cell_type": "code",
   "execution_count": 41,
   "metadata": {},
   "outputs": [
    {
     "data": {
      "text/plain": [
       "torch.Size([1024, 18])"
      ]
     },
     "execution_count": 41,
     "metadata": {},
     "output_type": "execute_result"
    }
   ],
   "source": [
    "w_int4x8.shape"
   ]
  },
  {
   "cell_type": "markdown",
   "metadata": {},
   "source": [
    "The weight preparation function has performed group quantization, quantizing each group to a single row in the matrix. This gives `weight.numel()s//group_size` rows. We can check that it is true using the below line "
   ]
  },
  {
   "cell_type": "code",
   "execution_count": 42,
   "metadata": {},
   "outputs": [
    {
     "data": {
      "text/plain": [
       "1024"
      ]
     },
     "execution_count": 42,
     "metadata": {},
     "output_type": "execute_result"
    }
   ],
   "source": [
    "weight.numel() // groupsize"
   ]
  },
  {
   "cell_type": "markdown",
   "metadata": {},
   "source": [
    "ok so that means that there is one group per row, each one with their own scale parameter. Given that the groupsize we have used is 32, and when using 4-bit quantization we can pack 2 elemtns into a single byte, that gives a row size of 16 bytes. This leaves a discrepancy of 2 bytes. This 2 byte difference is used to hold the symmetric scale parameter in float16 format. Therefore the row size of w_int4x8 is: "
   ]
  },
  {
   "cell_type": "code",
   "execution_count": 43,
   "metadata": {},
   "outputs": [
    {
     "data": {
      "text/plain": [
       "18"
      ]
     },
     "execution_count": 43,
     "metadata": {},
     "output_type": "execute_result"
    }
   ],
   "source": [
    "groupsize // 2 + 2"
   ]
  },
  {
   "cell_type": "markdown",
   "metadata": {},
   "source": [
    "# Lets now use the kleidiai kernel that has been integrated into torch \n",
    "after performing the quantization, we must pack the weight into a shape required by the kleidiai kernels. This, is a memory optimization step. "
   ]
  },
  {
   "cell_type": "code",
   "execution_count": 44,
   "metadata": {},
   "outputs": [],
   "source": [
    "weight_int4pack = torch.ops.aten._kai_weight_pack_int4(w_int4x8, scales_and_zeros.float(), out_features, in_features, groupsize)"
   ]
  },
  {
   "cell_type": "markdown",
   "metadata": {},
   "source": [
    "# define a forward function to use the kleidi kernel "
   ]
  },
  {
   "cell_type": "code",
   "execution_count": 45,
   "metadata": {},
   "outputs": [],
   "source": [
    "def linear_forward_int4_symmetric_groupwise(x, weight_int4pack, out_features, in_features):\n",
    "    origin_x_size = x.size()\n",
    "    c = torch.ops.aten._kai_input_quant_mm_int4(x, weight_int4pack, x.shape[-2],out_features, in_features, 32)\n",
    "    new_shape = origin_x_size[:-1] + (out_features,)\n",
    "    c = c.reshape(new_shape)\n",
    "    return c\n"
   ]
  },
  {
   "cell_type": "code",
   "execution_count": 46,
   "metadata": {},
   "outputs": [],
   "source": [
    "out_kai = linear_forward_int4_symmetric_groupwise(x, weight_int4pack, out_features, in_features)"
   ]
  },
  {
   "cell_type": "markdown",
   "metadata": {},
   "source": [
    "# lets check the quantization error compared to the fp32 multiplication "
   ]
  },
  {
   "cell_type": "code",
   "execution_count": 47,
   "metadata": {},
   "outputs": [
    {
     "name": "stdout",
     "output_type": "stream",
     "text": [
      "tensor([10.7431, -0.0724, -6.2523,  3.7692, -3.8037])\n",
      "tensor([10.5821, -0.0892, -7.1642,  3.7358, -4.9737])\n"
     ]
    }
   ],
   "source": [
    "out_baseline = torch.matmul(x, weight.T) # compute the baseline operation\n",
    "print(out_kai.flatten()[:5])\n",
    "print(out_baseline.flatten()[:5])\n",
    "error = (out_baseline - out_kai).abs() / out_baseline.abs()"
   ]
  },
  {
   "cell_type": "code",
   "execution_count": 48,
   "metadata": {},
   "outputs": [
    {
     "data": {
      "image/png": "[encoded data removed]",
      "text/plain": [
       "<Figure size 640x480 with 1 Axes>"
      ]
     },
     "metadata": {},
     "output_type": "display_data"
    }
   ],
   "source": [
    "import matplotlib.pyplot as plt \n",
    "plt.hist(error.flatten().numpy(), bins=1000)\n",
    "plt.show()"
   ]
  },
  {
   "cell_type": "markdown",
   "metadata": {},
   "source": [
    "## Quantizing A model with KleidiAI\n",
    "define a 4-bit weight only linear using kleidiai kernel"
   ]
  },
  {
   "cell_type": "code",
   "execution_count": 67,
   "metadata": {},
   "outputs": [],
   "source": [
    "class Int4WeightOnlyKAILinear(nn.Module):\n",
    "    def __init__(self, in_features, out_features, bias=True): \n",
    "        super().__init__()\n",
    "        self.in_features = in_features\n",
    "        self.out_features = out_features\n",
    "\n",
    "        self.register_buffer(\n",
    "            \"weight\",\n",
    "            torch.zeros((torch.ops.aten.get_kai_weight_pack_int4_size(out_features,in_features,groupsize)), dtype=torch.uint8)\n",
    "        )\n",
    "\n",
    "        self.register_buffer(\n",
    "            \"scales_and_zeros\",\n",
    "            torch.zeros((0), dtype=torch.float32)\n",
    "        )\n",
    "\n",
    "        if bias is not False: \n",
    "            self.register_buffer(\n",
    "                \"bias\",\n",
    "                torch.zeros((self.out_features), dtype=torch.float32)\n",
    "            )\n",
    "        else: \n",
    "            self.register_buffer(\"bias\", None)\n",
    "\n",
    "    def forward(self, x):\n",
    "        out = linear_forward_int4_symmetric_groupwise(x, self.weight, self.out_features, self.in_features)\n",
    "        if self.bias is not None:\n",
    "            out += self.bias \n",
    "        return out"
   ]
  },
  {
   "cell_type": "markdown",
   "metadata": {},
   "source": [
    "define function to return quantized version of layer"
   ]
  },
  {
   "cell_type": "code",
   "execution_count": 68,
   "metadata": {},
   "outputs": [],
   "source": [
    "def quantize_linear_layer(layer):\n",
    "    fp_weight = layer.weight.data.detach()\n",
    "    out_features = layer.out_features\n",
    "    in_features = layer.in_features\n",
    "\n",
    "    w_int4x8, scales_and_zeros = prepare_int4_weight_and_scales_and_zeros(\n",
    "        fp_weight, \n",
    "        groupsize=32, # groupsize\n",
    "        inner_k_tiles=8, # inner_k_tiles \n",
    "        scheme=\"symmetric_groupwise\", \n",
    "        precision=torch.float32\n",
    "    )\n",
    "\n",
    "    weight_int4pack = torch.ops.aten._kai_weight_pack_int4(\n",
    "        w_int4x8, \n",
    "        scales_and_zeros.float(), \n",
    "        out_features, \n",
    "        in_features, \n",
    "        groupsize\n",
    "    )\n",
    "\n",
    "    use_bias = layer.bias is not None\n",
    "    layer4bit = Int4WeightOnlyKAILinear(in_features, out_features, use_bias)\n",
    "\n",
    "    layer4bit.weight = weight_int4pack\n",
    "    layer4bit.scales_and_zeros = scales_and_zeros\n",
    "    if use_bias:\n",
    "        layer4bit.bias.data.copy_(layer.bias.data)\n",
    "\n",
    "    return layer4bit\n"
   ]
  },
  {
   "cell_type": "markdown",
   "metadata": {},
   "source": [
    "define function to quantize an entire nn.Module inplace"
   ]
  },
  {
   "cell_type": "code",
   "execution_count": 69,
   "metadata": {},
   "outputs": [],
   "source": [
    "def quantize_model(model):\n",
    "    for name, child in model.named_children():\n",
    "        if isinstance(child, nn.Linear):\n",
    "            # Quantize the linear layer\n",
    "            quantized_layer = quantize_linear_layer(child)\n",
    "            setattr(model, name, quantized_layer)\n",
    "        else:\n",
    "            # Recursively apply to child modules\n",
    "            quantize_model(child)\n",
    "    return model\n"
   ]
  },
  {
   "cell_type": "markdown",
   "metadata": {},
   "source": [
    "create the model"
   ]
  },
  {
   "cell_type": "code",
   "execution_count": 70,
   "metadata": {},
   "outputs": [],
   "source": [
    "import torch\n",
    "import transformers\n",
    "from transformers import AutoModelForCausalLM, AutoTokenizer\n",
    "\n",
    "\n",
    "model = AutoModelForCausalLM.from_pretrained(\"apple/OpenELM-270M-Instruct\", trust_remote_code=True)\n",
    "tokenizer = AutoTokenizer.from_pretrained(\"meta-llama/Llama-2-7b-hf\", trust_remote_code=True)\n",
    "\n",
    "prompt = \"Arm is a company that\" \n",
    "inputs = tokenizer(prompt, return_tensors=\"pt\")"
   ]
  },
  {
   "cell_type": "markdown",
   "metadata": {},
   "source": [
    "Lets sample a generation from the model"
   ]
  },
  {
   "cell_type": "code",
   "execution_count": 71,
   "metadata": {},
   "outputs": [
    {
     "data": {
      "text/plain": [
       "'Arm is a company that has been in the business of manufacturing and supplying various types of'"
      ]
     },
     "execution_count": 71,
     "metadata": {},
     "output_type": "execute_result"
    }
   ],
   "source": [
    "if tokenizer.pad_token is None:\n",
    "    tokenizer.pad_token = tokenizer.eos_token\n",
    "\n",
    "generated_ids = model.generate(inputs[\"input_ids\"], attention_mask=inputs[\"attention_mask\"], pad_token_id=tokenizer.pad_token_id, max_length=20)\n",
    "generated_text_fp = tokenizer.decode(generated_ids[0], skip_special_tokens=True)\n",
    "generated_text_fp"
   ]
  },
  {
   "cell_type": "markdown",
   "metadata": {},
   "source": [
    "before quantizing get full precision memory consumption"
   ]
  },
  {
   "cell_type": "code",
   "execution_count": 72,
   "metadata": {},
   "outputs": [
    {
     "name": "stdout",
     "output_type": "stream",
     "text": [
      "Baseline memory consumption: 1035.79 MB\n"
     ]
    }
   ],
   "source": [
    "import torch\n",
    "\n",
    "baseline_memory_consumption = 0  # Memory in bytes\n",
    "for name, param in model.named_parameters():  # Use model.named_parameters() to iterate over model parameters\n",
    "    baseline_memory_consumption += param.numel() * param.element_size()\n",
    "\n",
    "# Convert to megabytes (MB)\n",
    "baseline_memory_consumption_mb = baseline_memory_consumption / (1024 ** 2)\n",
    "\n",
    "print(f\"Baseline memory consumption: {baseline_memory_consumption_mb:.2f} MB\")"
   ]
  },
  {
   "cell_type": "markdown",
   "metadata": {},
   "source": [
    "before quantizing get the full precision generation latency "
   ]
  },
  {
   "cell_type": "code",
   "execution_count": 73,
   "metadata": {},
   "outputs": [
    {
     "name": "stdout",
     "output_type": "stream",
     "text": [
      "Time taken: 434.65 ms\n"
     ]
    }
   ],
   "source": [
    "import time\n",
    "    \n",
    "baseline_latency = 0\n",
    "for _ in range(10):\n",
    "    st = time.time()\n",
    "    model.generate(inputs[\"input_ids\"], attention_mask=inputs[\"attention_mask\"], pad_token_id=tokenizer.pad_token_id, max_length=20)\n",
    "    et = time.time()\n",
    "    baseline_latency += (et - st) * 1000\n",
    "baseline_latency /= 10\n",
    "\n",
    "print(f\"Time taken: {baseline_latency:.2f} ms\")"
   ]
  },
  {
   "cell_type": "markdown",
   "metadata": {},
   "source": [
    "qauntize the model "
   ]
  },
  {
   "cell_type": "code",
   "execution_count": 74,
   "metadata": {},
   "outputs": [
    {
     "data": {
      "text/plain": [
       "OpenELMModel(\n",
       "  (token_embeddings): Embedding(32000, 1280)\n",
       "  (layers): ModuleList(\n",
       "    (0-4): 5 x OpenELMDecoderLayer(\n",
       "      (attn): OpenELMMultiHeadCausalAttention(\n",
       "        query_heads=12, key_heads=3, value_heads=3\n",
       "        (qkv_proj): Int4WeightOnlyKAILinear()\n",
       "        (pos_embedding): OpenELMRotaryEmbedding(\tmodel_dim=64, max_seq_length=4096, freq_constant=10000)\n",
       "        (q_norm): OpenELMRMSNorm(num_features=64, eps=1e-06)\n",
       "        (k_norm): OpenELMRMSNorm(num_features=64, eps=1e-06)\n",
       "        (out_proj): Int4WeightOnlyKAILinear()\n",
       "      )\n",
       "      (ffn): OpenELMFeedForwardNetwork(\n",
       "        (ffn_with_glu) : True\n",
       "        (proj_1): Int4WeightOnlyKAILinear()\n",
       "        (proj_2): Int4WeightOnlyKAILinear()\n",
       "        (act): SiLU()\n",
       "      )\n",
       "      (ffn_norm): OpenELMRMSNorm(num_features=1280, eps=1e-06)\n",
       "      (attn_norm): OpenELMRMSNorm(num_features=1280, eps=1e-06)\n",
       "    )\n",
       "    (5-11): 7 x OpenELMDecoderLayer(\n",
       "      (attn): OpenELMMultiHeadCausalAttention(\n",
       "        query_heads=16, key_heads=4, value_heads=4\n",
       "        (qkv_proj): Int4WeightOnlyKAILinear()\n",
       "        (pos_embedding): OpenELMRotaryEmbedding(\tmodel_dim=64, max_seq_length=4096, freq_constant=10000)\n",
       "        (q_norm): OpenELMRMSNorm(num_features=64, eps=1e-06)\n",
       "        (k_norm): OpenELMRMSNorm(num_features=64, eps=1e-06)\n",
       "        (out_proj): Int4WeightOnlyKAILinear()\n",
       "      )\n",
       "      (ffn): OpenELMFeedForwardNetwork(\n",
       "        (ffn_with_glu) : True\n",
       "        (proj_1): Int4WeightOnlyKAILinear()\n",
       "        (proj_2): Int4WeightOnlyKAILinear()\n",
       "        (act): SiLU()\n",
       "      )\n",
       "      (ffn_norm): OpenELMRMSNorm(num_features=1280, eps=1e-06)\n",
       "      (attn_norm): OpenELMRMSNorm(num_features=1280, eps=1e-06)\n",
       "    )\n",
       "    (12-15): 4 x OpenELMDecoderLayer(\n",
       "      (attn): OpenELMMultiHeadCausalAttention(\n",
       "        query_heads=20, key_heads=5, value_heads=5\n",
       "        (qkv_proj): Int4WeightOnlyKAILinear()\n",
       "        (pos_embedding): OpenELMRotaryEmbedding(\tmodel_dim=64, max_seq_length=4096, freq_constant=10000)\n",
       "        (q_norm): OpenELMRMSNorm(num_features=64, eps=1e-06)\n",
       "        (k_norm): OpenELMRMSNorm(num_features=64, eps=1e-06)\n",
       "        (out_proj): Int4WeightOnlyKAILinear()\n",
       "      )\n",
       "      (ffn): OpenELMFeedForwardNetwork(\n",
       "        (ffn_with_glu) : True\n",
       "        (proj_1): Int4WeightOnlyKAILinear()\n",
       "        (proj_2): Int4WeightOnlyKAILinear()\n",
       "        (act): SiLU()\n",
       "      )\n",
       "      (ffn_norm): OpenELMRMSNorm(num_features=1280, eps=1e-06)\n",
       "      (attn_norm): OpenELMRMSNorm(num_features=1280, eps=1e-06)\n",
       "    )\n",
       "  )\n",
       "  (norm): OpenELMRMSNorm(num_features=1280, eps=1e-06)\n",
       ")"
      ]
     },
     "execution_count": 74,
     "metadata": {},
     "output_type": "execute_result"
    }
   ],
   "source": [
    "quantize_model(model.transformer)"
   ]
  },
  {
   "cell_type": "markdown",
   "metadata": {},
   "source": [
    "Get the quantized memory consumption"
   ]
  },
  {
   "cell_type": "code",
   "execution_count": 75,
   "metadata": {},
   "outputs": [
    {
     "name": "stdout",
     "output_type": "stream",
     "text": [
      "Baseline memory consumption: 156.42 MB\n"
     ]
    }
   ],
   "source": [
    "import torch\n",
    "\n",
    "quantized_memory_consumption = 0  # Memory in bytes\n",
    "for name, param in model.named_parameters():  # Use model.named_parameters() to iterate over model parameters\n",
    "    quantized_memory_consumption += param.numel() * param.element_size()\n",
    "\n",
    "# Convert to megabytes (MB)\n",
    "quantized_memory_consumption_mb = quantized_memory_consumption / (1024 ** 2)\n",
    "\n",
    "print(f\"Baseline memory consumption: {quantized_memory_consumption_mb:.2f} MB\")"
   ]
  },
  {
   "cell_type": "markdown",
   "metadata": {},
   "source": [
    "Get the quantized latency"
   ]
  },
  {
   "cell_type": "code",
   "execution_count": 76,
   "metadata": {},
   "outputs": [
    {
     "name": "stdout",
     "output_type": "stream",
     "text": [
      "Time taken: 306.34 ms\n"
     ]
    }
   ],
   "source": [
    "import time\n",
    "\n",
    "quantized_latency = 0\n",
    "for _ in range(10):\n",
    "    st = time.time()\n",
    "    model.generate(inputs[\"input_ids\"], attention_mask=inputs[\"attention_mask\"], pad_token_id=tokenizer.pad_token_id, max_length=20)\n",
    "    et = time.time()\n",
    "    quantized_latency += (et - st) * 1000\n",
    "quantized_latency /= 10\n",
    "\n",
    "print(f\"Time taken: {quantized_latency:.2f} ms\")"
   ]
  },
  {
   "cell_type": "markdown",
   "metadata": {},
   "source": [
    "generate from the quantized model "
   ]
  },
  {
   "cell_type": "code",
   "execution_count": 77,
   "metadata": {},
   "outputs": [
    {
     "data": {
      "text/plain": [
       "'Arm is a company that specializes in the design, manufacture, and installation of custom-'"
      ]
     },
     "execution_count": 77,
     "metadata": {},
     "output_type": "execute_result"
    }
   ],
   "source": [
    "generated_ids = model.generate(inputs[\"input_ids\"], attention_mask=inputs[\"attention_mask\"], pad_token_id=tokenizer.pad_token_id, max_length=20)\n",
    "generated_text_4bit = tokenizer.decode(generated_ids[0], skip_special_tokens=True)\n",
    "generated_text_4bit"
   ]
  },
  {
   "cell_type": "code",
   "execution_count": null,
   "metadata": {},
   "outputs": [],
   "source": []
  },
  {
   "cell_type": "code",
   "execution_count": null,
   "metadata": {},
   "outputs": [],
   "source": []
  }
 ],
 "metadata": {
  "kernelspec": {
   "display_name": "Python 3 (ipykernel)",
   "language": "python",
   "name": "python3"
  },
  "language_info": {
   "codemirror_mode": {
    "name": "ipython",
    "version": 3
   },
   "file_extension": ".py",
   "mimetype": "text/x-python",
   "name": "python",
   "nbconvert_exporter": "python",
   "pygments_lexer": "ipython3",
   "version": "3.10.16"
  }
 },
 "nbformat": 4,
 "nbformat_minor": 4
}
