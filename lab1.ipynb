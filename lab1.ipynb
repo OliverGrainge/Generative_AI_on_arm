{
 "cells": [
  {
   "cell_type": "markdown",
   "metadata": {},
   "source": [
    "# Chapter 1 "
   ]
  },
  {
   "cell_type": "markdown",
   "metadata": {},
   "source": [
    "# Optimizing Generative AI Workloads with Embedded ARM Processors\n",
    "\n",
    "## Introduction\n",
    "\n",
    "Welcome to the **Optimizing Generative AI Workloads with ARM Vector Instructions** lab! In this hands-on session, you will explore how ARM's advanced vector processing capabilities can significantly accelerate computationally intensive tasks commonly found in artificial intelligence (AI) applications. By the end of this lab, you will gain a deep understanding of how low-level optimizations can enhance performance and how to leverage these optimizations within high-level AI frameworks like PyTorch.\n",
    "\n",
    "**Requirements**: for this lab you will need an ARMv8 64-bit system with an install of a linux based operating system such as a Raspberry Pi 4 or 5. This lab has been tested with the Pi 5. \n",
    "\n",
    "### **Why ARM Vector Instructions?**\n",
    "\n",
    "ARM processors are ubiquitous in modern computing, powering everything from smartphones to edge devices and increasingly, servers and supercomputers. Their architecture is designed for energy efficiency and performance, making them ideal for deploying AI models in diverse environments. One of the key features that enable ARM processors to excel in AI workloads is their support for **vector instructions**, such as NEON and i8mm, which allow for parallel processing of multiple data points in a single instruction cycle.\n",
    "\n",
    "### **Lab Objectives**\n",
    "\n",
    "The objectives of this lab are as follows: \n",
    "\n",
    "1. **Matrix Multiplication Optimization**:\n",
    "   - Analyze three C-based matrix multiplication implementations (`naive`, `fp32_neon`, and `int8_neon`) to understand their performance differences.\n",
    "   - Utilize ARMv8's NEON vector processing capability to accelerate matrix multiplications. The fundamental operation of AI workloads. \n",
    "\n",
    "2. **Benchmark PyTorch Operations**:\n",
    "   - Measure the performance of PyTorch's matrix multiplication operations in different precisions. \n",
    "   - Examine the generated assembly code to identify how pytorch accelerates matrix multiplications\n",
    "\n",
    "3. **Run Inference on a Language Model**:\n",
    "   - Load and run inference on the state-of-the-art small language model, Llama3.2-1B.\n",
    "   - Explore its computational graph to understand the underlying operations.\n",
    "\n",
    "4. **Eager vs. Graph Execution**:\n",
    "   - Compare PyTorch's Eager mode and Graph Execution.\n",
    "   - Use `torch.compile` to minimize overhead and improve runtime performance.\n",
    "\n",
    "5. **Apply Integer Quantization**:\n",
    "   - Learn how integer quantization can reduce model size and accelerate inference.\n",
    "   - Implement and evaluate quantization on matrix multiplication operations.\n",
    "   - Apply Integer Quantization to Lamma3.2-1B and record it's latency speed ups and memory reductions. \n",
    "\n",
    "\n",
    "\n",
    "### **What You Will Learn**\n",
    "\n",
    "- **Low-Level Optimizations**: Understand how ARM's NEON SIMD instructions can accelerate matrix computations.\n",
    "- **Performance Benchmarking**: Develop skills to benchmark operations effectively and analyze performance trade-offs.\n",
    "- **Framework Integration**: Explore how low-level optimizations can complement high-level frameworks like PyTorch.\n",
    "- **Quantization Techniques**: Learn to implement quantization for efficient AI workloads on resource-constrained devices.\n",
    "\n",
    "### **Prerequisites**\n",
    "\n",
    "To follow this lab, you should have a basic understanding of:\n",
    "\n",
    "- **C Programming**: Familiarity with C syntax and basic memory management.\n",
    "- **Python Programming**: Experience writing and running Python scripts.\n",
    "- **Matrix Operations**: A general understanding of matrix multiplication and its computational requirements.\n",
    "\n",
    "### **Getting Started**\n",
    "\n",
    "The lab begins with exploring matrix multiplication kernels, implemented in the following C files:\n",
    "\n",
    "1. **Naive Kernel (`src/c/kernels/naive.c`)**:\n",
    "   - A straightforward implementation to establish a baseline.\n",
    "\n",
    "2. **FP32 NEON Kernel (`src/c/kernels/fp32_neon.c`)**:\n",
    "   - Optimized for single-precision floating-point operations using ARM NEON SIMD instructions.\n",
    "\n",
    "3. **INT8 NEON Kernel (`src/c/kernels/int8_neon.c`)**:\n",
    "   - Optimized for 8-bit integer operations with NEON SIMD.\n",
    "\n",
    "---\n",
    "\n",
    "Let’s dive in and start optimizing generative AI workloads on embedded ARM devices!"
   ]
  },
  {
   "cell_type": "markdown",
   "metadata": {},
   "source": [
    "### **Mathematics of Matrix Multiplication and Its Importance in Generative AI Models**\n",
    "\n",
    "#### **Basic Mathematics of Matrix Multiplication**\n",
    "\n",
    "Matrix multiplication is a fundamental operation in linear algebra with wide-ranging applications in computer science, engineering, and especially in machine learning and AI. Given two matrices **A** and **B**, the product **C = A × B** is defined only if the number of columns in **A** matches the number of rows in **B**.\n",
    "\n",
    "Mathematically, if **A** is an *m × n* matrix and **B** is an *n × p* matrix, then their product **C** will be an *m × p* matrix. The element at position *(i, j)* in matrix **C** is computed as:\n",
    "\n",
    "$$C_{i,j} = \\sum_{k=1}^{n} A_{i,k} \\times B_{k,j}$$\n",
    "\n",
    "**Example:**\n",
    "\n",
    "Consider matrices **A** (2×3) and **B** (3×2):\n",
    "\n",
    "$$\n",
    "\\mathbf{A} = \\begin{bmatrix}\n",
    "a_{11} & a_{12} & a_{13} \\\\\n",
    "a_{21} & a_{22} & a_{23}\n",
    "\\end{bmatrix},\n",
    "\\quad\n",
    "\\mathbf{B} = \\begin{bmatrix}\n",
    "b_{11} & b_{12} \\\\\n",
    "b_{21} & b_{22} \\\\\n",
    "b_{31} & b_{32}\n",
    "\\end{bmatrix}\n",
    "$$\n",
    "\n",
    "Their product **C = A × B** (2×2) is:\n",
    "\n",
    "$$\n",
    "\\mathbf{C} = \\begin{bmatrix}\n",
    "c_{11} & c_{12} \\\\\n",
    "c_{21} & c_{22}\n",
    "\\end{bmatrix}\n",
    "$$\n",
    "\n",
    "where:\n",
    "\n",
    "$$\n",
    "\\begin{align*}\n",
    "c_{11} &= a_{11}b_{11} + a_{12}b_{21} + a_{13}b_{31} \\\\\n",
    "c_{12} &= a_{11}b_{12} + a_{12}b_{22} + a_{13}b_{32} \\\\\n",
    "c_{21} &= a_{21}b_{11} + a_{22}b_{21} + a_{23}b_{31} \\\\\n",
    "c_{22} &= a_{21}b_{12} + a_{22}b_{22} + a_{23}b_{32}\n",
    "\\end{align*}\n",
    "$$\n",
    "\n",
    "#### **Computational Complexity**\n",
    "\n",
    "The naive matrix multiplication algorithm has a time complexity of **O(n³)**, which becomes computationally expensive for large matrices. Optimizations, such as those leveraging vector instructions, aim to reduce the constant factors and improve cache utilization, thereby enhancing performance without altering the theoretical complexity.\n",
    "\n",
    "\n",
    "<br><br><br>\n",
    "\n",
    "### **Implementation of Naive Matrix Multiplication Kernel**\n",
    "\n",
    "The naive implementation of matrix multiplication directly follows the mathematical definition. It uses three nested loops to compute the dot product of rows from matrix **A** and columns from matrix **B** for every element in the resulting matrix **C**. This is the most straightforward and intuitive approach but is computationally expensive due to its **O(n³)** time complexity.\n",
    "\n",
    "#### **Code Explanation**\n",
    "\n",
    "1. **Inputs**:\n",
    "   - **A**, **B**: Flattened 2D matrices (stored as 1D arrays) to be multiplied.\n",
    "   - **C**: Flattened 2D matrix (1D array) to store the result.\n",
    "   - **N**: Size of the square matrices (number of rows/columns).\n",
    "\n",
    "2. **Procedure**:\n",
    "   - The outer two loops iterate over the rows and columns of the resulting matrix **C**.\n",
    "   - The innermost loop calculates the dot product for each element **C[i, j]** by summing the product of corresponding elements from row **i** of **A** and column **j** of **B**.\n",
    "\n",
    "3. **Performance**:\n",
    "   - This naive implementation is simple but does not leverage advanced optimization techniques, such as blocking, vectorization, or parallelism.\n",
    "\n",
    "#### **Naive Kernel Implementation**\n",
    "\n"
   ]
  },
  {
   "cell_type": "code",
   "execution_count": 29,
   "metadata": {},
   "outputs": [
    {
     "name": "stdout",
     "output_type": "stream",
     "text": [
      "Overwriting src/c/kernels/naive.c\n"
     ]
    }
   ],
   "source": [
    "%%writefile src/c/kernels/naive.c\n",
    "\n",
    "#include <stdio.h>\n",
    "#include <stdlib.h>\n",
    "#include <time.h>\n",
    "\n",
    "void matrix_multiply_naive(float* A, float* B, float* C, int N) {\n",
    "    for (int i = 0; i < N; i++) {\n",
    "        for (int j = 0; j < N; j++) {\n",
    "            C[i * N + j] = 0;\n",
    "            for (int k = 0; k < N; k++) {\n",
    "                C[i * N + j] += A[i * N + k] * B[k * N + j];\n",
    "            }\n",
    "        }\n",
    "    }\n",
    "}"
   ]
  },
  {
   "cell_type": "markdown",
   "metadata": {},
   "source": [
    "### **Introduction to NEON SIMD Instructions**\n",
    "\n",
    "NEON (ARM Advanced SIMD) is a set of SIMD (Single Instruction, Multiple Data) instructions designed to accelerate data-parallel operations on ARM processors. By leveraging NEON, computations on matrices, such as matrix multiplication, can be vectorized to process multiple data points simultaneously, thereby reducing execution time.\n",
    "\n",
    "#### **FP32 Matrix Multiplication Using NEON Instructions**\n",
    "\n",
    "1. **Vectorized Processing**:\n",
    "   - In this implementation, the function processes four `float32` elements at a time, utilizing NEON's 128-bit registers (`float32x4_t`).\n",
    "   - The accumulation is performed using fused multiply-add operations, which minimize intermediate memory accesses.\n",
    "\n",
    "2. **Key NEON Instructions Used**:\n",
    "   - **`vld1q_f32`**: Loads four 32-bit floating-point elements into a vector register.\n",
    "   - **`vmlaq_f32`**: Performs a fused multiply-add operation on vectors.\n",
    "\n",
    "3. **Reduction Step**:\n",
    "   - The vector accumulator is reduced into a scalar using:\n",
    "     - **`vadd_f32`**: Adds low and high parts of the vector.\n",
    "     - **`vpadd_f32`**: Horizontally adds remaining elements for a final scalar result.\n",
    "\n",
    "4. **Description**:\n",
    "   - The function performs matrix multiplication for `float32` matrices by iterating over the rows and columns of the input matrices, processing four elements at a time in the inner loop. This approach uses NEON to accelerate the computation by leveraging SIMD parallelism.\n",
    "\n",
    "\n",
    "\n",
    "\n"
   ]
  },
  {
   "cell_type": "code",
   "execution_count": 30,
   "metadata": {},
   "outputs": [
    {
     "name": "stdout",
     "output_type": "stream",
     "text": [
      "Overwriting src/c/kernels/fp32_neon.c\n"
     ]
    }
   ],
   "source": [
    "%%writefile src/c/kernels/fp32_neon.c\n",
    "\n",
    "#include <arm_neon.h>\n",
    "#include <stdio.h>\n",
    "\n",
    "void matmul_fp32_neon(float* A, float* B, float* C, int N) {\n",
    "    for (int i = 0; i < N; i++) {\n",
    "        for (int j = 0; j < N; j++) {\n",
    "            float32x4_t acc = vdupq_n_f32(0.0f); // Accumulator\n",
    "            for (int k = 0; k < N; k += 4) { // Process 4 elements at a time\n",
    "                float32x4_t a_vec = vld1q_f32(&A[i * N + k]); // Load row of A\n",
    "                float32x4_t b_vec = vld1q_f32(&B[k * N + j]); // Load column of B\n",
    "                acc = vmlaq_f32(acc, a_vec, b_vec); // Multiply-accumulate\n",
    "            }\n",
    "            // Reduce acc to a single value and store in C\n",
    "            float32x2_t sum1 = vadd_f32(vget_low_f32(acc), vget_high_f32(acc));\n",
    "            float sum = vget_lane_f32(vpadd_f32(sum1, sum1), 0);\n",
    "            C[i * N + j] = sum;\n",
    "        }\n",
    "    }\n",
    "}"
   ]
  },
  {
   "cell_type": "markdown",
   "metadata": {},
   "source": [
    "### **Introduction to Quantized (INT8) Matrix Multiplication Using NEON SIMD**\n",
    "\n",
    "Quantized matrix multiplication uses low-precision (8-bit integer) representations to reduce memory bandwidth, power consumption, and computational complexity. ARM processors with NEON i8mm (integer 8-bit matrix multiplication) instructions provide significant acceleration by increasing the level of vectorization and benefiting from the efficiency of integer arithmetic.\n",
    "\n",
    "#### **INT8 Matrix Multiplication Using NEON Instructions**\n",
    "\n",
    "1. **Increased Levels of Vectorization**:\n",
    "   - The implementation processes eight `int8_t` elements at a time, leveraging the higher data packing density of 8-bit integers compared to `float32` (four elements at a time). This doubles the level of parallelism compared to the FP32 implementation.\n",
    "\n",
    "2. **Key NEON Instructions Used**:\n",
    "   - **`vld1_s8`**: Loads eight signed 8-bit integers into a vector register.\n",
    "   - **`vmlal_s8`**: Multiplies two vectors of signed 8-bit integers and accumulates the results into 16-bit integers.\n",
    "\n",
    "3. **Reduction Step**:\n",
    "   - **`vaddvq_s16`**: Horizontally sums the elements of a 16-bit integer vector to produce a scalar result.\n",
    "\n",
    "4. **Advantages Over FP32 Implementation**:\n",
    "   - **Higher Vectorization**: Processes eight elements at a time versus four in the FP32 version.\n",
    "   - **Integer Arithmetic**: Integer operations are inherently faster than floating-point operations on most hardware due to simpler hardware requirements.\n",
    "   - **Lower Memory Usage**: `int8_t` data consumes four times less memory than `float32`, leading to reduced cache pressure and better memory bandwidth utilization.\n",
    "   - **Energy Efficiency**: Integer computations typically consume less power, making this approach ideal for energy-constrained environments.\n",
    "\n",
    "5. **Description**:\n",
    "   - The function performs matrix multiplication for quantized `int8` matrices by iterating over the rows and columns of the input matrices. In the inner loop, eight elements are processed simultaneously using NEON SIMD instructions. The 16-bit intermediate results are accumulated, and the final reduction produces a 32-bit scalar result for each element of the output matrix.\n",
    "\n",
    "\n"
   ]
  },
  {
   "cell_type": "code",
   "execution_count": 31,
   "metadata": {},
   "outputs": [
    {
     "name": "stdout",
     "output_type": "stream",
     "text": [
      "Overwriting src/c/kernels/int8_neon.c\n"
     ]
    }
   ],
   "source": [
    "%%writefile src/c/kernels/int8_neon.c\n",
    "\n",
    "#include <arm_neon.h>\n",
    "#include <stdio.h>\n",
    "\n",
    "void matmul_int8_neon(int8_t* A, int8_t* B, int32_t* C, int N) {\n",
    "    for (int i = 0; i < N; i++) {\n",
    "        for (int j = 0; j < N; j++) {\n",
    "            int16x8_t acc = vdupq_n_s16(0); // Initialize 16-bit accumulator\n",
    "\n",
    "            for (int k = 0; k < N; k += 8) { // Process 8 elements at a time\n",
    "                // Load 8 int8 elements from row of A and column of B\n",
    "                int8x8_t a_vec = vld1_s8(&A[i * N + k]);\n",
    "                int8x8_t b_vec = vld1_s8(&B[k * N + j]);\n",
    "\n",
    "                // Perform element-wise multiplication and accumulate\n",
    "                acc = vmlal_s8(acc, a_vec, b_vec);\n",
    "            }\n",
    "\n",
    "            // Reduce the 16-bit accumulator into a 32-bit scalar\n",
    "            int32_t sum = vaddvq_s16(acc); // Horizontally sum all elements in the vector\n",
    "            C[i * N + j] = sum; // Store the result in C\n",
    "        }\n",
    "    }\n",
    "}"
   ]
  },
  {
   "cell_type": "markdown",
   "metadata": {},
   "source": [
    "### **Compiling Each Kernel to Inspect Assembly Using GCC**\n",
    "\n",
    "If you're on a system with native ARM support or an ARM-compatible GCC installation, you can use `gcc` directly to compile the kernels into assembly code. \n",
    "\n",
    "#### **Steps to Compile Each Kernel**\n",
    "\n",
    "For each kernel, use the following command:"
   ]
  },
  {
   "cell_type": "code",
   "execution_count": 32,
   "metadata": {},
   "outputs": [],
   "source": [
    "!gcc -O0 -S -march=armv8-a+simd src/c/kernels/naive.c -o bin/naive.s\n",
    "!gcc -O3 -S -march=armv8-a+simd src/c/kernels/fp32_neon.c -o bin/fp32_neon.s\n",
    "!gcc -O3 -S -march=armv8-a+simd src/c/kernels/int8_neon.c -o bin/int8_neon.s"
   ]
  },
  {
   "cell_type": "markdown",
   "metadata": {},
   "source": [
    "---\n",
    "### 1. **Naive Implementation**\n",
    "   - Uses scalar instructions exclusively, meaning each operation processes a single pair of data values at a time.\n",
    "   - Relies on the following types of ARM assembly instructions:\n",
    "     - **`ldr` (Load Register):** Loads a value from memory into a register.\n",
    "     - **`str` (Store Register):** Stores a value from a register into memory.\n",
    "     - **`mul` (Multiply):** Multiplies two values in registers.\n",
    "     - **`add` (Add):** Adds two values in registers.\n",
    "   - Does not utilize SIMD (Single Instruction Multiple Data) capabilities, which can process multiple data values simultaneously in a single instruction.\n",
    "   - Experiences significant overhead in memory operations due to the frequent use of `ldr` and `str` instructions for each operation, as no batching or parallelism is applied.\n",
    "\n",
    "#### Observations:\n",
    "   - Computational units are underutilized because operations are performed serially, one at a time.\n",
    "   - Memory bandwidth becomes a bottleneck as frequent loads and stores slow down processing.\n",
    "   - Best suited for small matrices or architectures without support for vectorized operations.\n",
    "\n"
   ]
  },
  {
   "cell_type": "code",
   "execution_count": 33,
   "metadata": {},
   "outputs": [
    {
     "name": "stdout",
     "output_type": "stream",
     "text": [
      "\tldr\tw1, [sp, 44]\n",
      "\tldr\tw0, [sp, 4]\n",
      "\tmul\tw1, w1, w0\n",
      "\tldr\tw0, [sp, 40]\n",
      "\tadd\tw0, w1, w0\n",
      "\tsxtw\tx0, w0\n",
      "\tlsl\tx0, x0, 2\n"
     ]
    }
   ],
   "source": [
    "!sed -n '22,28p' bin/naive.s"
   ]
  },
  {
   "cell_type": "markdown",
   "metadata": {},
   "source": [
    "---\n",
    "\n",
    "### 2. **NEON Vectorization**\n",
    "   - Leverages NEON SIMD instructions to perform parallel computations on multiple data values simultaneously:\n",
    "     - **`dup` (Duplicate):** Duplicates a value across all elements of a NEON register.\n",
    "     - **`fmul` (Floating-Point Multiply):** Multiplies corresponding elements in two NEON registers.\n",
    "     - **`fadd` (Floating-Point Add):** Adds corresponding elements in two NEON registers.\n",
    "     - **`faddp` (Floating-Point Add Pair):** Adds pairs of adjacent elements in a NEON register, reducing the vector size.\n",
    "   - Processes 128-bit registers, allowing parallel computation of up to 4 single-precision floating-point numbers in a single instruction.\n",
    "   - Utilizes optimized memory access patterns to reduce latency and avoid bottlenecks.\n",
    "\n",
    "#### Observations:\n",
    "   - Significantly better throughput compared to the naive approach due to parallelism and efficient memory handling.\n",
    "   - Ideal for workloads requiring floating-point precision and large datasets that can fully utilize vector registers.\n",
    "   - Performance can be limited by factors such as memory alignment issues and vectorization overhead for small matrices.\n",
    "\n",
    "***NOTE***\n",
    "if the code block below does not show you the above described instructions, you can open the bin/fp32_neon.s file to view the assembly. In that file you will see all instructions used by the floating point matmul using NEON SIMD insturctions. "
   ]
  },
  {
   "cell_type": "code",
   "execution_count": 34,
   "metadata": {},
   "outputs": [
    {
     "name": "stdout",
     "output_type": "stream",
     "text": [
      "\tadd\tx5, x5, 4\n",
      "\tfadd\tv0.2s, v0.2s, v1.2s\n",
      "\tfaddp\tv0.2s, v0.2s, v0.2s\n",
      "\tstr\ts0, [x7, x4, lsl 2]\n"
     ]
    }
   ],
   "source": [
    "!sed -n '46,49p' bin/neon.s"
   ]
  },
  {
   "cell_type": "markdown",
   "metadata": {},
   "source": [
    "### 3. **NEON Vectorization (Integer-based)**\n",
    "\n",
    "This implementation utilizes NEON SIMD instructions for efficient integer matrix multiplication but does **not** use i8mm-specific instructions. Instead, it employs the following NEON instructions to achieve high performance with quantized data:\n",
    "\n",
    "#### Key NEON Instructions Observed:\n",
    "   - **`ldr` (Load Register):** Loads data from memory into NEON vector registers.\n",
    "   - **`smlal` (Signed Multiply-Add Long):** Multiplies 8-bit integers from two registers, producing 16-bit results, and accumulates the results into 16-bit vector registers.\n",
    "   - **`addv` (Add Across Vector):** Horizontally sums all elements in a NEON register into a single scalar value.\n",
    "   - **`smov` (Scalar Move):** Moves the lowest element of a NEON register into a scalar general-purpose register.\n",
    "\n",
    "#### Characteristics:\n",
    "   - Processes **8 `int8_t` elements at a time** due to NEON's 128-bit registers, allowing for higher throughput compared to `float32` implementations.\n",
    "   - The accumulation is performed in 16-bit registers to avoid overflow during intermediate computations.\n",
    "   - Reduction of the 16-bit vector into a scalar is performed using a horizontal sum followed by a move to the general-purpose register for storage.\n",
    "\n",
    "#### Observations:\n",
    "   - **Performance Benefits**:\n",
    "     - The implementation achieves high levels of vectorization by processing 8 `int8` elements per NEON instruction.\n",
    "     - Reduced memory bandwidth requirements due to smaller data types (`int8` vs. `float32`).\n",
    "   - **Precision Limitations**:\n",
    "     - Integer arithmetic is less precise than floating-point arithmetic, making it suitable for applications that can tolerate reduced precision, such as quantized neural networks.\n",
    "   - **Applications**:\n",
    "     - Ideal for embedded systems and mobile AI inference workloads where power and memory efficiency are critical.\n",
    "\n",
    "***NOTE***\n",
    "if the code block below does not show you the above described instructions, you can open the bin/int8_neon.s file to view the assembly. In that file you will see all instructions used by the int8 matmul using NEON SIMD insturctions. \n"
   ]
  },
  {
   "cell_type": "code",
   "execution_count": 35,
   "metadata": {},
   "outputs": [
    {
     "name": "stdout",
     "output_type": "stream",
     "text": [
      "\tsmlal\tv0.8h, v2.8b, v1.8b\n",
      "\tcmp\tw3, w0\n",
      "\tbgt\t.L4\n",
      "\taddv\th0, v0.8h\n",
      "\tsmov\tw0, v0.h[0]\n",
      "\tstr\tw0, [x6, x5, lsl 2]\n"
     ]
    }
   ],
   "source": [
    "!sed -n '35,40p' bin/int8_neon.s"
   ]
  },
  {
   "cell_type": "code",
   "execution_count": 8,
   "metadata": {},
   "outputs": [
    {
     "name": "stdout",
     "output_type": "stream",
     "text": [
      "Overwriting src/c/sizes.c\n"
     ]
    }
   ],
   "source": [
    "%%writefile src/c/sizes.c\n",
    "\n",
    "int sizes[] = {32, 64, 128, 256, 512};"
   ]
  },
  {
   "cell_type": "markdown",
   "metadata": {},
   "source": [
    "### **BenchMarking**\n",
    "\n",
    "Lets compute the latency of results of these three operators across different matrix sizes. We can set the sizes used in the benchmark by writing them out to src/c/sizes.c as seen below. Feel free to adapt the sizes yourself, Bear in mind however large matrix multiplications are compute intensive operations!\n",
    "\n",
    "***Note***\n",
    "This code is tested on raspberry pi 5. With matmul size of 1024, the naive approach can take up to 17s. "
   ]
  },
  {
   "cell_type": "code",
   "execution_count": 36,
   "metadata": {},
   "outputs": [
    {
     "name": "stdout",
     "output_type": "stream",
     "text": [
      "Naive Matrix Multiplication (Size 32): 0.000197 seconds\n",
      "Naive Matrix Multiplication (Size 64): 0.001557 seconds\n",
      "Naive Matrix Multiplication (Size 128): 0.013173 seconds\n",
      "Naive Matrix Multiplication (Size 256): 0.112297 seconds\n",
      "Naive Matrix Multiplication (Size 512): 1.155281 seconds\n"
     ]
    }
   ],
   "source": [
    "# Compile the C code with optimization level 3 and NEON SIMD extensions, outputting the binary to bin/benchmark\n",
    "!gcc -O0 src/c/benchmark_naive.c -o bin/benchmark_naive -march=armv8-a+simd -lm\n",
    "!./bin/benchmark_naive"
   ]
  },
  {
   "cell_type": "code",
   "execution_count": 37,
   "metadata": {},
   "outputs": [
    {
     "name": "stdout",
     "output_type": "stream",
     "text": [
      "FP32 NEON Matrix Multiplication (Size 32): 0.000008 seconds\n",
      "FP32 NEON Matrix Multiplication (Size 64): 0.000060 seconds\n",
      "FP32 NEON Matrix Multiplication (Size 128): 0.000480 seconds\n",
      "FP32 NEON Matrix Multiplication (Size 256): 0.008017 seconds\n",
      "FP32 NEON Matrix Multiplication (Size 512): 0.142502 seconds\n"
     ]
    }
   ],
   "source": [
    "!gcc -O3 -ffast-math src/c/benchmark_fp32_neon.c -o bin/benchmark_fp32_neon -march=armv8-a+simd -lm\n",
    "!./bin/benchmark_fp32_neon"
   ]
  },
  {
   "cell_type": "code",
   "execution_count": 38,
   "metadata": {},
   "outputs": [
    {
     "name": "stdout",
     "output_type": "stream",
     "text": [
      "Int8 Neon Matrix Multiplication (Size 32): 0.000005 seconds\n",
      "Int8 Neon Matrix Multiplication (Size 64): 0.000035 seconds\n",
      "Int8 Neon Matrix Multiplication (Size 128): 0.000249 seconds\n",
      "Int8 Neon Matrix Multiplication (Size 256): 0.001872 seconds\n",
      "Int8 Neon Matrix Multiplication (Size 512): 0.030864 seconds\n"
     ]
    }
   ],
   "source": [
    "!gcc -O3 -ffast-math src/c/benchmark_int8_neon.c -o bin/benchmark_int8_neon -march=armv8-a+simd -lm\n",
    "!./bin/benchmark_int8_neon\n"
   ]
  },
  {
   "cell_type": "markdown",
   "metadata": {},
   "source": [
    "## **Plotting** \n",
    "Great, now the operators have been run, lets plot how there latency scales with matrix size. "
   ]
  },
  {
   "cell_type": "code",
   "execution_count": 39,
   "metadata": {},
   "outputs": [
    {
     "data": {
      "image/png": "[encoded data removed]",
      "text/plain": [
       "<Figure size 800x400 with 1 Axes>"
      ]
     },
     "metadata": {},
     "output_type": "display_data"
    }
   ],
   "source": [
    "import matplotlib.pyplot as plt\n",
    "import pandas as pd\n",
    "\n",
    "\n",
    "# Load data from CSV files\n",
    "naive_data = pd.read_csv('results/naive_latency_results.csv')\n",
    "fp32_neon_data = pd.read_csv('results/fp32_neon_latency_results.csv')\n",
    "int8_neon_data = pd.read_csv('results/int8_neon_latency_results.csv')\n",
    "\n",
    "# Extract sizes and times\n",
    "sizes = naive_data['Matrix Size']\n",
    "naive_times = naive_data['Latency (seconds)']\n",
    "fp32_neon_times = fp32_neon_data['Latency (seconds)']\n",
    "int8_neon_times = int8_neon_data['Latency (seconds)']\n",
    "\n",
    "plt.figure(figsize=(8, 4))\n",
    "\n",
    "# Plotting the latency for each approach\n",
    "plt.plot(sizes, naive_times, marker='o', linestyle='-', color='r', label='Naive FP32')\n",
    "plt.plot(sizes, fp32_neon_times, marker='o', linestyle='-', color='b', label='NEON SIMD FP32')\n",
    "plt.plot(sizes, int8_neon_times, marker='o', linestyle='-', color='g', label='NEON SIMD INT8')\n",
    "\n",
    "# Adding labels and title\n",
    "plt.xlabel('Matrix Size (N x N)')\n",
    "plt.ylabel('Latency (seconds)')\n",
    "plt.title('Latency Comparison: Naive vs FP32 SIMD vs INT8 SIMD Matrix Multiplication')\n",
    "plt.legend()\n",
    "plt.grid(True)\n",
    "\n",
    "# Show plot\n",
    "plt.show()"
   ]
  },
  {
   "cell_type": "markdown",
   "metadata": {},
   "source": [
    "As shown in the graph, the naive approach, which processes each matrix element individually, is the slowest. The SIMD floating-point implementation offers significant speedup, but the SIMD integer implementation is the fastest. This highlights the advantage of using lower-precision operations in AI network forward passes for improved performance."
   ]
  },
  {
   "cell_type": "markdown",
   "metadata": {},
   "source": [
    "# **Pytorch**\n",
    "Having explored how ARM's SIMD capabilities in C can accelerate AI workloads, we now transition to PyTorch which is a versatile, high-level framework that balances flexibility and ease of use. PyTorch streamlines AI model development by abstracting low-level operations, enabling developers to focus on model architecture and experimentation rather than intricate implementation details.\n",
    "\n",
    "Unlike the manual coding required for SIMD operations in C, PyTorch offers built-in support for tensor computations and hardware acceleration. It automatically utilizes processor optimizations, including SIMD and ARM's NEON instructions, to enhance performance without requiring developers to write low-level code.\n",
    "\n",
    "In the next section, we benchmark Python-based matrix multiplication in both `int8` and `fp32` precision to validate that ARM's NEON instructions are being utilized for acceleration and performance. Building on this foundation, we will implement and optimize the inference of a state-of-the-art small language model, **Llama 3.2-1B**, showcasing PyTorch's capabilities for advanced AI workloads.\n",
    "\n",
    "Let's start by checking the build configuration of our installed pytorch package. "
   ]
  },
  {
   "cell_type": "code",
   "execution_count": 40,
   "metadata": {
    "scrolled": true
   },
   "outputs": [
    {
     "name": "stdout",
     "output_type": "stream",
     "text": [
      "PyTorch built with:\n",
      "  - GCC 10.2\n",
      "  - C++ Version: 201703\n",
      "  - Intel(R) MKL-DNN v3.5.3 (Git Hash 66f0cb9eb66affd2da3bf5f8d897376f04aae6af)\n",
      "  - OpenMP 201511 (a.k.a. OpenMP 4.5)\n",
      "  - LAPACK is enabled (usually provided by MKL)\n",
      "  - NNPACK is enabled\n",
      "  - CPU capability usage: NO AVX\n",
      "  - Build settings: BLAS_INFO=open, BUILD_TYPE=Release, CXX_COMPILER=/opt/rh/devtoolset-10/root/usr/bin/c++, CXX_FLAGS=-ffunction-sections -fdata-sections -D_GLIBCXX_USE_CXX11_ABI=0 -fabi-version=11 -fvisibility-inlines-hidden -DUSE_PTHREADPOOL -DNDEBUG -DUSE_KINETO -DLIBKINETO_NOCUPTI -DLIBKINETO_NOROCTRACER -DLIBKINETO_NOXPUPTI=ON -DUSE_PYTORCH_QNNPACK -DUSE_XNNPACK -DSYMBOLICATE_MOBILE_DEBUG_HANDLE -O2 -fPIC -Wall -Wextra -Werror=return-type -Werror=non-virtual-dtor -Werror=bool-operation -Wnarrowing -Wno-missing-field-initializers -Wno-type-limits -Wno-array-bounds -Wno-unknown-pragmas -Wno-unused-parameter -Wno-strict-overflow -Wno-strict-aliasing -Wno-stringop-overflow -Wsuggest-override -Wno-psabi -Wno-error=old-style-cast -Wno-missing-braces -fdiagnostics-color=always -faligned-new -Wno-unused-but-set-variable -Wno-maybe-uninitialized -fno-math-errno -fno-trapping-math -Werror=format -Wno-stringop-overflow, LAPACK_INFO=open, TORCH_VERSION=2.5.1, USE_CUDA=OFF, USE_CUDNN=OFF, USE_CUSPARSELT=OFF, USE_EXCEPTION_PTR=1, USE_GFLAGS=OFF, USE_GLOG=OFF, USE_GLOO=ON, USE_MKLDNN=ON, USE_MPI=OFF, USE_NCCL=OFF, USE_NNPACK=ON, USE_OPENMP=ON, USE_ROCM=OFF, USE_ROCM_KERNEL_ASSERT=OFF, \n",
      "\n"
     ]
    }
   ],
   "source": [
    "import torch\n",
    "print(torch.__config__.show())"
   ]
  },
  {
   "cell_type": "markdown",
   "metadata": {},
   "source": [
    "In this output you should see be able to see some flags such as: \n",
    " - **USE_OPEN_MP=True** This library is used for parallelizing matrix multiplications across processing cores for acceleration.\n",
    " - **USE_NNPACK=ON** This is a low level library of operators that can use vectorized instructions on arm for accelerating operators.\n",
    " - **USE_MKLDNN=ON** This is a low level library primarily for x86 processors however contains vectorized implementation of operators for the AArch64 architecture, such as the raspberry pi 5. "
   ]
  },
  {
   "cell_type": "markdown",
   "metadata": {},
   "source": [
    "### **Investigation**\n",
    "Lets start by checking out what pytorch is doing under the hood and make sure it is utilizing ARM's vector processing capabilities. \n",
    "\n",
    "To do so we will write two very simple scripts to perform a matrix multiply as we did earlier in c using floatin point 32 and integer 8 precisions. As you can see below, torch already implements these operations for you and abstracts alot of the complexity. "
   ]
  },
  {
   "cell_type": "code",
   "execution_count": 41,
   "metadata": {},
   "outputs": [
    {
     "name": "stdout",
     "output_type": "stream",
     "text": [
      "Overwriting src/python/fp_matmul.py\n"
     ]
    }
   ],
   "source": [
    "%%writefile src/python/fp_matmul.py\n",
    "\n",
    "import torch\n",
    "a = torch.randn(1024, 1024, dtype=torch.float32, requires_grad=False)\n",
    "b = torch.randn(1024, 1024, dtype=torch.float32, requires_grad=False)\n",
    "c = torch.mm(a, b)\n"
   ]
  },
  {
   "cell_type": "code",
   "execution_count": 42,
   "metadata": {},
   "outputs": [
    {
     "name": "stdout",
     "output_type": "stream",
     "text": [
      "Overwriting src/python/int8_matmul.py\n"
     ]
    }
   ],
   "source": [
    "%%writefile src/python/int8_matmul.py\n",
    "import torch\n",
    "\n",
    "# Generate random int8 tensors\n",
    "a = torch.randint(-128, 128, size=(1024, 1024), dtype=torch.int8)\n",
    "b = torch.randint(-128, 128, size=(1024, 1024), dtype=torch.int8)\n",
    "c = torch.mm(a, b)"
   ]
  },
  {
   "cell_type": "markdown",
   "metadata": {},
   "source": [
    "**Using perf to check the assembly** The below code cells use perf to extract the assembly code required to run the above python scripts. We will use it to write out this assembly to a text file that can be analyzed. In doing so we can check wether the low-level libaries the torch.mm relies on for matrix multiplication are harnessing ARM's vector processing capabilities.  \n",
    "\n",
    "***Note*** in the following code cells we are using a 10s timeout as we only need a sample of the assembly. The below code boxes will therefore take up to 10s each. "
   ]
  },
  {
   "cell_type": "code",
   "execution_count": 43,
   "metadata": {},
   "outputs": [
    {
     "name": "stdout",
     "output_type": "stream",
     "text": [
      "[ perf record: Woken up 19 times to write data ]\n",
      "[ perf record: Captured and wrote 4.687 MB perf.data (10564 samples) ]\n",
      "Completed\n"
     ]
    }
   ],
   "source": [
    "import signal\n",
    "\n",
    "def handler(signum, frame):\n",
    "    raise TimeoutError(\"Execution timed out!\")\n",
    "\n",
    "signal.signal(signal.SIGALRM, handler)\n",
    "signal.alarm(10)  # Set the alarm for 60 seconds\n",
    "\n",
    "try:\n",
    "    # Your long-running code here\n",
    "    !rm -rf *perf*\n",
    "    !rm -rf fp_matmul.txt\n",
    "    !sudo perf record -e instructions:u -g $(which python) src/python/fp_matmul.py\n",
    "    !sudo perf annotate > results/fp_matmul_instructions.txt\n",
    "except TimeoutError as e:\n",
    "    !rm -rf *perf*\n",
    "    print(\"Completed\")\n",
    "finally:\n",
    "    signal.alarm(0)  # Disable the alarm"
   ]
  },
  {
   "cell_type": "code",
   "execution_count": 44,
   "metadata": {},
   "outputs": [
    {
     "name": "stdout",
     "output_type": "stream",
     "text": [
      "[ perf record: Woken up 18 times to write data ]\n",
      "[ perf record: Captured and wrote 4.352 MB perf.data (9882 samples) ]\n",
      "Completed\n"
     ]
    }
   ],
   "source": [
    "import signal\n",
    "\n",
    "def handler(signum, frame):\n",
    "    raise TimeoutError(\"Execution timed out!\")\n",
    "\n",
    "signal.signal(signal.SIGALRM, handler)\n",
    "signal.alarm(10)  # Set the alarm for 60 seconds\n",
    "\n",
    "try:\n",
    "    # Your long-running code here\n",
    "    !rm -rf *perf*\n",
    "    !rm -rf int8_matmul.txt\n",
    "    !sudo perf record -e instructions:u -g $(which python) src/python/int8_matmul.py\n",
    "    !sudo perf annotate > results/int8_matmul_instructions.txt\n",
    "except TimeoutError as e:\n",
    "    !rm -rf *perf*\n",
    "    print(\"Completed\")\n",
    "finally:\n",
    "    signal.alarm(0)  # Disable the alarm"
   ]
  },
  {
   "cell_type": "markdown",
   "metadata": {},
   "source": [
    "- Now lets have a look inside. First for the float32 matrix multiply script. "
   ]
  },
  {
   "cell_type": "code",
   "execution_count": 45,
   "metadata": {},
   "outputs": [
    {
     "name": "stdout",
     "output_type": "stream",
     "text": [
      "    0.00 :   103738: fmul    d0, d0, d1\n",
      "    0.00 :   2af658: fmul    v16.4s, v0.4s, v8.s[0]\n",
      "    0.00 :   2af65c: fmul    v20.4s, v0.4s, v9.s[0]\n",
      "    0.00 :   2af664: fmul    v24.4s, v0.4s, v10.s[0]\n",
      "    0.00 :   2af668: fmul    v28.4s, v0.4s, v11.s[0]\n",
      "    0.00 :   2af670: fmul    v17.4s, v1.4s, v8.s[0]\n",
      "    0.00 :   2af674: fmul    v21.4s, v1.4s, v9.s[0]\n",
      "    0.26 :   2af67c: fmul    v25.4s, v1.4s, v10.s[0]\n",
      "    0.00 :   2af680: fmul    v29.4s, v1.4s, v11.s[0]\n",
      "    0.00 :   2af688: fmul    v18.4s, v2.4s, v8.s[0]\n",
      "    0.00 :   2af68c: fmul    v22.4s, v2.4s, v9.s[0]\n",
      "    0.00 :   2af694: fmul    v19.4s, v3.4s, v8.s[0]\n",
      "    0.00 :   2af698: fmul    v23.4s, v3.4s, v9.s[0]\n",
      "    0.00 :   2af6a0: fmul    v26.4s, v2.4s, v10.s[0]\n",
      "    0.00 :   2af6a4: fmul    v30.4s, v2.4s, v11.s[0]\n",
      "    0.00 :   2af6ac: fmul    v27.4s, v3.4s, v10.s[0]\n",
      "    0.00 :   2af6b0: fmul    v31.4s, v3.4s, v11.s[0]\n",
      "    0.00 :   2af6b8: fmla    v16.4s, v4.4s, v12.s[0]\n",
      "    0.00 :   2af6bc: fmla    v17.4s, v5.4s, v12.s[0]\n",
      "    0.00 :   2af6c4: fmla    v18.4s, v6.4s, v12.s[0]\n",
      "grep: write error: Broken pipe\n"
     ]
    }
   ],
   "source": [
    "!grep -E 'fmul|fmla' results/fp_matmul_instructions.txt | head -n 20"
   ]
  },
  {
   "cell_type": "markdown",
   "metadata": {},
   "source": [
    "You should see printed out above some assembly instructions that the ARM processor will run. the structure of each line written out by `perf annotate` has the following format\n",
    "\n",
    "***timestamp :    instruction_address: operation:   destination_registor, source_register, source operand***\n",
    "\n",
    "The printout above should `fmul` and `fmla` instructions. Their definition is \n",
    "\n",
    "#### **Operation Definitions**\n",
    "- **`fmul`**: Performs a floating-point multiplication operation between two operands.\n",
    "- **`fmla`**: Performs a floating-point fused multiply-add operation, where the result of the multiplication is added to an accumulator in a single instruction.\n",
    "\n",
    "**Understanding SIMD Processing**\n",
    "The operands for these instructions are shown in the columns following the instruction, they are the destination_registor and the source_registor. The address of the operands determines whether the operation is scalar (e.g. works on a single element) or utilizes SIMD (Single Instruction, Multiple Data) processing:\n",
    "\n",
    "- **Vector Registers**: Operands starting with a `v` (e.g., `v16.4s`, `v0.4s`, `v8.s[0]`) indicate that vector registers are being used. These registers contain multiple data lanes, enabling the instruction to process multiple elements simultaneously, thereby increasing throughput.\n",
    "  - Example: `fmla v16.4s, v0.4s, v8.s[0]` performs the fused multiply-add operation on four single-precision floating-point elements in parallel (one for each lane of the vector register `v16`).\n",
    "\n",
    "- **Scalar Registers**: Operands such as `s0`, `s1`, or `d0` refer to scalar registers that hold a single floating-point value. In this case, the operation is not vectorized and processes only one value at a time.\n",
    "  - Example: `fmul s0, s1, s2` multiplies two single-precision floating-point values stored in `s1` and `s2` and writes the result to `s0`.\n",
    "\n",
    "By examining the register types (vector vs. scalar), it becomes clear whether the instruction leverages SIMD for parallel processing or operates in a scalar manner and therefore whether torch is uses ARM's NEON SIMD processing capabilities to accelerate the matrix muliply operation. \n",
    "\n",
    "***Note*** Should no vector registers show up in your instruction list above, please look inside the file results/fp_matmul_instructions.txt to identify any vector register utilization. \n"
   ]
  },
  {
   "cell_type": "code",
   "execution_count": 46,
   "metadata": {},
   "outputs": [
    {
     "name": "stdout",
     "output_type": "stream",
     "text": [
      "    0.00 :   3740150:        dup     v2.16b, w0\n",
      "    0.00 :   3740160:        mla     v0.16b, v1.16b, v2.16b\n",
      "    0.00 :   3740194:        dup     v1.8b, w0\n",
      "    0.00 :   37401a8:        mla     v0.8b, v2.8b, v1.8b\n",
      "    0.00 :   374053c:        mla     v0.16b, v2.16b, v1.16b\n",
      "    0.00 :   3740548:        addv    b0, v0.16b\n",
      "    0.00 :   3740554:        umov    w5, v0.b[0]\n",
      "    0.00 :   3740598:        addv    b0, v0.8b\n",
      "    0.00 :   374059c:        umov    w12, v0.b[0]\n",
      "    0.00 :   374082c:        dup     v2.16b, w0\n",
      "    0.00 :   3740840:        mla     v0.16b, v1.16b, v2.16b\n",
      "    0.00 :   3740878:        dup     v1.8b, w0\n",
      "    0.00 :   374088c:        mla     v0.8b, v2.8b, v1.8b\n",
      "    0.00 :   3740d58:        mla     v9.16b, v4.16b, v17.16b\n",
      "    0.00 :   3740d5c:        mla     v21.16b, v2.16b, v18.16b\n",
      "    0.00 :   3740d80:        mla     v22.16b, v1.16b, v19.16b\n",
      "    0.00 :   3740d84:        mla     v3.16b, v0.16b, v20.16b\n",
      "    0.00 :   3740d90:        addv    b3, v3.16b\n",
      "    0.00 :   3740d98:        addv    b2, v22.16b\n",
      "    0.00 :   3740da0:        addv    b1, v21.16b\n"
     ]
    }
   ],
   "source": [
    "!grep -E 'mla|dup|addv|umov' results/int8_matmul_instructions.txt | head -n 20"
   ]
  },
  {
   "cell_type": "markdown",
   "metadata": {},
   "source": [
    "#### **Instruction Definitions**\n",
    "- **`dup`**: Duplicates the value of a scalar register (e.g., `w0`) into all lanes of a SIMD vector register (e.g., `v2.16b`). This allows the same value to be broadcast across multiple lanes for parallel processing.\n",
    "- **`mla`**: Performs a fused multiply-accumulate operation. It multiplies corresponding elements from two SIMD vector registers and adds the results to the accumulator register. This operation is performed on all lanes in parallel.\n",
    "- **`addv`**: Adds all elements in a SIMD vector register and stores the resulting sum in a scalar register. This is typically used for reduction operations to aggregate data from multiple lanes.\n",
    "- **`umov`**: Extracts a specific lane from a SIMD vector register and moves it to a scalar register. This is useful for accessing individual elements after SIMD processing.\n",
    "\n",
    "These instructions shown above indicate that torch is utilizing ARMS SIMD capabilities. \n",
    "\n",
    "***Note*** Should no vector registers show up in the instruction list above, please look inside the file results/fp_matmul_instructions.txt to identify any vector register utilization. "
   ]
  },
  {
   "cell_type": "markdown",
   "metadata": {},
   "source": [
    "## **Benchmarking Pytorch Linear Layer**"
   ]
  },
  {
   "cell_type": "code",
   "execution_count": 23,
   "metadata": {},
   "outputs": [],
   "source": [
    "import time \n",
    "import numpy as np\n",
    "torch.set_num_threads(1)\n",
    "\n",
    "def benchmark(inputs, func, num_runs=10): \n",
    "    times = []\n",
    "    for _ in range(3): \n",
    "        func(inputs)\n",
    "\n",
    "    for _ in range(num_runs): \n",
    "        st = time.time()\n",
    "        func(inputs)\n",
    "        times.append(time.time() - st)\n",
    "\n",
    "    return np.mean(times)"
   ]
  },
  {
   "cell_type": "code",
   "execution_count": 24,
   "metadata": {},
   "outputs": [],
   "source": [
    "import torch \n",
    "sizes = [32, 64, 128, 256, 512, 1024]"
   ]
  },
  {
   "cell_type": "code",
   "execution_count": 25,
   "metadata": {},
   "outputs": [],
   "source": [
    "import torch \n",
    "import torch.nn as nn\n",
    "\n",
    "float_times = []\n",
    "for size in sizes:\n",
    "    # floating point measurements \n",
    "    x = torch.randn(size, size, dtype=torch.float32, requires_grad=False)\n",
    "    linear = nn.Linear(size, size)\n",
    "    float_times.append(benchmark(x, linear))"
   ]
  },
  {
   "cell_type": "code",
   "execution_count": 26,
   "metadata": {},
   "outputs": [
    {
     "name": "stdout",
     "output_type": "stream",
     "text": [
      "Python 3.12.0\n",
      "torch version:  2.5.1\n",
      "Quantized backedn:  qnnpack\n"
     ]
    }
   ],
   "source": [
    "torch.backends.quantized.engine = 'qnnpack'\n",
    "!python --version\n",
    "print(f\"torch version: \", torch.__version__)\n",
    "print(f\"Quantized backedn: \", torch.backends.quantized.engine)"
   ]
  },
  {
   "cell_type": "markdown",
   "metadata": {},
   "source": [
    "now int8 measurements "
   ]
  },
  {
   "cell_type": "code",
   "execution_count": 27,
   "metadata": {},
   "outputs": [],
   "source": [
    "import torch \n",
    "import torch.nn.quantized as nnq\n",
    "\n",
    "int8_times = []\n",
    "for size in sizes:\n",
    "    # floating point measurements \n",
    "    x = torch.randn(size, size, dtype=torch.float32, requires_grad=False)\n",
    "    x_quant = torch.quantize_per_tensor(x, scale=x.abs().max()/127, zero_point=0, dtype=torch.qint8)\n",
    "    qlinear = nnq.Linear(size, size, dtype=torch.qint8)\n",
    "    qlinear.set_weight_bias(x_quant, None)\n",
    "    int8_times.append(benchmark(x_quant, qlinear))"
   ]
  },
  {
   "cell_type": "markdown",
   "metadata": {},
   "source": [
    "plot the results"
   ]
  },
  {
   "cell_type": "code",
   "execution_count": 28,
   "metadata": {},
   "outputs": [
    {
     "data": {
      "image/png": "[encoded data removed]",
      "text/plain": [
       "<Figure size 1000x600 with 1 Axes>"
      ]
     },
     "metadata": {},
     "output_type": "display_data"
    }
   ],
   "source": [
    "import matplotlib.pyplot as plt\n",
    "import pandas as pd\n",
    "\n",
    "\n",
    "\n",
    "\n",
    "plt.figure(figsize=(10, 6))\n",
    "\n",
    "# Plotting the latency for each approach\n",
    "plt.plot(sizes, float_times, marker='o', linestyle='-', color='r', label='float precision')\n",
    "plt.plot(sizes, int8_times, marker='o', linestyle='-', color='b', label='int8 precision')\n",
    "# Adding labels and title\n",
    "plt.xlabel('Matrix Size (N x N)')\n",
    "plt.ylabel('Latency (seconds)')\n",
    "plt.title('Latency Comparison: Naive vs NEON SIMD vs NEON I8MM Matrix Multiplication')\n",
    "plt.legend()\n",
    "plt.grid(True)\n",
    "\n",
    "# Show plot\n",
    "plt.show()\n"
   ]
  },
  {
   "cell_type": "markdown",
   "metadata": {},
   "source": [
    "# **Lamma3.2-1B**"
   ]
  },
  {
   "cell_type": "code",
   "execution_count": 13,
   "metadata": {},
   "outputs": [
    {
     "name": "stderr",
     "output_type": "stream",
     "text": [
      "/home/oeg1n18/github/Generative_AI_on_arm/venv/lib/python3.12/site-packages/tqdm/auto.py:21: TqdmWarning: IProgress not found. Please update jupyter and ipywidgets. See https://ipywidgets.readthedocs.io/en/stable/user_install.html\n",
      "  from .autonotebook import tqdm as notebook_tqdm\n"
     ]
    },
    {
     "ename": "OSError",
     "evalue": "You are trying to access a gated repo.\nMake sure to have access to it at https://huggingface.co/meta-llama/Llama-3.2-1B.\n401 Client Error. (Request ID: Root=1-6745b40b-66a751db26e6f0610c0487fa;14799d29-367c-4a1d-8e50-fae74b4c39e1)\n\nCannot access gated repo for url https://huggingface.co/meta-llama/Llama-3.2-1B/resolve/main/config.json.\nAccess to model meta-llama/Llama-3.2-1B is restricted. You must have access to it and be authenticated to access it. Please log in.",
     "output_type": "error",
     "traceback": [
      "\u001b[0;31m---------------------------------------------------------------------------\u001b[0m",
      "\u001b[0;31mHTTPError\u001b[0m                                 Traceback (most recent call last)",
      "File \u001b[0;32m~/github/Generative_AI_on_arm/venv/lib/python3.12/site-packages/huggingface_hub/utils/_http.py:406\u001b[0m, in \u001b[0;36mhf_raise_for_status\u001b[0;34m(response, endpoint_name)\u001b[0m\n\u001b[1;32m    405\u001b[0m \u001b[38;5;28;01mtry\u001b[39;00m:\n\u001b[0;32m--> 406\u001b[0m     \u001b[43mresponse\u001b[49m\u001b[38;5;241;43m.\u001b[39;49m\u001b[43mraise_for_status\u001b[49m\u001b[43m(\u001b[49m\u001b[43m)\u001b[49m\n\u001b[1;32m    407\u001b[0m \u001b[38;5;28;01mexcept\u001b[39;00m HTTPError \u001b[38;5;28;01mas\u001b[39;00m e:\n",
      "File \u001b[0;32m~/github/Generative_AI_on_arm/venv/lib/python3.12/site-packages/requests/models.py:1024\u001b[0m, in \u001b[0;36mResponse.raise_for_status\u001b[0;34m(self)\u001b[0m\n\u001b[1;32m   1023\u001b[0m \u001b[38;5;28;01mif\u001b[39;00m http_error_msg:\n\u001b[0;32m-> 1024\u001b[0m     \u001b[38;5;28;01mraise\u001b[39;00m HTTPError(http_error_msg, response\u001b[38;5;241m=\u001b[39m\u001b[38;5;28mself\u001b[39m)\n",
      "\u001b[0;31mHTTPError\u001b[0m: 401 Client Error: Unauthorized for url: https://huggingface.co/meta-llama/Llama-3.2-1B/resolve/main/config.json",
      "\nThe above exception was the direct cause of the following exception:\n",
      "\u001b[0;31mGatedRepoError\u001b[0m                            Traceback (most recent call last)",
      "File \u001b[0;32m~/github/Generative_AI_on_arm/venv/lib/python3.12/site-packages/transformers/utils/hub.py:403\u001b[0m, in \u001b[0;36mcached_file\u001b[0;34m(path_or_repo_id, filename, cache_dir, force_download, resume_download, proxies, token, revision, local_files_only, subfolder, repo_type, user_agent, _raise_exceptions_for_gated_repo, _raise_exceptions_for_missing_entries, _raise_exceptions_for_connection_errors, _commit_hash, **deprecated_kwargs)\u001b[0m\n\u001b[1;32m    401\u001b[0m \u001b[38;5;28;01mtry\u001b[39;00m:\n\u001b[1;32m    402\u001b[0m     \u001b[38;5;66;03m# Load from URL or cache if already cached\u001b[39;00m\n\u001b[0;32m--> 403\u001b[0m     resolved_file \u001b[38;5;241m=\u001b[39m \u001b[43mhf_hub_download\u001b[49m\u001b[43m(\u001b[49m\n\u001b[1;32m    404\u001b[0m \u001b[43m        \u001b[49m\u001b[43mpath_or_repo_id\u001b[49m\u001b[43m,\u001b[49m\n\u001b[1;32m    405\u001b[0m \u001b[43m        \u001b[49m\u001b[43mfilename\u001b[49m\u001b[43m,\u001b[49m\n\u001b[1;32m    406\u001b[0m \u001b[43m        \u001b[49m\u001b[43msubfolder\u001b[49m\u001b[38;5;241;43m=\u001b[39;49m\u001b[38;5;28;43;01mNone\u001b[39;49;00m\u001b[43m \u001b[49m\u001b[38;5;28;43;01mif\u001b[39;49;00m\u001b[43m \u001b[49m\u001b[38;5;28;43mlen\u001b[39;49m\u001b[43m(\u001b[49m\u001b[43msubfolder\u001b[49m\u001b[43m)\u001b[49m\u001b[43m \u001b[49m\u001b[38;5;241;43m==\u001b[39;49m\u001b[43m \u001b[49m\u001b[38;5;241;43m0\u001b[39;49m\u001b[43m \u001b[49m\u001b[38;5;28;43;01melse\u001b[39;49;00m\u001b[43m \u001b[49m\u001b[43msubfolder\u001b[49m\u001b[43m,\u001b[49m\n\u001b[1;32m    407\u001b[0m \u001b[43m        \u001b[49m\u001b[43mrepo_type\u001b[49m\u001b[38;5;241;43m=\u001b[39;49m\u001b[43mrepo_type\u001b[49m\u001b[43m,\u001b[49m\n\u001b[1;32m    408\u001b[0m \u001b[43m        \u001b[49m\u001b[43mrevision\u001b[49m\u001b[38;5;241;43m=\u001b[39;49m\u001b[43mrevision\u001b[49m\u001b[43m,\u001b[49m\n\u001b[1;32m    409\u001b[0m \u001b[43m        \u001b[49m\u001b[43mcache_dir\u001b[49m\u001b[38;5;241;43m=\u001b[39;49m\u001b[43mcache_dir\u001b[49m\u001b[43m,\u001b[49m\n\u001b[1;32m    410\u001b[0m \u001b[43m        \u001b[49m\u001b[43muser_agent\u001b[49m\u001b[38;5;241;43m=\u001b[39;49m\u001b[43muser_agent\u001b[49m\u001b[43m,\u001b[49m\n\u001b[1;32m    411\u001b[0m \u001b[43m        \u001b[49m\u001b[43mforce_download\u001b[49m\u001b[38;5;241;43m=\u001b[39;49m\u001b[43mforce_download\u001b[49m\u001b[43m,\u001b[49m\n\u001b[1;32m    412\u001b[0m \u001b[43m        \u001b[49m\u001b[43mproxies\u001b[49m\u001b[38;5;241;43m=\u001b[39;49m\u001b[43mproxies\u001b[49m\u001b[43m,\u001b[49m\n\u001b[1;32m    413\u001b[0m \u001b[43m        \u001b[49m\u001b[43mresume_download\u001b[49m\u001b[38;5;241;43m=\u001b[39;49m\u001b[43mresume_download\u001b[49m\u001b[43m,\u001b[49m\n\u001b[1;32m    414\u001b[0m \u001b[43m        \u001b[49m\u001b[43mtoken\u001b[49m\u001b[38;5;241;43m=\u001b[39;49m\u001b[43mtoken\u001b[49m\u001b[43m,\u001b[49m\n\u001b[1;32m    415\u001b[0m \u001b[43m        \u001b[49m\u001b[43mlocal_files_only\u001b[49m\u001b[38;5;241;43m=\u001b[39;49m\u001b[43mlocal_files_only\u001b[49m\u001b[43m,\u001b[49m\n\u001b[1;32m    416\u001b[0m \u001b[43m    \u001b[49m\u001b[43m)\u001b[49m\n\u001b[1;32m    417\u001b[0m \u001b[38;5;28;01mexcept\u001b[39;00m GatedRepoError \u001b[38;5;28;01mas\u001b[39;00m e:\n",
      "File \u001b[0;32m~/github/Generative_AI_on_arm/venv/lib/python3.12/site-packages/huggingface_hub/utils/_validators.py:114\u001b[0m, in \u001b[0;36mvalidate_hf_hub_args.<locals>._inner_fn\u001b[0;34m(*args, **kwargs)\u001b[0m\n\u001b[1;32m    112\u001b[0m     kwargs \u001b[38;5;241m=\u001b[39m smoothly_deprecate_use_auth_token(fn_name\u001b[38;5;241m=\u001b[39mfn\u001b[38;5;241m.\u001b[39m\u001b[38;5;18m__name__\u001b[39m, has_token\u001b[38;5;241m=\u001b[39mhas_token, kwargs\u001b[38;5;241m=\u001b[39mkwargs)\n\u001b[0;32m--> 114\u001b[0m \u001b[38;5;28;01mreturn\u001b[39;00m \u001b[43mfn\u001b[49m\u001b[43m(\u001b[49m\u001b[38;5;241;43m*\u001b[39;49m\u001b[43margs\u001b[49m\u001b[43m,\u001b[49m\u001b[43m \u001b[49m\u001b[38;5;241;43m*\u001b[39;49m\u001b[38;5;241;43m*\u001b[39;49m\u001b[43mkwargs\u001b[49m\u001b[43m)\u001b[49m\n",
      "File \u001b[0;32m~/github/Generative_AI_on_arm/venv/lib/python3.12/site-packages/huggingface_hub/file_download.py:862\u001b[0m, in \u001b[0;36mhf_hub_download\u001b[0;34m(repo_id, filename, subfolder, repo_type, revision, library_name, library_version, cache_dir, local_dir, user_agent, force_download, proxies, etag_timeout, token, local_files_only, headers, endpoint, resume_download, force_filename, local_dir_use_symlinks)\u001b[0m\n\u001b[1;32m    861\u001b[0m \u001b[38;5;28;01melse\u001b[39;00m:\n\u001b[0;32m--> 862\u001b[0m     \u001b[38;5;28;01mreturn\u001b[39;00m \u001b[43m_hf_hub_download_to_cache_dir\u001b[49m\u001b[43m(\u001b[49m\n\u001b[1;32m    863\u001b[0m \u001b[43m        \u001b[49m\u001b[38;5;66;43;03m# Destination\u001b[39;49;00m\n\u001b[1;32m    864\u001b[0m \u001b[43m        \u001b[49m\u001b[43mcache_dir\u001b[49m\u001b[38;5;241;43m=\u001b[39;49m\u001b[43mcache_dir\u001b[49m\u001b[43m,\u001b[49m\n\u001b[1;32m    865\u001b[0m \u001b[43m        \u001b[49m\u001b[38;5;66;43;03m# File info\u001b[39;49;00m\n\u001b[1;32m    866\u001b[0m \u001b[43m        \u001b[49m\u001b[43mrepo_id\u001b[49m\u001b[38;5;241;43m=\u001b[39;49m\u001b[43mrepo_id\u001b[49m\u001b[43m,\u001b[49m\n\u001b[1;32m    867\u001b[0m \u001b[43m        \u001b[49m\u001b[43mfilename\u001b[49m\u001b[38;5;241;43m=\u001b[39;49m\u001b[43mfilename\u001b[49m\u001b[43m,\u001b[49m\n\u001b[1;32m    868\u001b[0m \u001b[43m        \u001b[49m\u001b[43mrepo_type\u001b[49m\u001b[38;5;241;43m=\u001b[39;49m\u001b[43mrepo_type\u001b[49m\u001b[43m,\u001b[49m\n\u001b[1;32m    869\u001b[0m \u001b[43m        \u001b[49m\u001b[43mrevision\u001b[49m\u001b[38;5;241;43m=\u001b[39;49m\u001b[43mrevision\u001b[49m\u001b[43m,\u001b[49m\n\u001b[1;32m    870\u001b[0m \u001b[43m        \u001b[49m\u001b[38;5;66;43;03m# HTTP info\u001b[39;49;00m\n\u001b[1;32m    871\u001b[0m \u001b[43m        \u001b[49m\u001b[43mendpoint\u001b[49m\u001b[38;5;241;43m=\u001b[39;49m\u001b[43mendpoint\u001b[49m\u001b[43m,\u001b[49m\n\u001b[1;32m    872\u001b[0m \u001b[43m        \u001b[49m\u001b[43metag_timeout\u001b[49m\u001b[38;5;241;43m=\u001b[39;49m\u001b[43metag_timeout\u001b[49m\u001b[43m,\u001b[49m\n\u001b[1;32m    873\u001b[0m \u001b[43m        \u001b[49m\u001b[43mheaders\u001b[49m\u001b[38;5;241;43m=\u001b[39;49m\u001b[43mheaders\u001b[49m\u001b[43m,\u001b[49m\n\u001b[1;32m    874\u001b[0m \u001b[43m        \u001b[49m\u001b[43mproxies\u001b[49m\u001b[38;5;241;43m=\u001b[39;49m\u001b[43mproxies\u001b[49m\u001b[43m,\u001b[49m\n\u001b[1;32m    875\u001b[0m \u001b[43m        \u001b[49m\u001b[43mtoken\u001b[49m\u001b[38;5;241;43m=\u001b[39;49m\u001b[43mtoken\u001b[49m\u001b[43m,\u001b[49m\n\u001b[1;32m    876\u001b[0m \u001b[43m        \u001b[49m\u001b[38;5;66;43;03m# Additional options\u001b[39;49;00m\n\u001b[1;32m    877\u001b[0m \u001b[43m        \u001b[49m\u001b[43mlocal_files_only\u001b[49m\u001b[38;5;241;43m=\u001b[39;49m\u001b[43mlocal_files_only\u001b[49m\u001b[43m,\u001b[49m\n\u001b[1;32m    878\u001b[0m \u001b[43m        \u001b[49m\u001b[43mforce_download\u001b[49m\u001b[38;5;241;43m=\u001b[39;49m\u001b[43mforce_download\u001b[49m\u001b[43m,\u001b[49m\n\u001b[1;32m    879\u001b[0m \u001b[43m    \u001b[49m\u001b[43m)\u001b[49m\n",
      "File \u001b[0;32m~/github/Generative_AI_on_arm/venv/lib/python3.12/site-packages/huggingface_hub/file_download.py:969\u001b[0m, in \u001b[0;36m_hf_hub_download_to_cache_dir\u001b[0;34m(cache_dir, repo_id, filename, repo_type, revision, endpoint, etag_timeout, headers, proxies, token, local_files_only, force_download)\u001b[0m\n\u001b[1;32m    968\u001b[0m     \u001b[38;5;66;03m# Otherwise, raise appropriate error\u001b[39;00m\n\u001b[0;32m--> 969\u001b[0m     \u001b[43m_raise_on_head_call_error\u001b[49m\u001b[43m(\u001b[49m\u001b[43mhead_call_error\u001b[49m\u001b[43m,\u001b[49m\u001b[43m \u001b[49m\u001b[43mforce_download\u001b[49m\u001b[43m,\u001b[49m\u001b[43m \u001b[49m\u001b[43mlocal_files_only\u001b[49m\u001b[43m)\u001b[49m\n\u001b[1;32m    971\u001b[0m \u001b[38;5;66;03m# From now on, etag, commit_hash, url and size are not None.\u001b[39;00m\n",
      "File \u001b[0;32m~/github/Generative_AI_on_arm/venv/lib/python3.12/site-packages/huggingface_hub/file_download.py:1484\u001b[0m, in \u001b[0;36m_raise_on_head_call_error\u001b[0;34m(head_call_error, force_download, local_files_only)\u001b[0m\n\u001b[1;32m   1482\u001b[0m \u001b[38;5;28;01melif\u001b[39;00m \u001b[38;5;28misinstance\u001b[39m(head_call_error, RepositoryNotFoundError) \u001b[38;5;129;01mor\u001b[39;00m \u001b[38;5;28misinstance\u001b[39m(head_call_error, GatedRepoError):\n\u001b[1;32m   1483\u001b[0m     \u001b[38;5;66;03m# Repo not found or gated => let's raise the actual error\u001b[39;00m\n\u001b[0;32m-> 1484\u001b[0m     \u001b[38;5;28;01mraise\u001b[39;00m head_call_error\n\u001b[1;32m   1485\u001b[0m \u001b[38;5;28;01melse\u001b[39;00m:\n\u001b[1;32m   1486\u001b[0m     \u001b[38;5;66;03m# Otherwise: most likely a connection issue or Hub downtime => let's warn the user\u001b[39;00m\n",
      "File \u001b[0;32m~/github/Generative_AI_on_arm/venv/lib/python3.12/site-packages/huggingface_hub/file_download.py:1376\u001b[0m, in \u001b[0;36m_get_metadata_or_catch_error\u001b[0;34m(repo_id, filename, repo_type, revision, endpoint, proxies, etag_timeout, headers, token, local_files_only, relative_filename, storage_folder)\u001b[0m\n\u001b[1;32m   1375\u001b[0m \u001b[38;5;28;01mtry\u001b[39;00m:\n\u001b[0;32m-> 1376\u001b[0m     metadata \u001b[38;5;241m=\u001b[39m \u001b[43mget_hf_file_metadata\u001b[49m\u001b[43m(\u001b[49m\n\u001b[1;32m   1377\u001b[0m \u001b[43m        \u001b[49m\u001b[43murl\u001b[49m\u001b[38;5;241;43m=\u001b[39;49m\u001b[43murl\u001b[49m\u001b[43m,\u001b[49m\u001b[43m \u001b[49m\u001b[43mproxies\u001b[49m\u001b[38;5;241;43m=\u001b[39;49m\u001b[43mproxies\u001b[49m\u001b[43m,\u001b[49m\u001b[43m \u001b[49m\u001b[43mtimeout\u001b[49m\u001b[38;5;241;43m=\u001b[39;49m\u001b[43metag_timeout\u001b[49m\u001b[43m,\u001b[49m\u001b[43m \u001b[49m\u001b[43mheaders\u001b[49m\u001b[38;5;241;43m=\u001b[39;49m\u001b[43mheaders\u001b[49m\u001b[43m,\u001b[49m\u001b[43m \u001b[49m\u001b[43mtoken\u001b[49m\u001b[38;5;241;43m=\u001b[39;49m\u001b[43mtoken\u001b[49m\n\u001b[1;32m   1378\u001b[0m \u001b[43m    \u001b[49m\u001b[43m)\u001b[49m\n\u001b[1;32m   1379\u001b[0m \u001b[38;5;28;01mexcept\u001b[39;00m EntryNotFoundError \u001b[38;5;28;01mas\u001b[39;00m http_error:\n",
      "File \u001b[0;32m~/github/Generative_AI_on_arm/venv/lib/python3.12/site-packages/huggingface_hub/utils/_validators.py:114\u001b[0m, in \u001b[0;36mvalidate_hf_hub_args.<locals>._inner_fn\u001b[0;34m(*args, **kwargs)\u001b[0m\n\u001b[1;32m    112\u001b[0m     kwargs \u001b[38;5;241m=\u001b[39m smoothly_deprecate_use_auth_token(fn_name\u001b[38;5;241m=\u001b[39mfn\u001b[38;5;241m.\u001b[39m\u001b[38;5;18m__name__\u001b[39m, has_token\u001b[38;5;241m=\u001b[39mhas_token, kwargs\u001b[38;5;241m=\u001b[39mkwargs)\n\u001b[0;32m--> 114\u001b[0m \u001b[38;5;28;01mreturn\u001b[39;00m \u001b[43mfn\u001b[49m\u001b[43m(\u001b[49m\u001b[38;5;241;43m*\u001b[39;49m\u001b[43margs\u001b[49m\u001b[43m,\u001b[49m\u001b[43m \u001b[49m\u001b[38;5;241;43m*\u001b[39;49m\u001b[38;5;241;43m*\u001b[39;49m\u001b[43mkwargs\u001b[49m\u001b[43m)\u001b[49m\n",
      "File \u001b[0;32m~/github/Generative_AI_on_arm/venv/lib/python3.12/site-packages/huggingface_hub/file_download.py:1296\u001b[0m, in \u001b[0;36mget_hf_file_metadata\u001b[0;34m(url, token, proxies, timeout, library_name, library_version, user_agent, headers)\u001b[0m\n\u001b[1;32m   1295\u001b[0m \u001b[38;5;66;03m# Retrieve metadata\u001b[39;00m\n\u001b[0;32m-> 1296\u001b[0m r \u001b[38;5;241m=\u001b[39m \u001b[43m_request_wrapper\u001b[49m\u001b[43m(\u001b[49m\n\u001b[1;32m   1297\u001b[0m \u001b[43m    \u001b[49m\u001b[43mmethod\u001b[49m\u001b[38;5;241;43m=\u001b[39;49m\u001b[38;5;124;43m\"\u001b[39;49m\u001b[38;5;124;43mHEAD\u001b[39;49m\u001b[38;5;124;43m\"\u001b[39;49m\u001b[43m,\u001b[49m\n\u001b[1;32m   1298\u001b[0m \u001b[43m    \u001b[49m\u001b[43murl\u001b[49m\u001b[38;5;241;43m=\u001b[39;49m\u001b[43murl\u001b[49m\u001b[43m,\u001b[49m\n\u001b[1;32m   1299\u001b[0m \u001b[43m    \u001b[49m\u001b[43mheaders\u001b[49m\u001b[38;5;241;43m=\u001b[39;49m\u001b[43mheaders\u001b[49m\u001b[43m,\u001b[49m\n\u001b[1;32m   1300\u001b[0m \u001b[43m    \u001b[49m\u001b[43mallow_redirects\u001b[49m\u001b[38;5;241;43m=\u001b[39;49m\u001b[38;5;28;43;01mFalse\u001b[39;49;00m\u001b[43m,\u001b[49m\n\u001b[1;32m   1301\u001b[0m \u001b[43m    \u001b[49m\u001b[43mfollow_relative_redirects\u001b[49m\u001b[38;5;241;43m=\u001b[39;49m\u001b[38;5;28;43;01mTrue\u001b[39;49;00m\u001b[43m,\u001b[49m\n\u001b[1;32m   1302\u001b[0m \u001b[43m    \u001b[49m\u001b[43mproxies\u001b[49m\u001b[38;5;241;43m=\u001b[39;49m\u001b[43mproxies\u001b[49m\u001b[43m,\u001b[49m\n\u001b[1;32m   1303\u001b[0m \u001b[43m    \u001b[49m\u001b[43mtimeout\u001b[49m\u001b[38;5;241;43m=\u001b[39;49m\u001b[43mtimeout\u001b[49m\u001b[43m,\u001b[49m\n\u001b[1;32m   1304\u001b[0m \u001b[43m\u001b[49m\u001b[43m)\u001b[49m\n\u001b[1;32m   1305\u001b[0m hf_raise_for_status(r)\n",
      "File \u001b[0;32m~/github/Generative_AI_on_arm/venv/lib/python3.12/site-packages/huggingface_hub/file_download.py:277\u001b[0m, in \u001b[0;36m_request_wrapper\u001b[0;34m(method, url, follow_relative_redirects, **params)\u001b[0m\n\u001b[1;32m    276\u001b[0m \u001b[38;5;28;01mif\u001b[39;00m follow_relative_redirects:\n\u001b[0;32m--> 277\u001b[0m     response \u001b[38;5;241m=\u001b[39m \u001b[43m_request_wrapper\u001b[49m\u001b[43m(\u001b[49m\n\u001b[1;32m    278\u001b[0m \u001b[43m        \u001b[49m\u001b[43mmethod\u001b[49m\u001b[38;5;241;43m=\u001b[39;49m\u001b[43mmethod\u001b[49m\u001b[43m,\u001b[49m\n\u001b[1;32m    279\u001b[0m \u001b[43m        \u001b[49m\u001b[43murl\u001b[49m\u001b[38;5;241;43m=\u001b[39;49m\u001b[43murl\u001b[49m\u001b[43m,\u001b[49m\n\u001b[1;32m    280\u001b[0m \u001b[43m        \u001b[49m\u001b[43mfollow_relative_redirects\u001b[49m\u001b[38;5;241;43m=\u001b[39;49m\u001b[38;5;28;43;01mFalse\u001b[39;49;00m\u001b[43m,\u001b[49m\n\u001b[1;32m    281\u001b[0m \u001b[43m        \u001b[49m\u001b[38;5;241;43m*\u001b[39;49m\u001b[38;5;241;43m*\u001b[39;49m\u001b[43mparams\u001b[49m\u001b[43m,\u001b[49m\n\u001b[1;32m    282\u001b[0m \u001b[43m    \u001b[49m\u001b[43m)\u001b[49m\n\u001b[1;32m    284\u001b[0m     \u001b[38;5;66;03m# If redirection, we redirect only relative paths.\u001b[39;00m\n\u001b[1;32m    285\u001b[0m     \u001b[38;5;66;03m# This is useful in case of a renamed repository.\u001b[39;00m\n",
      "File \u001b[0;32m~/github/Generative_AI_on_arm/venv/lib/python3.12/site-packages/huggingface_hub/file_download.py:301\u001b[0m, in \u001b[0;36m_request_wrapper\u001b[0;34m(method, url, follow_relative_redirects, **params)\u001b[0m\n\u001b[1;32m    300\u001b[0m response \u001b[38;5;241m=\u001b[39m get_session()\u001b[38;5;241m.\u001b[39mrequest(method\u001b[38;5;241m=\u001b[39mmethod, url\u001b[38;5;241m=\u001b[39murl, \u001b[38;5;241m*\u001b[39m\u001b[38;5;241m*\u001b[39mparams)\n\u001b[0;32m--> 301\u001b[0m \u001b[43mhf_raise_for_status\u001b[49m\u001b[43m(\u001b[49m\u001b[43mresponse\u001b[49m\u001b[43m)\u001b[49m\n\u001b[1;32m    302\u001b[0m \u001b[38;5;28;01mreturn\u001b[39;00m response\n",
      "File \u001b[0;32m~/github/Generative_AI_on_arm/venv/lib/python3.12/site-packages/huggingface_hub/utils/_http.py:423\u001b[0m, in \u001b[0;36mhf_raise_for_status\u001b[0;34m(response, endpoint_name)\u001b[0m\n\u001b[1;32m    420\u001b[0m     message \u001b[38;5;241m=\u001b[39m (\n\u001b[1;32m    421\u001b[0m         \u001b[38;5;124mf\u001b[39m\u001b[38;5;124m\"\u001b[39m\u001b[38;5;132;01m{\u001b[39;00mresponse\u001b[38;5;241m.\u001b[39mstatus_code\u001b[38;5;132;01m}\u001b[39;00m\u001b[38;5;124m Client Error.\u001b[39m\u001b[38;5;124m\"\u001b[39m \u001b[38;5;241m+\u001b[39m \u001b[38;5;124m\"\u001b[39m\u001b[38;5;130;01m\\n\u001b[39;00m\u001b[38;5;130;01m\\n\u001b[39;00m\u001b[38;5;124m\"\u001b[39m \u001b[38;5;241m+\u001b[39m \u001b[38;5;124mf\u001b[39m\u001b[38;5;124m\"\u001b[39m\u001b[38;5;124mCannot access gated repo for url \u001b[39m\u001b[38;5;132;01m{\u001b[39;00mresponse\u001b[38;5;241m.\u001b[39murl\u001b[38;5;132;01m}\u001b[39;00m\u001b[38;5;124m.\u001b[39m\u001b[38;5;124m\"\u001b[39m\n\u001b[1;32m    422\u001b[0m     )\n\u001b[0;32m--> 423\u001b[0m     \u001b[38;5;28;01mraise\u001b[39;00m _format(GatedRepoError, message, response) \u001b[38;5;28;01mfrom\u001b[39;00m \u001b[38;5;21;01me\u001b[39;00m\n\u001b[1;32m    425\u001b[0m \u001b[38;5;28;01melif\u001b[39;00m error_message \u001b[38;5;241m==\u001b[39m \u001b[38;5;124m\"\u001b[39m\u001b[38;5;124mAccess to this resource is disabled.\u001b[39m\u001b[38;5;124m\"\u001b[39m:\n",
      "\u001b[0;31mGatedRepoError\u001b[0m: 401 Client Error. (Request ID: Root=1-6745b40b-66a751db26e6f0610c0487fa;14799d29-367c-4a1d-8e50-fae74b4c39e1)\n\nCannot access gated repo for url https://huggingface.co/meta-llama/Llama-3.2-1B/resolve/main/config.json.\nAccess to model meta-llama/Llama-3.2-1B is restricted. You must have access to it and be authenticated to access it. Please log in.",
      "\nThe above exception was the direct cause of the following exception:\n",
      "\u001b[0;31mOSError\u001b[0m                                   Traceback (most recent call last)",
      "Cell \u001b[0;32mIn[13], line 4\u001b[0m\n\u001b[1;32m      1\u001b[0m \u001b[38;5;28;01mfrom\u001b[39;00m \u001b[38;5;21;01mtransformers\u001b[39;00m \u001b[38;5;28;01mimport\u001b[39;00m AutoTokenizer, AutoModelForCausalLM\n\u001b[0;32m----> 4\u001b[0m tokenizer \u001b[38;5;241m=\u001b[39m \u001b[43mAutoTokenizer\u001b[49m\u001b[38;5;241;43m.\u001b[39;49m\u001b[43mfrom_pretrained\u001b[49m\u001b[43m(\u001b[49m\u001b[38;5;124;43m\"\u001b[39;49m\u001b[38;5;124;43mmeta-llama/Llama-3.2-1B\u001b[39;49m\u001b[38;5;124;43m\"\u001b[39;49m\u001b[43m)\u001b[49m\n\u001b[1;32m      5\u001b[0m model \u001b[38;5;241m=\u001b[39m AutoModelForCausalLM\u001b[38;5;241m.\u001b[39mfrom_pretrained(\u001b[38;5;124m\"\u001b[39m\u001b[38;5;124mmeta-llama/Llama-3.2-1B\u001b[39m\u001b[38;5;124m\"\u001b[39m)\n",
      "File \u001b[0;32m~/github/Generative_AI_on_arm/venv/lib/python3.12/site-packages/transformers/models/auto/tokenization_auto.py:877\u001b[0m, in \u001b[0;36mAutoTokenizer.from_pretrained\u001b[0;34m(cls, pretrained_model_name_or_path, *inputs, **kwargs)\u001b[0m\n\u001b[1;32m    875\u001b[0m         config \u001b[38;5;241m=\u001b[39m AutoConfig\u001b[38;5;241m.\u001b[39mfor_model(\u001b[38;5;241m*\u001b[39m\u001b[38;5;241m*\u001b[39mconfig_dict)\n\u001b[1;32m    876\u001b[0m     \u001b[38;5;28;01melse\u001b[39;00m:\n\u001b[0;32m--> 877\u001b[0m         config \u001b[38;5;241m=\u001b[39m \u001b[43mAutoConfig\u001b[49m\u001b[38;5;241;43m.\u001b[39;49m\u001b[43mfrom_pretrained\u001b[49m\u001b[43m(\u001b[49m\n\u001b[1;32m    878\u001b[0m \u001b[43m            \u001b[49m\u001b[43mpretrained_model_name_or_path\u001b[49m\u001b[43m,\u001b[49m\u001b[43m \u001b[49m\u001b[43mtrust_remote_code\u001b[49m\u001b[38;5;241;43m=\u001b[39;49m\u001b[43mtrust_remote_code\u001b[49m\u001b[43m,\u001b[49m\u001b[43m \u001b[49m\u001b[38;5;241;43m*\u001b[39;49m\u001b[38;5;241;43m*\u001b[39;49m\u001b[43mkwargs\u001b[49m\n\u001b[1;32m    879\u001b[0m \u001b[43m        \u001b[49m\u001b[43m)\u001b[49m\n\u001b[1;32m    880\u001b[0m config_tokenizer_class \u001b[38;5;241m=\u001b[39m config\u001b[38;5;241m.\u001b[39mtokenizer_class\n\u001b[1;32m    881\u001b[0m \u001b[38;5;28;01mif\u001b[39;00m \u001b[38;5;28mhasattr\u001b[39m(config, \u001b[38;5;124m\"\u001b[39m\u001b[38;5;124mauto_map\u001b[39m\u001b[38;5;124m\"\u001b[39m) \u001b[38;5;129;01mand\u001b[39;00m \u001b[38;5;124m\"\u001b[39m\u001b[38;5;124mAutoTokenizer\u001b[39m\u001b[38;5;124m\"\u001b[39m \u001b[38;5;129;01min\u001b[39;00m config\u001b[38;5;241m.\u001b[39mauto_map:\n",
      "File \u001b[0;32m~/github/Generative_AI_on_arm/venv/lib/python3.12/site-packages/transformers/models/auto/configuration_auto.py:1017\u001b[0m, in \u001b[0;36mAutoConfig.from_pretrained\u001b[0;34m(cls, pretrained_model_name_or_path, **kwargs)\u001b[0m\n\u001b[1;32m   1014\u001b[0m trust_remote_code \u001b[38;5;241m=\u001b[39m kwargs\u001b[38;5;241m.\u001b[39mpop(\u001b[38;5;124m\"\u001b[39m\u001b[38;5;124mtrust_remote_code\u001b[39m\u001b[38;5;124m\"\u001b[39m, \u001b[38;5;28;01mNone\u001b[39;00m)\n\u001b[1;32m   1015\u001b[0m code_revision \u001b[38;5;241m=\u001b[39m kwargs\u001b[38;5;241m.\u001b[39mpop(\u001b[38;5;124m\"\u001b[39m\u001b[38;5;124mcode_revision\u001b[39m\u001b[38;5;124m\"\u001b[39m, \u001b[38;5;28;01mNone\u001b[39;00m)\n\u001b[0;32m-> 1017\u001b[0m config_dict, unused_kwargs \u001b[38;5;241m=\u001b[39m \u001b[43mPretrainedConfig\u001b[49m\u001b[38;5;241;43m.\u001b[39;49m\u001b[43mget_config_dict\u001b[49m\u001b[43m(\u001b[49m\u001b[43mpretrained_model_name_or_path\u001b[49m\u001b[43m,\u001b[49m\u001b[43m \u001b[49m\u001b[38;5;241;43m*\u001b[39;49m\u001b[38;5;241;43m*\u001b[39;49m\u001b[43mkwargs\u001b[49m\u001b[43m)\u001b[49m\n\u001b[1;32m   1018\u001b[0m has_remote_code \u001b[38;5;241m=\u001b[39m \u001b[38;5;124m\"\u001b[39m\u001b[38;5;124mauto_map\u001b[39m\u001b[38;5;124m\"\u001b[39m \u001b[38;5;129;01min\u001b[39;00m config_dict \u001b[38;5;129;01mand\u001b[39;00m \u001b[38;5;124m\"\u001b[39m\u001b[38;5;124mAutoConfig\u001b[39m\u001b[38;5;124m\"\u001b[39m \u001b[38;5;129;01min\u001b[39;00m config_dict[\u001b[38;5;124m\"\u001b[39m\u001b[38;5;124mauto_map\u001b[39m\u001b[38;5;124m\"\u001b[39m]\n\u001b[1;32m   1019\u001b[0m has_local_code \u001b[38;5;241m=\u001b[39m \u001b[38;5;124m\"\u001b[39m\u001b[38;5;124mmodel_type\u001b[39m\u001b[38;5;124m\"\u001b[39m \u001b[38;5;129;01min\u001b[39;00m config_dict \u001b[38;5;129;01mand\u001b[39;00m config_dict[\u001b[38;5;124m\"\u001b[39m\u001b[38;5;124mmodel_type\u001b[39m\u001b[38;5;124m\"\u001b[39m] \u001b[38;5;129;01min\u001b[39;00m CONFIG_MAPPING\n",
      "File \u001b[0;32m~/github/Generative_AI_on_arm/venv/lib/python3.12/site-packages/transformers/configuration_utils.py:574\u001b[0m, in \u001b[0;36mPretrainedConfig.get_config_dict\u001b[0;34m(cls, pretrained_model_name_or_path, **kwargs)\u001b[0m\n\u001b[1;32m    572\u001b[0m original_kwargs \u001b[38;5;241m=\u001b[39m copy\u001b[38;5;241m.\u001b[39mdeepcopy(kwargs)\n\u001b[1;32m    573\u001b[0m \u001b[38;5;66;03m# Get config dict associated with the base config file\u001b[39;00m\n\u001b[0;32m--> 574\u001b[0m config_dict, kwargs \u001b[38;5;241m=\u001b[39m \u001b[38;5;28;43mcls\u001b[39;49m\u001b[38;5;241;43m.\u001b[39;49m\u001b[43m_get_config_dict\u001b[49m\u001b[43m(\u001b[49m\u001b[43mpretrained_model_name_or_path\u001b[49m\u001b[43m,\u001b[49m\u001b[43m \u001b[49m\u001b[38;5;241;43m*\u001b[39;49m\u001b[38;5;241;43m*\u001b[39;49m\u001b[43mkwargs\u001b[49m\u001b[43m)\u001b[49m\n\u001b[1;32m    575\u001b[0m \u001b[38;5;28;01mif\u001b[39;00m config_dict \u001b[38;5;129;01mis\u001b[39;00m \u001b[38;5;28;01mNone\u001b[39;00m:\n\u001b[1;32m    576\u001b[0m     \u001b[38;5;28;01mreturn\u001b[39;00m {}, kwargs\n",
      "File \u001b[0;32m~/github/Generative_AI_on_arm/venv/lib/python3.12/site-packages/transformers/configuration_utils.py:633\u001b[0m, in \u001b[0;36mPretrainedConfig._get_config_dict\u001b[0;34m(cls, pretrained_model_name_or_path, **kwargs)\u001b[0m\n\u001b[1;32m    629\u001b[0m configuration_file \u001b[38;5;241m=\u001b[39m kwargs\u001b[38;5;241m.\u001b[39mpop(\u001b[38;5;124m\"\u001b[39m\u001b[38;5;124m_configuration_file\u001b[39m\u001b[38;5;124m\"\u001b[39m, CONFIG_NAME) \u001b[38;5;28;01mif\u001b[39;00m gguf_file \u001b[38;5;129;01mis\u001b[39;00m \u001b[38;5;28;01mNone\u001b[39;00m \u001b[38;5;28;01melse\u001b[39;00m gguf_file\n\u001b[1;32m    631\u001b[0m \u001b[38;5;28;01mtry\u001b[39;00m:\n\u001b[1;32m    632\u001b[0m     \u001b[38;5;66;03m# Load from local folder or from cache or download from model Hub and cache\u001b[39;00m\n\u001b[0;32m--> 633\u001b[0m     resolved_config_file \u001b[38;5;241m=\u001b[39m \u001b[43mcached_file\u001b[49m\u001b[43m(\u001b[49m\n\u001b[1;32m    634\u001b[0m \u001b[43m        \u001b[49m\u001b[43mpretrained_model_name_or_path\u001b[49m\u001b[43m,\u001b[49m\n\u001b[1;32m    635\u001b[0m \u001b[43m        \u001b[49m\u001b[43mconfiguration_file\u001b[49m\u001b[43m,\u001b[49m\n\u001b[1;32m    636\u001b[0m \u001b[43m        \u001b[49m\u001b[43mcache_dir\u001b[49m\u001b[38;5;241;43m=\u001b[39;49m\u001b[43mcache_dir\u001b[49m\u001b[43m,\u001b[49m\n\u001b[1;32m    637\u001b[0m \u001b[43m        \u001b[49m\u001b[43mforce_download\u001b[49m\u001b[38;5;241;43m=\u001b[39;49m\u001b[43mforce_download\u001b[49m\u001b[43m,\u001b[49m\n\u001b[1;32m    638\u001b[0m \u001b[43m        \u001b[49m\u001b[43mproxies\u001b[49m\u001b[38;5;241;43m=\u001b[39;49m\u001b[43mproxies\u001b[49m\u001b[43m,\u001b[49m\n\u001b[1;32m    639\u001b[0m \u001b[43m        \u001b[49m\u001b[43mresume_download\u001b[49m\u001b[38;5;241;43m=\u001b[39;49m\u001b[43mresume_download\u001b[49m\u001b[43m,\u001b[49m\n\u001b[1;32m    640\u001b[0m \u001b[43m        \u001b[49m\u001b[43mlocal_files_only\u001b[49m\u001b[38;5;241;43m=\u001b[39;49m\u001b[43mlocal_files_only\u001b[49m\u001b[43m,\u001b[49m\n\u001b[1;32m    641\u001b[0m \u001b[43m        \u001b[49m\u001b[43mtoken\u001b[49m\u001b[38;5;241;43m=\u001b[39;49m\u001b[43mtoken\u001b[49m\u001b[43m,\u001b[49m\n\u001b[1;32m    642\u001b[0m \u001b[43m        \u001b[49m\u001b[43muser_agent\u001b[49m\u001b[38;5;241;43m=\u001b[39;49m\u001b[43muser_agent\u001b[49m\u001b[43m,\u001b[49m\n\u001b[1;32m    643\u001b[0m \u001b[43m        \u001b[49m\u001b[43mrevision\u001b[49m\u001b[38;5;241;43m=\u001b[39;49m\u001b[43mrevision\u001b[49m\u001b[43m,\u001b[49m\n\u001b[1;32m    644\u001b[0m \u001b[43m        \u001b[49m\u001b[43msubfolder\u001b[49m\u001b[38;5;241;43m=\u001b[39;49m\u001b[43msubfolder\u001b[49m\u001b[43m,\u001b[49m\n\u001b[1;32m    645\u001b[0m \u001b[43m        \u001b[49m\u001b[43m_commit_hash\u001b[49m\u001b[38;5;241;43m=\u001b[39;49m\u001b[43mcommit_hash\u001b[49m\u001b[43m,\u001b[49m\n\u001b[1;32m    646\u001b[0m \u001b[43m    \u001b[49m\u001b[43m)\u001b[49m\n\u001b[1;32m    647\u001b[0m     \u001b[38;5;28;01mif\u001b[39;00m resolved_config_file \u001b[38;5;129;01mis\u001b[39;00m \u001b[38;5;28;01mNone\u001b[39;00m:\n\u001b[1;32m    648\u001b[0m         \u001b[38;5;28;01mreturn\u001b[39;00m \u001b[38;5;28;01mNone\u001b[39;00m, kwargs\n",
      "File \u001b[0;32m~/github/Generative_AI_on_arm/venv/lib/python3.12/site-packages/transformers/utils/hub.py:421\u001b[0m, in \u001b[0;36mcached_file\u001b[0;34m(path_or_repo_id, filename, cache_dir, force_download, resume_download, proxies, token, revision, local_files_only, subfolder, repo_type, user_agent, _raise_exceptions_for_gated_repo, _raise_exceptions_for_missing_entries, _raise_exceptions_for_connection_errors, _commit_hash, **deprecated_kwargs)\u001b[0m\n\u001b[1;32m    419\u001b[0m     \u001b[38;5;28;01mif\u001b[39;00m resolved_file \u001b[38;5;129;01mis\u001b[39;00m \u001b[38;5;129;01mnot\u001b[39;00m \u001b[38;5;28;01mNone\u001b[39;00m \u001b[38;5;129;01mor\u001b[39;00m \u001b[38;5;129;01mnot\u001b[39;00m _raise_exceptions_for_gated_repo:\n\u001b[1;32m    420\u001b[0m         \u001b[38;5;28;01mreturn\u001b[39;00m resolved_file\n\u001b[0;32m--> 421\u001b[0m     \u001b[38;5;28;01mraise\u001b[39;00m \u001b[38;5;167;01mEnvironmentError\u001b[39;00m(\n\u001b[1;32m    422\u001b[0m         \u001b[38;5;124m\"\u001b[39m\u001b[38;5;124mYou are trying to access a gated repo.\u001b[39m\u001b[38;5;130;01m\\n\u001b[39;00m\u001b[38;5;124mMake sure to have access to it at \u001b[39m\u001b[38;5;124m\"\u001b[39m\n\u001b[1;32m    423\u001b[0m         \u001b[38;5;124mf\u001b[39m\u001b[38;5;124m\"\u001b[39m\u001b[38;5;124mhttps://huggingface.co/\u001b[39m\u001b[38;5;132;01m{\u001b[39;00mpath_or_repo_id\u001b[38;5;132;01m}\u001b[39;00m\u001b[38;5;124m.\u001b[39m\u001b[38;5;130;01m\\n\u001b[39;00m\u001b[38;5;132;01m{\u001b[39;00m\u001b[38;5;28mstr\u001b[39m(e)\u001b[38;5;132;01m}\u001b[39;00m\u001b[38;5;124m\"\u001b[39m\n\u001b[1;32m    424\u001b[0m     ) \u001b[38;5;28;01mfrom\u001b[39;00m \u001b[38;5;21;01me\u001b[39;00m\n\u001b[1;32m    425\u001b[0m \u001b[38;5;28;01mexcept\u001b[39;00m RepositoryNotFoundError \u001b[38;5;28;01mas\u001b[39;00m e:\n\u001b[1;32m    426\u001b[0m     \u001b[38;5;28;01mraise\u001b[39;00m \u001b[38;5;167;01mEnvironmentError\u001b[39;00m(\n\u001b[1;32m    427\u001b[0m         \u001b[38;5;124mf\u001b[39m\u001b[38;5;124m\"\u001b[39m\u001b[38;5;132;01m{\u001b[39;00mpath_or_repo_id\u001b[38;5;132;01m}\u001b[39;00m\u001b[38;5;124m is not a local folder and is not a valid model identifier \u001b[39m\u001b[38;5;124m\"\u001b[39m\n\u001b[1;32m    428\u001b[0m         \u001b[38;5;124m\"\u001b[39m\u001b[38;5;124mlisted on \u001b[39m\u001b[38;5;124m'\u001b[39m\u001b[38;5;124mhttps://huggingface.co/models\u001b[39m\u001b[38;5;124m'\u001b[39m\u001b[38;5;130;01m\\n\u001b[39;00m\u001b[38;5;124mIf this is a private repository, make sure to pass a token \u001b[39m\u001b[38;5;124m\"\u001b[39m\n\u001b[1;32m    429\u001b[0m         \u001b[38;5;124m\"\u001b[39m\u001b[38;5;124mhaving permission to this repo either by logging in with `huggingface-cli login` or by passing \u001b[39m\u001b[38;5;124m\"\u001b[39m\n\u001b[1;32m    430\u001b[0m         \u001b[38;5;124m\"\u001b[39m\u001b[38;5;124m`token=<your_token>`\u001b[39m\u001b[38;5;124m\"\u001b[39m\n\u001b[1;32m    431\u001b[0m     ) \u001b[38;5;28;01mfrom\u001b[39;00m \u001b[38;5;21;01me\u001b[39;00m\n",
      "\u001b[0;31mOSError\u001b[0m: You are trying to access a gated repo.\nMake sure to have access to it at https://huggingface.co/meta-llama/Llama-3.2-1B.\n401 Client Error. (Request ID: Root=1-6745b40b-66a751db26e6f0610c0487fa;14799d29-367c-4a1d-8e50-fae74b4c39e1)\n\nCannot access gated repo for url https://huggingface.co/meta-llama/Llama-3.2-1B/resolve/main/config.json.\nAccess to model meta-llama/Llama-3.2-1B is restricted. You must have access to it and be authenticated to access it. Please log in."
     ]
    }
   ],
   "source": [
    "from transformers import AutoTokenizer, AutoModelForCausalLM\n",
    "\n",
    "\n",
    "tokenizer = AutoTokenizer.from_pretrained(\"meta-llama/Llama-3.2-1B\")\n",
    "model = AutoModelForCausalLM.from_pretrained(\"meta-llama/Llama-3.2-1B\")"
   ]
  },
  {
   "cell_type": "code",
   "execution_count": null,
   "metadata": {},
   "outputs": [],
   "source": [
    "prompt = \"ARM is a company that designs\" \n",
    "inputs = tokenizer(prompt, return_tensors=\"pt\")\n",
    "outputs = model.generate(**inputs, max_length=50)\n",
    "generated_text = tokenizer.decode(outputs[0], skip_special_tokens=True)\n",
    "print(generated_text)"
   ]
  },
  {
   "cell_type": "code",
   "execution_count": null,
   "metadata": {},
   "outputs": [],
   "source": [
    "model"
   ]
  },
  {
   "cell_type": "markdown",
   "metadata": {},
   "source": [
    "Custom Quantization"
   ]
  },
  {
   "cell_type": "code",
   "execution_count": null,
   "metadata": {},
   "outputs": [],
   "source": [
    "import torch\n",
    "import math\n",
    "import torch.nn as nn\n",
    "\n",
    "class WeightOnlyInt8Linear(nn.Module): \n",
    "    def __init__(self, in_features, out_features, bias=True): \n",
    "        super().__init__()\n",
    "        self.in_features = in_features\n",
    "        self.out_features = out_features \n",
    "        self.scale = nn.Parameter(torch.ones(1), requires_grad=False)\n",
    "        self.weight = nn.Parameter(torch.Tensor(out_features, in_features))\n",
    "        if bias: \n",
    "            self.bias = nn.Parameter(torch.Tensor(out_features))\n",
    "        else: \n",
    "            self.register_parameter('bias', None)\n",
    "        self.reset_parameters()\n",
    "\n",
    "    def reset_parameters(self):\n",
    "        nn.init.kaiming_uniform_(self.weight, a=math.sqrt(5))\n",
    "        if self.bias is not None:\n",
    "            fan_in, _ = nn.init._calculate_fan_in_and_fan_out(self.weight)\n",
    "            bound = 1 / math.sqrt(fan_in)\n",
    "            nn.init.uniform_(self.bias, -bound, bound)\n",
    "\n",
    "    def setup(self, fp_weight): \n",
    "        quantized, scale = self.quantize(fp_weight)\n",
    "        self.weight.data = quantized \n",
    "        self.scale.data = scale\n",
    "\n",
    "    def quantize(self, tensor):\n",
    "        qmin = -(2 ** 31)\n",
    "        qmax = 2 ** 31 - 1\n",
    "        absmax = tensor.abs().max()\n",
    "        \n",
    "        # Avoid division by zero by adding a small epsilon\n",
    "        eps = 1e-8\n",
    "        scale = torch.tensor((absmax / qmax).clamp(min=eps))\n",
    "        \n",
    "        quantized = torch.round(tensor / scale).clamp(qmin, qmax)\n",
    "        return quantized, scale\n",
    "\n",
    "    def forward(self, x):\n",
    "        # Dequantize the weights\n",
    "        dequantized_weight = self.weight * self.scale\n",
    "        \n",
    "        # Perform the matrix multiplication\n",
    "        output = torch.matmul(x, dequantized_weight.t())\n",
    "        \n",
    "        # Add the bias if it exists\n",
    "        if self.bias is not None:\n",
    "            output += self.bias\n",
    "            \n",
    "        # Avoid inf values by clamping the output (if needed)\n",
    "        output = output.clamp(-1e4, 1e4)  # Example clamping, adjust based on your requirements\n",
    "        \n",
    "        return output\n"
   ]
  },
  {
   "cell_type": "code",
   "execution_count": null,
   "metadata": {},
   "outputs": [],
   "source": [
    "def quantize_model(model): \n",
    "    for name, module in list(model.named_modules()): \n",
    "        if isinstance(module, nn.Linear): \n",
    "            module = WeightOnlyInt8Linear(module.in_features, module.out_features)\n",
    "            module.setup(module.weight.data)\n",
    "            setattr(model, name, module)\n",
    "    return model\n",
    "\n",
    "model = quantize_model(model)"
   ]
  },
  {
   "cell_type": "code",
   "execution_count": null,
   "metadata": {},
   "outputs": [],
   "source": [
    "model"
   ]
  },
  {
   "cell_type": "markdown",
   "metadata": {},
   "source": []
  },
  {
   "cell_type": "code",
   "execution_count": null,
   "metadata": {},
   "outputs": [],
   "source": [
    "prompt = \"ARM is a company that designs\" \n",
    "inputs = tokenizer(prompt, return_tensors=\"pt\")\n",
    "outputs = model.generate(**inputs, max_length=50)\n",
    "generated_text = tokenizer.decode(outputs[0], skip_special_tokens=True)\n",
    "print(generated_text)"
   ]
  },
  {
   "cell_type": "code",
   "execution_count": null,
   "metadata": {},
   "outputs": [],
   "source": []
  }
 ],
 "metadata": {
  "kernelspec": {
   "display_name": "Python 3 (ipykernel)",
   "language": "python",
   "name": "python3"
  },
  "language_info": {
   "codemirror_mode": {
    "name": "ipython",
    "version": 3
   },
   "file_extension": ".py",
   "mimetype": "text/x-python",
   "name": "python",
   "nbconvert_exporter": "python",
   "pygments_lexer": "ipython3",
   "version": "3.12.0"
  }
 },
 "nbformat": 4,
 "nbformat_minor": 4
}
